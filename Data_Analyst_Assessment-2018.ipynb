{
 "cells": [
  {
   "cell_type": "markdown",
   "id": "d5d8be5c",
   "metadata": {},
   "source": [
    "# Assesment Question2"
   ]
  },
  {
   "cell_type": "markdown",
   "id": "02e20966",
   "metadata": {},
   "source": [
    "### Reading the Q2 2018 Data"
   ]
  },
  {
   "cell_type": "code",
   "execution_count": 1,
   "id": "9ff2844d",
   "metadata": {},
   "outputs": [],
   "source": [
    "import pandas as pd\n",
    "import numpy as np\n",
    "import matplotlib.pyplot as plt\n",
    "import seaborn as sns"
   ]
  },
  {
   "cell_type": "code",
   "execution_count": 29,
   "id": "f1e522de",
   "metadata": {},
   "outputs": [
    {
     "data": {
      "text/html": [
       "<div>\n",
       "<style scoped>\n",
       "    .dataframe tbody tr th:only-of-type {\n",
       "        vertical-align: middle;\n",
       "    }\n",
       "\n",
       "    .dataframe tbody tr th {\n",
       "        vertical-align: top;\n",
       "    }\n",
       "\n",
       "    .dataframe thead th {\n",
       "        text-align: right;\n",
       "    }\n",
       "</style>\n",
       "<table border=\"1\" class=\"dataframe\">\n",
       "  <thead>\n",
       "    <tr style=\"text-align: right;\">\n",
       "      <th></th>\n",
       "      <th>Invoice Date</th>\n",
       "      <th>Transaction Date</th>\n",
       "      <th>Package Quantity</th>\n",
       "      <th>Oversize Quantity</th>\n",
       "      <th>Tracking Number</th>\n",
       "      <th>Entered Weight</th>\n",
       "      <th>Billed Weight</th>\n",
       "      <th>Package Dimensions</th>\n",
       "      <th>Zone</th>\n",
       "      <th>Charge Description</th>\n",
       "      <th>...</th>\n",
       "      <th>Unnamed: 15</th>\n",
       "      <th>Unnamed: 16</th>\n",
       "      <th>Unnamed: 17</th>\n",
       "      <th>Unnamed: 18</th>\n",
       "      <th>Unnamed: 19</th>\n",
       "      <th>Unnamed: 20</th>\n",
       "      <th>Unnamed: 21</th>\n",
       "      <th>Unnamed: 22</th>\n",
       "      <th>Unnamed: 23</th>\n",
       "      <th>Unnamed: 24</th>\n",
       "    </tr>\n",
       "  </thead>\n",
       "  <tbody>\n",
       "    <tr>\n",
       "      <th>0</th>\n",
       "      <td>2018-08-04</td>\n",
       "      <td>2018-08-02</td>\n",
       "      <td>1</td>\n",
       "      <td>0</td>\n",
       "      <td>1Z2342VF0346355801</td>\n",
       "      <td>21.0</td>\n",
       "      <td>21</td>\n",
       "      <td>NaN</td>\n",
       "      <td>7.0</td>\n",
       "      <td>Ground Commercial Collect</td>\n",
       "      <td>...</td>\n",
       "      <td>NaN</td>\n",
       "      <td>NaN</td>\n",
       "      <td>NaN</td>\n",
       "      <td>NaN</td>\n",
       "      <td>NaN</td>\n",
       "      <td>NaN</td>\n",
       "      <td>NaN</td>\n",
       "      <td>NaN</td>\n",
       "      <td>NaN</td>\n",
       "      <td>NaN</td>\n",
       "    </tr>\n",
       "    <tr>\n",
       "      <th>1</th>\n",
       "      <td>2018-08-04</td>\n",
       "      <td>2018-08-02</td>\n",
       "      <td>0</td>\n",
       "      <td>0</td>\n",
       "      <td>1Z2342VF0346355801</td>\n",
       "      <td>0.0</td>\n",
       "      <td>0</td>\n",
       "      <td>NaN</td>\n",
       "      <td>7.0</td>\n",
       "      <td>Addl. Handling longest side</td>\n",
       "      <td>...</td>\n",
       "      <td>NaN</td>\n",
       "      <td>NaN</td>\n",
       "      <td>NaN</td>\n",
       "      <td>NaN</td>\n",
       "      <td>NaN</td>\n",
       "      <td>NaN</td>\n",
       "      <td>NaN</td>\n",
       "      <td>NaN</td>\n",
       "      <td>NaN</td>\n",
       "      <td>NaN</td>\n",
       "    </tr>\n",
       "    <tr>\n",
       "      <th>2</th>\n",
       "      <td>2018-08-04</td>\n",
       "      <td>2018-08-02</td>\n",
       "      <td>0</td>\n",
       "      <td>0</td>\n",
       "      <td>1Z2342VF0346355801</td>\n",
       "      <td>0.0</td>\n",
       "      <td>0</td>\n",
       "      <td>NaN</td>\n",
       "      <td>7.0</td>\n",
       "      <td>Declared Value</td>\n",
       "      <td>...</td>\n",
       "      <td>NaN</td>\n",
       "      <td>NaN</td>\n",
       "      <td>NaN</td>\n",
       "      <td>NaN</td>\n",
       "      <td>NaN</td>\n",
       "      <td>NaN</td>\n",
       "      <td>NaN</td>\n",
       "      <td>NaN</td>\n",
       "      <td>NaN</td>\n",
       "      <td>NaN</td>\n",
       "    </tr>\n",
       "    <tr>\n",
       "      <th>3</th>\n",
       "      <td>2018-08-04</td>\n",
       "      <td>2018-08-02</td>\n",
       "      <td>0</td>\n",
       "      <td>0</td>\n",
       "      <td>1Z2342VF0346355801</td>\n",
       "      <td>0.0</td>\n",
       "      <td>0</td>\n",
       "      <td>NaN</td>\n",
       "      <td>7.0</td>\n",
       "      <td>Fuel Surcharge</td>\n",
       "      <td>...</td>\n",
       "      <td>NaN</td>\n",
       "      <td>NaN</td>\n",
       "      <td>NaN</td>\n",
       "      <td>NaN</td>\n",
       "      <td>NaN</td>\n",
       "      <td>NaN</td>\n",
       "      <td>NaN</td>\n",
       "      <td>NaN</td>\n",
       "      <td>NaN</td>\n",
       "      <td>NaN</td>\n",
       "    </tr>\n",
       "    <tr>\n",
       "      <th>4</th>\n",
       "      <td>2018-08-04</td>\n",
       "      <td>2018-08-02</td>\n",
       "      <td>0</td>\n",
       "      <td>0</td>\n",
       "      <td>1Z2342VF0346355801</td>\n",
       "      <td>0.0</td>\n",
       "      <td>0</td>\n",
       "      <td>NaN</td>\n",
       "      <td>7.0</td>\n",
       "      <td>Addl. Handling longest side</td>\n",
       "      <td>...</td>\n",
       "      <td>NaN</td>\n",
       "      <td>NaN</td>\n",
       "      <td>NaN</td>\n",
       "      <td>NaN</td>\n",
       "      <td>NaN</td>\n",
       "      <td>NaN</td>\n",
       "      <td>NaN</td>\n",
       "      <td>NaN</td>\n",
       "      <td>NaN</td>\n",
       "      <td>NaN</td>\n",
       "    </tr>\n",
       "  </tbody>\n",
       "</table>\n",
       "<p>5 rows × 25 columns</p>\n",
       "</div>"
      ],
      "text/plain": [
       "  Invoice Date Transaction Date  Package Quantity  Oversize Quantity  \\\n",
       "0   2018-08-04       2018-08-02                 1                  0   \n",
       "1   2018-08-04       2018-08-02                 0                  0   \n",
       "2   2018-08-04       2018-08-02                 0                  0   \n",
       "3   2018-08-04       2018-08-02                 0                  0   \n",
       "4   2018-08-04       2018-08-02                 0                  0   \n",
       "\n",
       "      Tracking Number  Entered Weight  Billed Weight Package Dimensions  Zone  \\\n",
       "0  1Z2342VF0346355801            21.0             21                NaN   7.0   \n",
       "1  1Z2342VF0346355801             0.0              0                NaN   7.0   \n",
       "2  1Z2342VF0346355801             0.0              0                NaN   7.0   \n",
       "3  1Z2342VF0346355801             0.0              0                NaN   7.0   \n",
       "4  1Z2342VF0346355801             0.0              0                NaN   7.0   \n",
       "\n",
       "            Charge Description  ...  Unnamed: 15 Unnamed: 16  Unnamed: 17  \\\n",
       "0    Ground Commercial Collect  ...          NaN         NaN          NaN   \n",
       "1  Addl. Handling longest side  ...          NaN         NaN          NaN   \n",
       "2               Declared Value  ...          NaN         NaN          NaN   \n",
       "3               Fuel Surcharge  ...          NaN         NaN          NaN   \n",
       "4  Addl. Handling longest side  ...          NaN         NaN          NaN   \n",
       "\n",
       "  Unnamed: 18  Unnamed: 19  Unnamed: 20  Unnamed: 21  Unnamed: 22 Unnamed: 23  \\\n",
       "0         NaN          NaN          NaN          NaN          NaN         NaN   \n",
       "1         NaN          NaN          NaN          NaN          NaN         NaN   \n",
       "2         NaN          NaN          NaN          NaN          NaN         NaN   \n",
       "3         NaN          NaN          NaN          NaN          NaN         NaN   \n",
       "4         NaN          NaN          NaN          NaN          NaN         NaN   \n",
       "\n",
       "  Unnamed: 24  \n",
       "0         NaN  \n",
       "1         NaN  \n",
       "2         NaN  \n",
       "3         NaN  \n",
       "4         NaN  \n",
       "\n",
       "[5 rows x 25 columns]"
      ]
     },
     "execution_count": 29,
     "metadata": {},
     "output_type": "execute_result"
    }
   ],
   "source": [
    "df=pd.read_excel('Q2_2018.xlsx')\n",
    "df.head()"
   ]
  },
  {
   "cell_type": "markdown",
   "id": "f76a1e10",
   "metadata": {},
   "source": [
    "### Understanding Data"
   ]
  },
  {
   "cell_type": "code",
   "execution_count": 3,
   "id": "3639d516",
   "metadata": {},
   "outputs": [
    {
     "data": {
      "text/plain": [
       "(86999, 25)"
      ]
     },
     "execution_count": 3,
     "metadata": {},
     "output_type": "execute_result"
    }
   ],
   "source": [
    "df.shape"
   ]
  },
  {
   "cell_type": "code",
   "execution_count": 25,
   "id": "6385e520",
   "metadata": {},
   "outputs": [
    {
     "data": {
      "text/plain": [
       "Index(['Invoice Date', 'Transaction Date', 'Package Quantity',\n",
       "       'Oversize Quantity', 'Tracking Number', 'Entered Weight',\n",
       "       'Billed Weight', 'Package Dimensions', 'Zone', 'Charge Description',\n",
       "       'Net Amount', 'Sender Postal', 'Receiver Postal', 'Detail Keyed Dim',\n",
       "       'diff', 'Unnamed: 15', 'Unnamed: 16', 'Unnamed: 17', 'Unnamed: 18',\n",
       "       'Unnamed: 19', 'Unnamed: 20', 'Unnamed: 21', 'Unnamed: 22',\n",
       "       'Unnamed: 23', 'Unnamed: 24', 'Unnamed: 25', 'Unnamed: 26',\n",
       "       'Unnamed: 27', 'Unnamed: 28', 'Unnamed: 29', 'Unnamed: 30',\n",
       "       'Unnamed: 31', 'Unnamed: 32'],\n",
       "      dtype='object')"
      ]
     },
     "execution_count": 25,
     "metadata": {},
     "output_type": "execute_result"
    }
   ],
   "source": [
    "df.columns"
   ]
  },
  {
   "cell_type": "code",
   "execution_count": 5,
   "id": "df21cf47",
   "metadata": {},
   "outputs": [
    {
     "data": {
      "text/plain": [
       "Invoice Date          datetime64[ns]\n",
       "Transaction Date      datetime64[ns]\n",
       "Package Quantity               int64\n",
       "Oversize Quantity              int64\n",
       "Tracking Number               object\n",
       "Entered Weight               float64\n",
       "Billed Weight                  int64\n",
       "Package Dimensions            object\n",
       "Zone                         float64\n",
       "Charge Description            object\n",
       "Net Amount                   float64\n",
       "Sender Postal                 object\n",
       "Receiver Postal              float64\n",
       "Detail Keyed Dim              object\n",
       "diff                         float64\n",
       "Unnamed: 15                  float64\n",
       "Unnamed: 16                  float64\n",
       "Unnamed: 17                  float64\n",
       "Unnamed: 18                   object\n",
       "Unnamed: 19                   object\n",
       "Unnamed: 20                  float64\n",
       "Unnamed: 21                  float64\n",
       "Unnamed: 22                  float64\n",
       "Unnamed: 23                   object\n",
       "Unnamed: 24                   object\n",
       "dtype: object"
      ]
     },
     "execution_count": 5,
     "metadata": {},
     "output_type": "execute_result"
    }
   ],
   "source": [
    "df.dtypes"
   ]
  },
  {
   "cell_type": "markdown",
   "id": "a8c441ea",
   "metadata": {},
   "source": [
    "## Cleaning the data"
   ]
  },
  {
   "cell_type": "markdown",
   "id": "f6700879",
   "metadata": {},
   "source": [
    "### Identifying and Handling Missing Values"
   ]
  },
  {
   "cell_type": "code",
   "execution_count": 30,
   "id": "a873b806",
   "metadata": {},
   "outputs": [
    {
     "data": {
      "text/plain": [
       "Invoice Date              0\n",
       "Transaction Date          0\n",
       "Package Quantity          0\n",
       "Oversize Quantity         0\n",
       "Tracking Number           6\n",
       "Entered Weight            0\n",
       "Billed Weight             0\n",
       "Package Dimensions    85599\n",
       "Zone                     12\n",
       "Charge Description        2\n",
       "Net Amount                0\n",
       "Sender Postal           381\n",
       "Receiver Postal          12\n",
       "Detail Keyed Dim      72928\n",
       "diff                      0\n",
       "Unnamed: 15           86999\n",
       "Unnamed: 16           86999\n",
       "Unnamed: 17           86999\n",
       "Unnamed: 18           86915\n",
       "Unnamed: 19           86915\n",
       "Unnamed: 20           86999\n",
       "Unnamed: 21           86999\n",
       "Unnamed: 22           86999\n",
       "Unnamed: 23           63265\n",
       "Unnamed: 24           63265\n",
       "dtype: int64"
      ]
     },
     "execution_count": 30,
     "metadata": {},
     "output_type": "execute_result"
    }
   ],
   "source": [
    "df.isnull().sum()"
   ]
  },
  {
   "cell_type": "code",
   "execution_count": 31,
   "id": "355bbed0",
   "metadata": {},
   "outputs": [],
   "source": [
    "df=df.iloc[:,:15]  #Considering the \n"
   ]
  },
  {
   "cell_type": "code",
   "execution_count": 32,
   "id": "d87de3d7",
   "metadata": {},
   "outputs": [
    {
     "data": {
      "text/plain": [
       "(86999, 15)"
      ]
     },
     "execution_count": 32,
     "metadata": {},
     "output_type": "execute_result"
    }
   ],
   "source": [
    "df.shape"
   ]
  },
  {
   "cell_type": "code",
   "execution_count": 33,
   "id": "ab669e70",
   "metadata": {},
   "outputs": [
    {
     "data": {
      "text/plain": [
       "Invoice Date           0.000000\n",
       "Transaction Date       0.000000\n",
       "Package Quantity       0.000000\n",
       "Oversize Quantity      0.000000\n",
       "Tracking Number        0.006897\n",
       "Entered Weight         0.000000\n",
       "Billed Weight          0.000000\n",
       "Package Dimensions    98.390786\n",
       "Zone                   0.013793\n",
       "Charge Description     0.002299\n",
       "Net Amount             0.000000\n",
       "Sender Postal          0.437936\n",
       "Receiver Postal        0.013793\n",
       "Detail Keyed Dim      83.826251\n",
       "diff                   0.000000\n",
       "dtype: float64"
      ]
     },
     "execution_count": 33,
     "metadata": {},
     "output_type": "execute_result"
    }
   ],
   "source": [
    "df.isnull().sum()/df.shape[0]*100  ##percent of missing values"
   ]
  },
  {
   "cell_type": "markdown",
   "id": "9d0acb90",
   "metadata": {},
   "source": [
    "Since the variables/columns Package Dimensions and Detail Keyed Dim have more than 80 percent missing values, their presence won't be significant to the analysis. Hence, they are dropped/not considered for this analysis"
   ]
  },
  {
   "cell_type": "code",
   "execution_count": 34,
   "id": "b9975b9b",
   "metadata": {
    "scrolled": true
   },
   "outputs": [],
   "source": [
    "df=df.drop(columns=['Package Dimensions'])\n"
   ]
  },
  {
   "cell_type": "code",
   "execution_count": 35,
   "id": "934923d4",
   "metadata": {},
   "outputs": [],
   "source": [
    "df=df.drop(columns=['Detail Keyed Dim'])"
   ]
  },
  {
   "cell_type": "code",
   "execution_count": 36,
   "id": "bd878e50",
   "metadata": {},
   "outputs": [
    {
     "data": {
      "text/plain": [
       "Invoice Date            0\n",
       "Transaction Date        0\n",
       "Package Quantity        0\n",
       "Oversize Quantity       0\n",
       "Tracking Number         6\n",
       "Entered Weight          0\n",
       "Billed Weight           0\n",
       "Zone                   12\n",
       "Charge Description      2\n",
       "Net Amount              0\n",
       "Sender Postal         381\n",
       "Receiver Postal        12\n",
       "diff                    0\n",
       "dtype: int64"
      ]
     },
     "execution_count": 36,
     "metadata": {},
     "output_type": "execute_result"
    }
   ],
   "source": [
    "df.isnull().sum()"
   ]
  },
  {
   "cell_type": "code",
   "execution_count": 37,
   "id": "cb158587",
   "metadata": {},
   "outputs": [
    {
     "data": {
      "text/plain": [
       "array(['49417 2180', 8512, 2649, nan, 85123259, 11209, 6035, 11378, 8701,\n",
       "       18614, 21074, 13850, 70118, 11021, 2459, 83702765, 54313, 8889,\n",
       "       19144, 20814, 19428, 20607, 7080, 21218, 8876, 63123, 24486, 2127,\n",
       "       17025, 61734, 21231, 1571, 22153, 8755, 29841, 10040, 85122, 12737,\n",
       "       33761, 7720, 98373, 11232, 98527, 43207, 12563, 432075100, 37421,\n",
       "       43232, 75231, 62704, 13760, 97058, 92336, 80440, 7071, 84781,\n",
       "       37865, 98512, 81091, 61080, 46074, 23462, 54241, 59802, 43110,\n",
       "       89032, 75116, 30161, 80111, 23113, 84106, 28615, 97208, 22812,\n",
       "       98272, 60557, 76527, 43068, 71006, 33401, 75601, 44035, 68128,\n",
       "       77013, 30501, 33160, 78744, 66206, 46120, 76437, 10121, 90274,\n",
       "       63131, 92277, 18301, 43215, 97367, 19014, 92113, 64747, 80211,\n",
       "       46236, 7076, 77494, 27406], dtype=object)"
      ]
     },
     "execution_count": 37,
     "metadata": {},
     "output_type": "execute_result"
    }
   ],
   "source": [
    "df['Sender Postal'].unique()"
   ]
  },
  {
   "cell_type": "code",
   "execution_count": 38,
   "id": "bcc041ba",
   "metadata": {},
   "outputs": [],
   "source": [
    "df['Sender Postal'].fillna(0,inplace=True)"
   ]
  },
  {
   "cell_type": "code",
   "execution_count": 39,
   "id": "6033a837",
   "metadata": {},
   "outputs": [
    {
     "data": {
      "text/plain": [
       "Invoice Date           0\n",
       "Transaction Date       0\n",
       "Package Quantity       0\n",
       "Oversize Quantity      0\n",
       "Tracking Number        6\n",
       "Entered Weight         0\n",
       "Billed Weight          0\n",
       "Zone                  12\n",
       "Charge Description     2\n",
       "Net Amount             0\n",
       "Sender Postal          0\n",
       "Receiver Postal       12\n",
       "diff                   0\n",
       "dtype: int64"
      ]
     },
     "execution_count": 39,
     "metadata": {},
     "output_type": "execute_result"
    }
   ],
   "source": [
    "df.isnull().sum()"
   ]
  },
  {
   "cell_type": "code",
   "execution_count": 40,
   "id": "b375cf02",
   "metadata": {},
   "outputs": [],
   "source": [
    "df.dropna(inplace=True)"
   ]
  },
  {
   "cell_type": "code",
   "execution_count": 41,
   "id": "fdb4172b",
   "metadata": {},
   "outputs": [
    {
     "data": {
      "text/plain": [
       "Invoice Date          0\n",
       "Transaction Date      0\n",
       "Package Quantity      0\n",
       "Oversize Quantity     0\n",
       "Tracking Number       0\n",
       "Entered Weight        0\n",
       "Billed Weight         0\n",
       "Zone                  0\n",
       "Charge Description    0\n",
       "Net Amount            0\n",
       "Sender Postal         0\n",
       "Receiver Postal       0\n",
       "diff                  0\n",
       "dtype: int64"
      ]
     },
     "execution_count": 41,
     "metadata": {},
     "output_type": "execute_result"
    }
   ],
   "source": [
    "df.isnull().sum()"
   ]
  },
  {
   "cell_type": "markdown",
   "id": "2a1ea8e2",
   "metadata": {},
   "source": [
    "#### Cleaning the postal columns"
   ]
  },
  {
   "cell_type": "code",
   "execution_count": 42,
   "id": "f9d59790",
   "metadata": {},
   "outputs": [],
   "source": [
    "df['Receiver Postal']=df['Receiver Postal'].astype('str')"
   ]
  },
  {
   "cell_type": "code",
   "execution_count": 43,
   "id": "c5af34fc",
   "metadata": {},
   "outputs": [],
   "source": [
    "df['Sender Postal']=df['Sender Postal'].astype('str')"
   ]
  },
  {
   "cell_type": "code",
   "execution_count": 44,
   "id": "2a084d44",
   "metadata": {},
   "outputs": [],
   "source": [
    "small=df['Sender Postal'].str.len()<5"
   ]
  },
  {
   "cell_type": "code",
   "execution_count": 45,
   "id": "019ecdce",
   "metadata": {
    "collapsed": true
   },
   "outputs": [
    {
     "name": "stderr",
     "output_type": "stream",
     "text": [
      "<ipython-input-45-fca943846ee3>:1: SettingWithCopyWarning: \n",
      "A value is trying to be set on a copy of a slice from a DataFrame\n",
      "\n",
      "See the caveats in the documentation: https://pandas.pydata.org/pandas-docs/stable/user_guide/indexing.html#returning-a-view-versus-a-copy\n",
      "  df['Sender Postal'][small]='0'+ df['Sender Postal'][small]\n"
     ]
    }
   ],
   "source": [
    "df['Sender Postal'][small]='0'+ df['Sender Postal'][small]"
   ]
  },
  {
   "cell_type": "code",
   "execution_count": 47,
   "id": "50460fa0",
   "metadata": {},
   "outputs": [],
   "source": [
    "long_zip=df['Sender Postal'].str.len()>5"
   ]
  },
  {
   "cell_type": "code",
   "execution_count": 48,
   "id": "5c83761b",
   "metadata": {},
   "outputs": [
    {
     "data": {
      "text/plain": [
       "array(['49417 2180', '85123259', '83702765', '432075100'], dtype=object)"
      ]
     },
     "execution_count": 48,
     "metadata": {},
     "output_type": "execute_result"
    }
   ],
   "source": [
    "df['Sender Postal'][long_zip].unique()"
   ]
  },
  {
   "cell_type": "code",
   "execution_count": 49,
   "id": "91c9d09c",
   "metadata": {
    "collapsed": true
   },
   "outputs": [
    {
     "name": "stderr",
     "output_type": "stream",
     "text": [
      "<ipython-input-49-5713a4b9ba0d>:1: SettingWithCopyWarning: \n",
      "A value is trying to be set on a copy of a slice from a DataFrame\n",
      "\n",
      "See the caveats in the documentation: https://pandas.pydata.org/pandas-docs/stable/user_guide/indexing.html#returning-a-view-versus-a-copy\n",
      "  df['Sender Postal'][long_zip]=df['Sender Postal'][long_zip].str.slice(0,5)\n"
     ]
    }
   ],
   "source": [
    "df['Sender Postal'][long_zip]=df['Sender Postal'][long_zip].str.slice(0,5)"
   ]
  },
  {
   "cell_type": "code",
   "execution_count": 50,
   "id": "b41b1923",
   "metadata": {},
   "outputs": [
    {
     "data": {
      "text/plain": [
       "array(['49417', '08512', '02649', '00', '85123', '11209', '06035',\n",
       "       '11378', '08701', '18614', '21074', '13850', '70118', '11021',\n",
       "       '02459', '83702', '54313', '08889', '19144', '20814', '19428',\n",
       "       '20607', '07080', '21218', '08876', '63123', '24486', '02127',\n",
       "       '17025', '61734', '21231', '01571', '22153', '08755', '29841',\n",
       "       '10040', '85122', '12737', '33761', '07720', '98373', '11232',\n",
       "       '98527', '43207', '12563', '37421', '43232', '75231', '62704',\n",
       "       '13760', '97058', '92336', '80440', '07071', '84781', '37865',\n",
       "       '98512', '81091', '61080', '46074', '23462', '54241', '59802',\n",
       "       '43110', '89032', '75116', '30161', '80111', '23113', '84106',\n",
       "       '28615', '97208', '22812', '98272', '60557', '76527', '43068',\n",
       "       '71006', '33401', '75601', '44035', '68128', '77013', '30501',\n",
       "       '33160', '78744', '66206', '46120', '76437', '10121', '90274',\n",
       "       '63131', '92277', '18301', '43215', '97367', '19014', '92113',\n",
       "       '64747', '80211', '46236', '07076', '77494', '27406'], dtype=object)"
      ]
     },
     "execution_count": 50,
     "metadata": {},
     "output_type": "execute_result"
    }
   ],
   "source": [
    "df['Sender Postal'].unique()"
   ]
  },
  {
   "cell_type": "code",
   "execution_count": 52,
   "id": "c575cd99",
   "metadata": {},
   "outputs": [],
   "source": [
    "rows_w_zero=df['Sender Postal'].str.len()<3"
   ]
  },
  {
   "cell_type": "code",
   "execution_count": 53,
   "id": "cf02e3c1",
   "metadata": {
    "collapsed": true
   },
   "outputs": [
    {
     "name": "stderr",
     "output_type": "stream",
     "text": [
      "<ipython-input-53-75ce438c42c9>:1: SettingWithCopyWarning: \n",
      "A value is trying to be set on a copy of a slice from a DataFrame\n",
      "\n",
      "See the caveats in the documentation: https://pandas.pydata.org/pandas-docs/stable/user_guide/indexing.html#returning-a-view-versus-a-copy\n",
      "  df['Sender Postal'][rows_w_zero]=np.nan\n"
     ]
    }
   ],
   "source": [
    "df['Sender Postal'][rows_w_zero]=np.nan"
   ]
  },
  {
   "cell_type": "code",
   "execution_count": 54,
   "id": "981d17a9",
   "metadata": {},
   "outputs": [
    {
     "data": {
      "text/plain": [
       "array(['49417', '08512', '02649', nan, '85123', '11209', '06035', '11378',\n",
       "       '08701', '18614', '21074', '13850', '70118', '11021', '02459',\n",
       "       '83702', '54313', '08889', '19144', '20814', '19428', '20607',\n",
       "       '07080', '21218', '08876', '63123', '24486', '02127', '17025',\n",
       "       '61734', '21231', '01571', '22153', '08755', '29841', '10040',\n",
       "       '85122', '12737', '33761', '07720', '98373', '11232', '98527',\n",
       "       '43207', '12563', '37421', '43232', '75231', '62704', '13760',\n",
       "       '97058', '92336', '80440', '07071', '84781', '37865', '98512',\n",
       "       '81091', '61080', '46074', '23462', '54241', '59802', '43110',\n",
       "       '89032', '75116', '30161', '80111', '23113', '84106', '28615',\n",
       "       '97208', '22812', '98272', '60557', '76527', '43068', '71006',\n",
       "       '33401', '75601', '44035', '68128', '77013', '30501', '33160',\n",
       "       '78744', '66206', '46120', '76437', '10121', '90274', '63131',\n",
       "       '92277', '18301', '43215', '97367', '19014', '92113', '64747',\n",
       "       '80211', '46236', '07076', '77494', '27406'], dtype=object)"
      ]
     },
     "execution_count": 54,
     "metadata": {},
     "output_type": "execute_result"
    }
   ],
   "source": [
    "df['Sender Postal'].unique()"
   ]
  },
  {
   "cell_type": "code",
   "execution_count": 59,
   "id": "c75f572c",
   "metadata": {},
   "outputs": [],
   "source": [
    "df['Receiver Postal']=df['Receiver Postal'].astype('int')"
   ]
  },
  {
   "cell_type": "code",
   "execution_count": 60,
   "id": "09e2b5b2",
   "metadata": {},
   "outputs": [],
   "source": [
    "df['Receiver Postal']=df['Receiver Postal'].astype('str')"
   ]
  },
  {
   "cell_type": "code",
   "execution_count": 61,
   "id": "9b6a66f2",
   "metadata": {},
   "outputs": [
    {
     "data": {
      "text/plain": [
       "array(['89506', '1520', '26711', ..., '32024', '95519', '32533'],\n",
       "      dtype=object)"
      ]
     },
     "execution_count": 61,
     "metadata": {},
     "output_type": "execute_result"
    }
   ],
   "source": [
    "df['Receiver Postal'].unique()"
   ]
  },
  {
   "cell_type": "code",
   "execution_count": 62,
   "id": "3ea90010",
   "metadata": {},
   "outputs": [],
   "source": [
    "rows_small=df['Receiver Postal'].str.len()<5"
   ]
  },
  {
   "cell_type": "code",
   "execution_count": 63,
   "id": "d551a89f",
   "metadata": {},
   "outputs": [
    {
     "data": {
      "text/plain": [
       "array(['1520', '1760', '6901', ..., '3220', '7421', '7747'], dtype=object)"
      ]
     },
     "execution_count": 63,
     "metadata": {},
     "output_type": "execute_result"
    }
   ],
   "source": [
    "df['Receiver Postal'][rows_small].unique()"
   ]
  },
  {
   "cell_type": "code",
   "execution_count": 64,
   "id": "fb6eec0e",
   "metadata": {
    "collapsed": true
   },
   "outputs": [
    {
     "name": "stderr",
     "output_type": "stream",
     "text": [
      "<ipython-input-64-523a38283990>:1: SettingWithCopyWarning: \n",
      "A value is trying to be set on a copy of a slice from a DataFrame\n",
      "\n",
      "See the caveats in the documentation: https://pandas.pydata.org/pandas-docs/stable/user_guide/indexing.html#returning-a-view-versus-a-copy\n",
      "  df['Receiver Postal'][rows_small]='0'+ df['Receiver Postal'][rows_small]\n"
     ]
    }
   ],
   "source": [
    "df['Receiver Postal'][rows_small]='0'+ df['Receiver Postal'][rows_small]"
   ]
  },
  {
   "cell_type": "code",
   "execution_count": 65,
   "id": "9d2d1cf5",
   "metadata": {},
   "outputs": [
    {
     "data": {
      "text/plain": [
       "array(['89506', '01520', '26711', ..., '32024', '95519', '32533'],\n",
       "      dtype=object)"
      ]
     },
     "execution_count": 65,
     "metadata": {},
     "output_type": "execute_result"
    }
   ],
   "source": [
    "df['Receiver Postal'].unique()"
   ]
  },
  {
   "cell_type": "markdown",
   "id": "1e398831",
   "metadata": {},
   "source": [
    "### Analysing Data"
   ]
  },
  {
   "cell_type": "code",
   "execution_count": 155,
   "id": "6a7e8595",
   "metadata": {},
   "outputs": [
    {
     "data": {
      "text/html": [
       "<div>\n",
       "<style scoped>\n",
       "    .dataframe tbody tr th:only-of-type {\n",
       "        vertical-align: middle;\n",
       "    }\n",
       "\n",
       "    .dataframe tbody tr th {\n",
       "        vertical-align: top;\n",
       "    }\n",
       "\n",
       "    .dataframe thead th {\n",
       "        text-align: right;\n",
       "    }\n",
       "</style>\n",
       "<table border=\"1\" class=\"dataframe\">\n",
       "  <thead>\n",
       "    <tr style=\"text-align: right;\">\n",
       "      <th></th>\n",
       "      <th>Package Quantity</th>\n",
       "      <th>Oversize Quantity</th>\n",
       "      <th>Entered Weight</th>\n",
       "      <th>Billed Weight</th>\n",
       "      <th>Zone</th>\n",
       "      <th>Net Amount</th>\n",
       "      <th>diff</th>\n",
       "      <th>month</th>\n",
       "    </tr>\n",
       "  </thead>\n",
       "  <tbody>\n",
       "    <tr>\n",
       "      <th>count</th>\n",
       "      <td>86987.000000</td>\n",
       "      <td>86987.0</td>\n",
       "      <td>86987.000000</td>\n",
       "      <td>86987.000000</td>\n",
       "      <td>86987.000000</td>\n",
       "      <td>86987.000000</td>\n",
       "      <td>86987.000000</td>\n",
       "      <td>86987.000000</td>\n",
       "    </tr>\n",
       "    <tr>\n",
       "      <th>mean</th>\n",
       "      <td>0.421293</td>\n",
       "      <td>0.0</td>\n",
       "      <td>3.046807</td>\n",
       "      <td>4.025096</td>\n",
       "      <td>8.618529</td>\n",
       "      <td>2.726004</td>\n",
       "      <td>0.978289</td>\n",
       "      <td>7.207709</td>\n",
       "    </tr>\n",
       "    <tr>\n",
       "      <th>std</th>\n",
       "      <td>0.494025</td>\n",
       "      <td>0.0</td>\n",
       "      <td>8.225477</td>\n",
       "      <td>10.011422</td>\n",
       "      <td>28.604678</td>\n",
       "      <td>7.462456</td>\n",
       "      <td>4.210156</td>\n",
       "      <td>0.405868</td>\n",
       "    </tr>\n",
       "    <tr>\n",
       "      <th>min</th>\n",
       "      <td>-1.000000</td>\n",
       "      <td>0.0</td>\n",
       "      <td>0.000000</td>\n",
       "      <td>0.000000</td>\n",
       "      <td>0.000000</td>\n",
       "      <td>-74.030000</td>\n",
       "      <td>-34.000000</td>\n",
       "      <td>6.000000</td>\n",
       "    </tr>\n",
       "    <tr>\n",
       "      <th>25%</th>\n",
       "      <td>0.000000</td>\n",
       "      <td>0.0</td>\n",
       "      <td>0.000000</td>\n",
       "      <td>0.000000</td>\n",
       "      <td>2.000000</td>\n",
       "      <td>0.400000</td>\n",
       "      <td>0.000000</td>\n",
       "      <td>7.000000</td>\n",
       "    </tr>\n",
       "    <tr>\n",
       "      <th>50%</th>\n",
       "      <td>0.000000</td>\n",
       "      <td>0.0</td>\n",
       "      <td>0.000000</td>\n",
       "      <td>0.000000</td>\n",
       "      <td>4.000000</td>\n",
       "      <td>1.750000</td>\n",
       "      <td>0.000000</td>\n",
       "      <td>7.000000</td>\n",
       "    </tr>\n",
       "    <tr>\n",
       "      <th>75%</th>\n",
       "      <td>1.000000</td>\n",
       "      <td>0.0</td>\n",
       "      <td>0.900000</td>\n",
       "      <td>2.000000</td>\n",
       "      <td>5.000000</td>\n",
       "      <td>5.600000</td>\n",
       "      <td>0.100000</td>\n",
       "      <td>7.000000</td>\n",
       "    </tr>\n",
       "    <tr>\n",
       "      <th>max</th>\n",
       "      <td>1.000000</td>\n",
       "      <td>0.0</td>\n",
       "      <td>100.500000</td>\n",
       "      <td>212.000000</td>\n",
       "      <td>308.000000</td>\n",
       "      <td>650.000000</td>\n",
       "      <td>165.000000</td>\n",
       "      <td>8.000000</td>\n",
       "    </tr>\n",
       "  </tbody>\n",
       "</table>\n",
       "</div>"
      ],
      "text/plain": [
       "       Package Quantity  Oversize Quantity  Entered Weight  Billed Weight  \\\n",
       "count      86987.000000            86987.0    86987.000000   86987.000000   \n",
       "mean           0.421293                0.0        3.046807       4.025096   \n",
       "std            0.494025                0.0        8.225477      10.011422   \n",
       "min           -1.000000                0.0        0.000000       0.000000   \n",
       "25%            0.000000                0.0        0.000000       0.000000   \n",
       "50%            0.000000                0.0        0.000000       0.000000   \n",
       "75%            1.000000                0.0        0.900000       2.000000   \n",
       "max            1.000000                0.0      100.500000     212.000000   \n",
       "\n",
       "               Zone    Net Amount          diff         month  \n",
       "count  86987.000000  86987.000000  86987.000000  86987.000000  \n",
       "mean       8.618529      2.726004      0.978289      7.207709  \n",
       "std       28.604678      7.462456      4.210156      0.405868  \n",
       "min        0.000000    -74.030000    -34.000000      6.000000  \n",
       "25%        2.000000      0.400000      0.000000      7.000000  \n",
       "50%        4.000000      1.750000      0.000000      7.000000  \n",
       "75%        5.000000      5.600000      0.100000      7.000000  \n",
       "max      308.000000    650.000000    165.000000      8.000000  "
      ]
     },
     "execution_count": 155,
     "metadata": {},
     "output_type": "execute_result"
    }
   ],
   "source": [
    "df.describe()"
   ]
  },
  {
   "cell_type": "markdown",
   "id": "72fce8d1",
   "metadata": {},
   "source": [
    "#### Number of Transactions per Zone"
   ]
  },
  {
   "cell_type": "code",
   "execution_count": 68,
   "id": "7a726f47",
   "metadata": {},
   "outputs": [
    {
     "data": {
      "text/plain": [
       "2.0      23687\n",
       "4.0      18466\n",
       "3.0      15834\n",
       "5.0      11743\n",
       "8.0       6864\n",
       "6.0       5090\n",
       "7.0       2435\n",
       "208.0      292\n",
       "134.0      258\n",
       "102.0      256\n",
       "103.0      251\n",
       "205.0      216\n",
       "104.0      193\n",
       "44.0       173\n",
       "105.0      151\n",
       "207.0      119\n",
       "306.0      112\n",
       "135.0      104\n",
       "108.0      103\n",
       "308.0       95\n",
       "138.0       87\n",
       "206.0       81\n",
       "0.0         76\n",
       "133.0       52\n",
       "106.0       51\n",
       "136.0       38\n",
       "46.0        36\n",
       "107.0       33\n",
       "307.0       26\n",
       "137.0       21\n",
       "224.0       17\n",
       "126.0        8\n",
       "204.0        4\n",
       "303.0        4\n",
       "132.0        4\n",
       "203.0        4\n",
       "305.0        3\n",
       "Name: Zone, dtype: int64"
      ]
     },
     "execution_count": 68,
     "metadata": {},
     "output_type": "execute_result"
    }
   ],
   "source": [
    "df['Zone'].value_counts()"
   ]
  },
  {
   "cell_type": "markdown",
   "id": "759bb19e",
   "metadata": {},
   "source": [
    "#### Net amount per Zone (Top 10)"
   ]
  },
  {
   "cell_type": "code",
   "execution_count": 69,
   "id": "4a1d1fb3",
   "metadata": {},
   "outputs": [],
   "source": [
    "zone_amount=df.groupby('Zone')['Net Amount'].sum().sort_values(ascending=False).reset_index()"
   ]
  },
  {
   "cell_type": "code",
   "execution_count": 70,
   "id": "b6661a31",
   "metadata": {},
   "outputs": [
    {
     "data": {
      "text/html": [
       "<div>\n",
       "<style scoped>\n",
       "    .dataframe tbody tr th:only-of-type {\n",
       "        vertical-align: middle;\n",
       "    }\n",
       "\n",
       "    .dataframe tbody tr th {\n",
       "        vertical-align: top;\n",
       "    }\n",
       "\n",
       "    .dataframe thead th {\n",
       "        text-align: right;\n",
       "    }\n",
       "</style>\n",
       "<table border=\"1\" class=\"dataframe\">\n",
       "  <thead>\n",
       "    <tr style=\"text-align: right;\">\n",
       "      <th></th>\n",
       "      <th>Zone</th>\n",
       "      <th>Net Amount</th>\n",
       "    </tr>\n",
       "  </thead>\n",
       "  <tbody>\n",
       "    <tr>\n",
       "      <th>0</th>\n",
       "      <td>2.0</td>\n",
       "      <td>56537.20</td>\n",
       "    </tr>\n",
       "    <tr>\n",
       "      <th>1</th>\n",
       "      <td>4.0</td>\n",
       "      <td>44752.35</td>\n",
       "    </tr>\n",
       "    <tr>\n",
       "      <th>2</th>\n",
       "      <td>3.0</td>\n",
       "      <td>36516.62</td>\n",
       "    </tr>\n",
       "    <tr>\n",
       "      <th>3</th>\n",
       "      <td>5.0</td>\n",
       "      <td>33486.12</td>\n",
       "    </tr>\n",
       "    <tr>\n",
       "      <th>4</th>\n",
       "      <td>8.0</td>\n",
       "      <td>22527.40</td>\n",
       "    </tr>\n",
       "    <tr>\n",
       "      <th>5</th>\n",
       "      <td>6.0</td>\n",
       "      <td>13993.53</td>\n",
       "    </tr>\n",
       "    <tr>\n",
       "      <th>6</th>\n",
       "      <td>7.0</td>\n",
       "      <td>6865.82</td>\n",
       "    </tr>\n",
       "    <tr>\n",
       "      <th>7</th>\n",
       "      <td>208.0</td>\n",
       "      <td>2292.17</td>\n",
       "    </tr>\n",
       "    <tr>\n",
       "      <th>8</th>\n",
       "      <td>105.0</td>\n",
       "      <td>1965.01</td>\n",
       "    </tr>\n",
       "    <tr>\n",
       "      <th>9</th>\n",
       "      <td>134.0</td>\n",
       "      <td>1905.86</td>\n",
       "    </tr>\n",
       "  </tbody>\n",
       "</table>\n",
       "</div>"
      ],
      "text/plain": [
       "    Zone  Net Amount\n",
       "0    2.0    56537.20\n",
       "1    4.0    44752.35\n",
       "2    3.0    36516.62\n",
       "3    5.0    33486.12\n",
       "4    8.0    22527.40\n",
       "5    6.0    13993.53\n",
       "6    7.0     6865.82\n",
       "7  208.0     2292.17\n",
       "8  105.0     1965.01\n",
       "9  134.0     1905.86"
      ]
     },
     "execution_count": 70,
     "metadata": {},
     "output_type": "execute_result"
    }
   ],
   "source": [
    "zone_amount.head(10)"
   ]
  },
  {
   "cell_type": "markdown",
   "id": "334beb94",
   "metadata": {},
   "source": [
    "#### Number of transactions per Charge"
   ]
  },
  {
   "cell_type": "code",
   "execution_count": 71,
   "id": "8b9957f1",
   "metadata": {},
   "outputs": [
    {
     "data": {
      "text/plain": [
       "Fuel Surcharge                        23988\n",
       "Ground Residential                    20334\n",
       "Residential Surcharge                 14719\n",
       "Ground Commercial                     12077\n",
       "Delivery Area Surcharge - Extended     4326\n",
       "                                      ...  \n",
       "Missing/Invalid Acct No.                  1\n",
       "Saturday Delivery                         1\n",
       "3 Day Select Undeliverable Return         1\n",
       "Void Addl. Handling weight                1\n",
       "GSR Next Day Air Early Commercial         1\n",
       "Name: Charge Description, Length: 77, dtype: int64"
      ]
     },
     "execution_count": 71,
     "metadata": {},
     "output_type": "execute_result"
    }
   ],
   "source": [
    "df['Charge Description'].value_counts()"
   ]
  },
  {
   "cell_type": "code",
   "execution_count": 156,
   "id": "b21c2ea3",
   "metadata": {},
   "outputs": [
    {
     "data": {
      "text/plain": [
       "Fuel Surcharge                               23988\n",
       "Ground Residential                           20334\n",
       "Residential Surcharge                        14719\n",
       "Ground Commercial                            12077\n",
       "Delivery Area Surcharge - Extended            4326\n",
       "Delivery Area Surcharge                       3301\n",
       "Shipping Charge Correction Ground             1549\n",
       "Addl. Handling second long. Side              1054\n",
       "Shipping Charge Correction Fuel Surcharge     1031\n",
       "Residential Adjustment                         899\n",
       "Name: Charge Description, dtype: int64"
      ]
     },
     "execution_count": 156,
     "metadata": {},
     "output_type": "execute_result"
    }
   ],
   "source": [
    "df['Charge Description'].value_counts()[:10]"
   ]
  },
  {
   "cell_type": "code",
   "execution_count": 160,
   "id": "5e7324ba",
   "metadata": {},
   "outputs": [
    {
     "data": {
      "image/png": "[encoded data removed]",
      "text/plain": [
       "<Figure size 1080x576 with 1 Axes>"
      ]
     },
     "metadata": {
      "needs_background": "light"
     },
     "output_type": "display_data"
    }
   ],
   "source": [
    "plt.figure(figsize=(15,8))\n",
    "sns.barplot(x=df['Charge Description'].value_counts().index[0:5],y=df['Charge Description'].value_counts()[0:5],data=df)\n",
    "plt.title(\"Top 5 frequently occuring Charges\", fontsize=20)\n",
    "plt.xlabel(\"Charge\", fontsize=16)\n",
    "plt.ylabel(\"Num of Transactions\", fontsize=16)\n",
    "plt.show()"
   ]
  },
  {
   "cell_type": "markdown",
   "id": "8a282b92",
   "metadata": {},
   "source": [
    "#### Net amount for Charge Description(top 10)"
   ]
  },
  {
   "cell_type": "code",
   "execution_count": 126,
   "id": "eb5e1cde",
   "metadata": {},
   "outputs": [],
   "source": [
    "net_amt_charge=df.groupby('Charge Description')['Net Amount'].sum().sort_values(ascending=False).reset_index()"
   ]
  },
  {
   "cell_type": "code",
   "execution_count": 127,
   "id": "2e52a885",
   "metadata": {},
   "outputs": [
    {
     "data": {
      "text/html": [
       "<div>\n",
       "<style scoped>\n",
       "    .dataframe tbody tr th:only-of-type {\n",
       "        vertical-align: middle;\n",
       "    }\n",
       "\n",
       "    .dataframe tbody tr th {\n",
       "        vertical-align: top;\n",
       "    }\n",
       "\n",
       "    .dataframe thead th {\n",
       "        text-align: right;\n",
       "    }\n",
       "</style>\n",
       "<table border=\"1\" class=\"dataframe\">\n",
       "  <thead>\n",
       "    <tr style=\"text-align: right;\">\n",
       "      <th></th>\n",
       "      <th>Charge Description</th>\n",
       "      <th>Net Amount</th>\n",
       "    </tr>\n",
       "  </thead>\n",
       "  <tbody>\n",
       "    <tr>\n",
       "      <th>0</th>\n",
       "      <td>Ground Residential</td>\n",
       "      <td>87320.53</td>\n",
       "    </tr>\n",
       "    <tr>\n",
       "      <th>1</th>\n",
       "      <td>Ground Commercial</td>\n",
       "      <td>55989.26</td>\n",
       "    </tr>\n",
       "    <tr>\n",
       "      <th>2</th>\n",
       "      <td>Residential Surcharge</td>\n",
       "      <td>25609.86</td>\n",
       "    </tr>\n",
       "    <tr>\n",
       "      <th>3</th>\n",
       "      <td>Fuel Surcharge</td>\n",
       "      <td>11815.40</td>\n",
       "    </tr>\n",
       "    <tr>\n",
       "      <th>4</th>\n",
       "      <td>Delivery Area Surcharge - Extended</td>\n",
       "      <td>9094.15</td>\n",
       "    </tr>\n",
       "    <tr>\n",
       "      <th>5</th>\n",
       "      <td>Shipping Charge Correction Large Package Surch...</td>\n",
       "      <td>8640.00</td>\n",
       "    </tr>\n",
       "    <tr>\n",
       "      <th>6</th>\n",
       "      <td>Delivery Area Surcharge</td>\n",
       "      <td>5093.46</td>\n",
       "    </tr>\n",
       "    <tr>\n",
       "      <th>7</th>\n",
       "      <td>Shipping Charge Correction Over Maximum Size</td>\n",
       "      <td>3900.00</td>\n",
       "    </tr>\n",
       "    <tr>\n",
       "      <th>8</th>\n",
       "      <td>Shipping Charge Correction Large Package Surch...</td>\n",
       "      <td>3328.00</td>\n",
       "    </tr>\n",
       "    <tr>\n",
       "      <th>9</th>\n",
       "      <td>Next Day Air Commercial</td>\n",
       "      <td>3024.34</td>\n",
       "    </tr>\n",
       "  </tbody>\n",
       "</table>\n",
       "</div>"
      ],
      "text/plain": [
       "                                  Charge Description  Net Amount\n",
       "0                                 Ground Residential    87320.53\n",
       "1                                  Ground Commercial    55989.26\n",
       "2                              Residential Surcharge    25609.86\n",
       "3                                     Fuel Surcharge    11815.40\n",
       "4                 Delivery Area Surcharge - Extended     9094.15\n",
       "5  Shipping Charge Correction Large Package Surch...     8640.00\n",
       "6                            Delivery Area Surcharge     5093.46\n",
       "7       Shipping Charge Correction Over Maximum Size     3900.00\n",
       "8  Shipping Charge Correction Large Package Surch...     3328.00\n",
       "9                            Next Day Air Commercial     3024.34"
      ]
     },
     "execution_count": 127,
     "metadata": {},
     "output_type": "execute_result"
    }
   ],
   "source": [
    "net_amt_charge.head(10)\n"
   ]
  },
  {
   "cell_type": "code",
   "execution_count": 128,
   "id": "20f0f78d",
   "metadata": {},
   "outputs": [
    {
     "data": {
      "image/png": "[encoded data removed]",
      "text/plain": [
       "<Figure size 1440x720 with 1 Axes>"
      ]
     },
     "metadata": {
      "needs_background": "light"
     },
     "output_type": "display_data"
    }
   ],
   "source": [
    "plt.figure(figsize=(20,10))\n",
    "sns.barplot(x=net_amt_charge['Charge Description'][0:5],y=net_amt_charge['Net Amount'][0:5],data=net_amt_charge)\n",
    "plt.title(\"Top 5 Highest Amount Charges\", fontsize=20)\n",
    "plt.xlabel(\"Charge\", fontsize=16)\n",
    "plt.ylabel(\"Net Amount\", fontsize=16)\n",
    "plt.show()"
   ]
  },
  {
   "cell_type": "markdown",
   "id": "cad8ee8b",
   "metadata": {},
   "source": [
    "#### Average Net Amount for Charges"
   ]
  },
  {
   "cell_type": "code",
   "execution_count": 129,
   "id": "cea9b7ae",
   "metadata": {},
   "outputs": [],
   "source": [
    "avg_amt_charge=df.groupby('Charge Description')['Net Amount'].mean().sort_values(ascending=False).reset_index()"
   ]
  },
  {
   "cell_type": "code",
   "execution_count": 161,
   "id": "915c795d",
   "metadata": {},
   "outputs": [],
   "source": [
    "avg_amt_charge.columns=['Charge Description','Avg Net Amount']"
   ]
  },
  {
   "cell_type": "code",
   "execution_count": 162,
   "id": "dbe2f1e8",
   "metadata": {},
   "outputs": [
    {
     "data": {
      "text/html": [
       "<div>\n",
       "<style scoped>\n",
       "    .dataframe tbody tr th:only-of-type {\n",
       "        vertical-align: middle;\n",
       "    }\n",
       "\n",
       "    .dataframe tbody tr th {\n",
       "        vertical-align: top;\n",
       "    }\n",
       "\n",
       "    .dataframe thead th {\n",
       "        text-align: right;\n",
       "    }\n",
       "</style>\n",
       "<table border=\"1\" class=\"dataframe\">\n",
       "  <thead>\n",
       "    <tr style=\"text-align: right;\">\n",
       "      <th></th>\n",
       "      <th>Charge Description</th>\n",
       "      <th>Avg Net Amount</th>\n",
       "    </tr>\n",
       "  </thead>\n",
       "  <tbody>\n",
       "    <tr>\n",
       "      <th>0</th>\n",
       "      <td>Shipping Charge Correction Over Maximum Size</td>\n",
       "      <td>650.000000</td>\n",
       "    </tr>\n",
       "    <tr>\n",
       "      <th>1</th>\n",
       "      <td>Shipping Charge Correction Large Package Surch...</td>\n",
       "      <td>72.000000</td>\n",
       "    </tr>\n",
       "    <tr>\n",
       "      <th>2</th>\n",
       "      <td>Shipping Charge Correction LPS Longest Side Re...</td>\n",
       "      <td>72.000000</td>\n",
       "    </tr>\n",
       "    <tr>\n",
       "      <th>3</th>\n",
       "      <td>Shipping Charge Correction Large Package Surch...</td>\n",
       "      <td>64.000000</td>\n",
       "    </tr>\n",
       "    <tr>\n",
       "      <th>4</th>\n",
       "      <td>Next Day Air Early Commercial</td>\n",
       "      <td>56.116667</td>\n",
       "    </tr>\n",
       "    <tr>\n",
       "      <th>5</th>\n",
       "      <td>Next Day Air Early Residential</td>\n",
       "      <td>48.108889</td>\n",
       "    </tr>\n",
       "    <tr>\n",
       "      <th>6</th>\n",
       "      <td>Early Surcharge</td>\n",
       "      <td>30.000000</td>\n",
       "    </tr>\n",
       "    <tr>\n",
       "      <th>7</th>\n",
       "      <td>Next Day Air Saver Commercial</td>\n",
       "      <td>18.252527</td>\n",
       "    </tr>\n",
       "    <tr>\n",
       "      <th>8</th>\n",
       "      <td>Remote Area Surcharge</td>\n",
       "      <td>17.000000</td>\n",
       "    </tr>\n",
       "    <tr>\n",
       "      <th>9</th>\n",
       "      <td>3 Day Select Commercial</td>\n",
       "      <td>16.096000</td>\n",
       "    </tr>\n",
       "  </tbody>\n",
       "</table>\n",
       "</div>"
      ],
      "text/plain": [
       "                                  Charge Description  Avg Net Amount\n",
       "0       Shipping Charge Correction Over Maximum Size      650.000000\n",
       "1  Shipping Charge Correction Large Package Surch...       72.000000\n",
       "2  Shipping Charge Correction LPS Longest Side Re...       72.000000\n",
       "3  Shipping Charge Correction Large Package Surch...       64.000000\n",
       "4                      Next Day Air Early Commercial       56.116667\n",
       "5                     Next Day Air Early Residential       48.108889\n",
       "6                                    Early Surcharge       30.000000\n",
       "7                      Next Day Air Saver Commercial       18.252527\n",
       "8                              Remote Area Surcharge       17.000000\n",
       "9                            3 Day Select Commercial       16.096000"
      ]
     },
     "execution_count": 162,
     "metadata": {},
     "output_type": "execute_result"
    }
   ],
   "source": [
    "avg_amt_charge.head(10)"
   ]
  },
  {
   "cell_type": "code",
   "execution_count": 163,
   "id": "c9d8f242",
   "metadata": {},
   "outputs": [
    {
     "data": {
      "image/png": "[encoded data removed]",
      "text/plain": [
       "<Figure size 1800x720 with 1 Axes>"
      ]
     },
     "metadata": {
      "needs_background": "light"
     },
     "output_type": "display_data"
    }
   ],
   "source": [
    "plt.figure(figsize=(25,10))\n",
    "sns.barplot(x=avg_amt_charge['Charge Description'][0:5],y=avg_amt_charge['Avg Net Amount'][0:5],data=avg_amt_charge)\n",
    "plt.title(\"Top 5 Avg Amount per Charge\", fontsize=20)\n",
    "plt.xlabel(\"Charge\", fontsize=16)\n",
    "plt.ylabel(\"Avg Net Amount\", fontsize=16)\n",
    "plt.show()"
   ]
  },
  {
   "cell_type": "markdown",
   "id": "0174176c",
   "metadata": {},
   "source": [
    "#### Analysis of 'diff'\n",
    "##### diff- Column that contains the difference between the 'Entered Weight' and 'Billed Weight'"
   ]
  },
  {
   "cell_type": "code",
   "execution_count": 83,
   "id": "ae783583",
   "metadata": {},
   "outputs": [
    {
     "data": {
      "text/plain": [
       "85098.4"
      ]
     },
     "execution_count": 83,
     "metadata": {},
     "output_type": "execute_result"
    }
   ],
   "source": [
    "df['diff'].sum()"
   ]
  },
  {
   "cell_type": "code",
   "execution_count": 84,
   "id": "4a88e498",
   "metadata": {},
   "outputs": [
    {
     "data": {
      "text/plain": [
       "0.9782887098072135"
      ]
     },
     "execution_count": 84,
     "metadata": {},
     "output_type": "execute_result"
    }
   ],
   "source": [
    "df['diff'].mean()"
   ]
  },
  {
   "cell_type": "code",
   "execution_count": 87,
   "id": "5b7fa8c3",
   "metadata": {},
   "outputs": [
    {
     "data": {
      "text/plain": [
       "<AxesSubplot:>"
      ]
     },
     "execution_count": 87,
     "metadata": {},
     "output_type": "execute_result"
    },
    {
     "data": {
      "image/png": "[encoded data removed]",
      "text/plain": [
       "<Figure size 432x288 with 1 Axes>"
      ]
     },
     "metadata": {
      "needs_background": "light"
     },
     "output_type": "display_data"
    }
   ],
   "source": [
    "df.boxplot('diff')"
   ]
  },
  {
   "cell_type": "markdown",
   "id": "10dd4d7a",
   "metadata": {},
   "source": [
    "#### Relationship between Billed Weight and Entered Weight"
   ]
  },
  {
   "cell_type": "code",
   "execution_count": 88,
   "id": "825de6f9",
   "metadata": {},
   "outputs": [
    {
     "data": {
      "image/png": "[encoded data removed]",
      "text/plain": [
       "<Figure size 432x288 with 1 Axes>"
      ]
     },
     "metadata": {
      "needs_background": "light"
     },
     "output_type": "display_data"
    }
   ],
   "source": [
    "weight=df.plot.scatter(x='Billed Weight',y='Entered Weight')"
   ]
  },
  {
   "cell_type": "markdown",
   "id": "8af3a062",
   "metadata": {},
   "source": [
    "#### Relationship between Billed Weight and Net Amount"
   ]
  },
  {
   "cell_type": "code",
   "execution_count": 89,
   "id": "9ef3f942",
   "metadata": {},
   "outputs": [
    {
     "data": {
      "image/png": "[encoded data removed]",
      "text/plain": [
       "<Figure size 432x288 with 1 Axes>"
      ]
     },
     "metadata": {
      "needs_background": "light"
     },
     "output_type": "display_data"
    }
   ],
   "source": [
    "bweight_amount=df.plot.scatter(x='Billed Weight',y='Net Amount')"
   ]
  },
  {
   "cell_type": "markdown",
   "id": "465a0039",
   "metadata": {},
   "source": [
    "#### Relationship between Entered Weight and Net Amount\n"
   ]
  },
  {
   "cell_type": "code",
   "execution_count": 90,
   "id": "dab7a2b6",
   "metadata": {},
   "outputs": [
    {
     "data": {
      "image/png": "[encoded data removed]",
      "text/plain": [
       "<Figure size 432x288 with 1 Axes>"
      ]
     },
     "metadata": {
      "needs_background": "light"
     },
     "output_type": "display_data"
    }
   ],
   "source": [
    "eweight_amount=df.plot.scatter(x='Entered Weight',y='Net Amount')"
   ]
  },
  {
   "cell_type": "markdown",
   "id": "24d1b49f",
   "metadata": {},
   "source": [
    "#### Correlation Analysis"
   ]
  },
  {
   "cell_type": "code",
   "execution_count": 154,
   "id": "cb02a9c4",
   "metadata": {},
   "outputs": [
    {
     "data": {
      "image/png": "[encoded data removed]",
      "text/plain": [
       "<Figure size 576x432 with 2 Axes>"
      ]
     },
     "metadata": {
      "needs_background": "light"
     },
     "output_type": "display_data"
    }
   ],
   "source": [
    "plt.figure(figsize=[8,6])\n",
    "sns.heatmap(df.corr(), annot=True, cmap='Blues')\n",
    "plt.show()"
   ]
  },
  {
   "cell_type": "markdown",
   "id": "39e473cd",
   "metadata": {},
   "source": [
    "#### Analysis of 'Transaction Date'"
   ]
  },
  {
   "cell_type": "code",
   "execution_count": 134,
   "id": "8d868d35",
   "metadata": {},
   "outputs": [],
   "source": [
    "import datetime"
   ]
  },
  {
   "cell_type": "code",
   "execution_count": 135,
   "id": "a288c856",
   "metadata": {},
   "outputs": [
    {
     "data": {
      "text/html": [
       "<div>\n",
       "<style scoped>\n",
       "    .dataframe tbody tr th:only-of-type {\n",
       "        vertical-align: middle;\n",
       "    }\n",
       "\n",
       "    .dataframe tbody tr th {\n",
       "        vertical-align: top;\n",
       "    }\n",
       "\n",
       "    .dataframe thead th {\n",
       "        text-align: right;\n",
       "    }\n",
       "</style>\n",
       "<table border=\"1\" class=\"dataframe\">\n",
       "  <thead>\n",
       "    <tr style=\"text-align: right;\">\n",
       "      <th></th>\n",
       "      <th>Invoice Date</th>\n",
       "      <th>Transaction Date</th>\n",
       "      <th>Package Quantity</th>\n",
       "      <th>Oversize Quantity</th>\n",
       "      <th>Tracking Number</th>\n",
       "      <th>Entered Weight</th>\n",
       "      <th>Billed Weight</th>\n",
       "      <th>Zone</th>\n",
       "      <th>Charge Description</th>\n",
       "      <th>Net Amount</th>\n",
       "      <th>Sender Postal</th>\n",
       "      <th>Receiver Postal</th>\n",
       "      <th>diff</th>\n",
       "      <th>month</th>\n",
       "    </tr>\n",
       "  </thead>\n",
       "  <tbody>\n",
       "    <tr>\n",
       "      <th>0</th>\n",
       "      <td>2018-08-04</td>\n",
       "      <td>2018-08-02</td>\n",
       "      <td>1</td>\n",
       "      <td>0</td>\n",
       "      <td>1Z2342VF0346355801</td>\n",
       "      <td>21.0</td>\n",
       "      <td>21</td>\n",
       "      <td>7.0</td>\n",
       "      <td>Ground Commercial Collect</td>\n",
       "      <td>9.30</td>\n",
       "      <td>49417</td>\n",
       "      <td>89506</td>\n",
       "      <td>0.0</td>\n",
       "      <td>8</td>\n",
       "    </tr>\n",
       "    <tr>\n",
       "      <th>1</th>\n",
       "      <td>2018-08-04</td>\n",
       "      <td>2018-08-02</td>\n",
       "      <td>0</td>\n",
       "      <td>0</td>\n",
       "      <td>1Z2342VF0346355801</td>\n",
       "      <td>0.0</td>\n",
       "      <td>0</td>\n",
       "      <td>7.0</td>\n",
       "      <td>Addl. Handling longest side</td>\n",
       "      <td>4.80</td>\n",
       "      <td>49417</td>\n",
       "      <td>89506</td>\n",
       "      <td>0.0</td>\n",
       "      <td>8</td>\n",
       "    </tr>\n",
       "    <tr>\n",
       "      <th>2</th>\n",
       "      <td>2018-08-04</td>\n",
       "      <td>2018-08-02</td>\n",
       "      <td>0</td>\n",
       "      <td>0</td>\n",
       "      <td>1Z2342VF0346355801</td>\n",
       "      <td>0.0</td>\n",
       "      <td>0</td>\n",
       "      <td>7.0</td>\n",
       "      <td>Declared Value</td>\n",
       "      <td>2.70</td>\n",
       "      <td>49417</td>\n",
       "      <td>89506</td>\n",
       "      <td>0.0</td>\n",
       "      <td>8</td>\n",
       "    </tr>\n",
       "    <tr>\n",
       "      <th>3</th>\n",
       "      <td>2018-08-04</td>\n",
       "      <td>2018-08-02</td>\n",
       "      <td>0</td>\n",
       "      <td>0</td>\n",
       "      <td>1Z2342VF0346355801</td>\n",
       "      <td>0.0</td>\n",
       "      <td>0</td>\n",
       "      <td>7.0</td>\n",
       "      <td>Fuel Surcharge</td>\n",
       "      <td>0.54</td>\n",
       "      <td>49417</td>\n",
       "      <td>89506</td>\n",
       "      <td>0.0</td>\n",
       "      <td>8</td>\n",
       "    </tr>\n",
       "    <tr>\n",
       "      <th>4</th>\n",
       "      <td>2018-08-04</td>\n",
       "      <td>2018-08-02</td>\n",
       "      <td>0</td>\n",
       "      <td>0</td>\n",
       "      <td>1Z2342VF0346355801</td>\n",
       "      <td>0.0</td>\n",
       "      <td>0</td>\n",
       "      <td>7.0</td>\n",
       "      <td>Addl. Handling longest side</td>\n",
       "      <td>0.00</td>\n",
       "      <td>49417</td>\n",
       "      <td>89506</td>\n",
       "      <td>0.0</td>\n",
       "      <td>8</td>\n",
       "    </tr>\n",
       "  </tbody>\n",
       "</table>\n",
       "</div>"
      ],
      "text/plain": [
       "  Invoice Date Transaction Date  Package Quantity  Oversize Quantity  \\\n",
       "0   2018-08-04       2018-08-02                 1                  0   \n",
       "1   2018-08-04       2018-08-02                 0                  0   \n",
       "2   2018-08-04       2018-08-02                 0                  0   \n",
       "3   2018-08-04       2018-08-02                 0                  0   \n",
       "4   2018-08-04       2018-08-02                 0                  0   \n",
       "\n",
       "      Tracking Number  Entered Weight  Billed Weight  Zone  \\\n",
       "0  1Z2342VF0346355801            21.0             21   7.0   \n",
       "1  1Z2342VF0346355801             0.0              0   7.0   \n",
       "2  1Z2342VF0346355801             0.0              0   7.0   \n",
       "3  1Z2342VF0346355801             0.0              0   7.0   \n",
       "4  1Z2342VF0346355801             0.0              0   7.0   \n",
       "\n",
       "            Charge Description  Net Amount Sender Postal Receiver Postal  \\\n",
       "0    Ground Commercial Collect        9.30         49417           89506   \n",
       "1  Addl. Handling longest side        4.80         49417           89506   \n",
       "2               Declared Value        2.70         49417           89506   \n",
       "3               Fuel Surcharge        0.54         49417           89506   \n",
       "4  Addl. Handling longest side        0.00         49417           89506   \n",
       "\n",
       "   diff  month  \n",
       "0   0.0      8  \n",
       "1   0.0      8  \n",
       "2   0.0      8  \n",
       "3   0.0      8  \n",
       "4   0.0      8  "
      ]
     },
     "execution_count": 135,
     "metadata": {},
     "output_type": "execute_result"
    }
   ],
   "source": [
    "df['month'] = pd.DatetimeIndex(df['Transaction Date']).month\n",
    "df.head()"
   ]
  },
  {
   "cell_type": "code",
   "execution_count": 136,
   "id": "33b6e897",
   "metadata": {},
   "outputs": [
    {
     "data": {
      "text/plain": [
       "Timestamp('2018-08-04 00:00:00')"
      ]
     },
     "execution_count": 136,
     "metadata": {},
     "output_type": "execute_result"
    }
   ],
   "source": [
    "df['Transaction Date'].max()"
   ]
  },
  {
   "cell_type": "code",
   "execution_count": 137,
   "id": "24d72ad5",
   "metadata": {},
   "outputs": [
    {
     "data": {
      "text/plain": [
       "Timestamp('2018-06-26 00:00:00')"
      ]
     },
     "execution_count": 137,
     "metadata": {},
     "output_type": "execute_result"
    }
   ],
   "source": [
    "df['Transaction Date'].min()"
   ]
  },
  {
   "cell_type": "markdown",
   "id": "a49605fd",
   "metadata": {},
   "source": [
    "#### Number of monthly transactions"
   ]
  },
  {
   "cell_type": "code",
   "execution_count": 138,
   "id": "5152f428",
   "metadata": {},
   "outputs": [],
   "source": [
    "month_n=df.groupby(['month'])['Transaction Date'].count().reset_index()"
   ]
  },
  {
   "cell_type": "code",
   "execution_count": 140,
   "id": "b6088e6b",
   "metadata": {},
   "outputs": [],
   "source": [
    "month_n.columns=['month','Number of Transactions']"
   ]
  },
  {
   "cell_type": "code",
   "execution_count": 141,
   "id": "1e869276",
   "metadata": {},
   "outputs": [
    {
     "data": {
      "text/html": [
       "<div>\n",
       "<style scoped>\n",
       "    .dataframe tbody tr th:only-of-type {\n",
       "        vertical-align: middle;\n",
       "    }\n",
       "\n",
       "    .dataframe tbody tr th {\n",
       "        vertical-align: top;\n",
       "    }\n",
       "\n",
       "    .dataframe thead th {\n",
       "        text-align: right;\n",
       "    }\n",
       "</style>\n",
       "<table border=\"1\" class=\"dataframe\">\n",
       "  <thead>\n",
       "    <tr style=\"text-align: right;\">\n",
       "      <th></th>\n",
       "      <th>month</th>\n",
       "      <th>Number of Transactions</th>\n",
       "    </tr>\n",
       "  </thead>\n",
       "  <tbody>\n",
       "    <tr>\n",
       "      <th>0</th>\n",
       "      <td>6</td>\n",
       "      <td>7</td>\n",
       "    </tr>\n",
       "    <tr>\n",
       "      <th>1</th>\n",
       "      <td>7</td>\n",
       "      <td>68905</td>\n",
       "    </tr>\n",
       "    <tr>\n",
       "      <th>2</th>\n",
       "      <td>8</td>\n",
       "      <td>18075</td>\n",
       "    </tr>\n",
       "  </tbody>\n",
       "</table>\n",
       "</div>"
      ],
      "text/plain": [
       "   month  Number of Transactions\n",
       "0      6                       7\n",
       "1      7                   68905\n",
       "2      8                   18075"
      ]
     },
     "execution_count": 141,
     "metadata": {},
     "output_type": "execute_result"
    }
   ],
   "source": [
    "month_n.head()"
   ]
  },
  {
   "cell_type": "code",
   "execution_count": 142,
   "id": "27812324",
   "metadata": {},
   "outputs": [
    {
     "data": {
      "image/png": "[encoded data removed]",
      "text/plain": [
       "<Figure size 576x288 with 1 Axes>"
      ]
     },
     "metadata": {
      "needs_background": "light"
     },
     "output_type": "display_data"
    }
   ],
   "source": [
    "plt.figure(figsize=(8,4))\n",
    "sns.barplot(x=month_n['month'],y=month_n['Number of Transactions'],data=month_n)\n",
    "plt.show()"
   ]
  },
  {
   "cell_type": "markdown",
   "id": "c288fa9a",
   "metadata": {},
   "source": [
    "#### Net Amount per Month"
   ]
  },
  {
   "cell_type": "code",
   "execution_count": 144,
   "id": "05145e4f",
   "metadata": {},
   "outputs": [],
   "source": [
    "month_n_amt=df.groupby(['month'])['Net Amount'].sum().reset_index()"
   ]
  },
  {
   "cell_type": "code",
   "execution_count": 145,
   "id": "9a9ca382",
   "metadata": {},
   "outputs": [
    {
     "data": {
      "text/html": [
       "<div>\n",
       "<style scoped>\n",
       "    .dataframe tbody tr th:only-of-type {\n",
       "        vertical-align: middle;\n",
       "    }\n",
       "\n",
       "    .dataframe tbody tr th {\n",
       "        vertical-align: top;\n",
       "    }\n",
       "\n",
       "    .dataframe thead th {\n",
       "        text-align: right;\n",
       "    }\n",
       "</style>\n",
       "<table border=\"1\" class=\"dataframe\">\n",
       "  <thead>\n",
       "    <tr style=\"text-align: right;\">\n",
       "      <th></th>\n",
       "      <th>month</th>\n",
       "      <th>Net Amount</th>\n",
       "    </tr>\n",
       "  </thead>\n",
       "  <tbody>\n",
       "    <tr>\n",
       "      <th>0</th>\n",
       "      <td>6</td>\n",
       "      <td>17.55</td>\n",
       "    </tr>\n",
       "    <tr>\n",
       "      <th>1</th>\n",
       "      <td>7</td>\n",
       "      <td>186210.78</td>\n",
       "    </tr>\n",
       "    <tr>\n",
       "      <th>2</th>\n",
       "      <td>8</td>\n",
       "      <td>50898.56</td>\n",
       "    </tr>\n",
       "  </tbody>\n",
       "</table>\n",
       "</div>"
      ],
      "text/plain": [
       "   month  Net Amount\n",
       "0      6       17.55\n",
       "1      7   186210.78\n",
       "2      8    50898.56"
      ]
     },
     "execution_count": 145,
     "metadata": {},
     "output_type": "execute_result"
    }
   ],
   "source": [
    "month_n_amt.head()"
   ]
  },
  {
   "cell_type": "code",
   "execution_count": 146,
   "id": "4cc8142f",
   "metadata": {},
   "outputs": [
    {
     "data": {
      "image/png": "[encoded data removed]",
      "text/plain": [
       "<Figure size 576x288 with 1 Axes>"
      ]
     },
     "metadata": {
      "needs_background": "light"
     },
     "output_type": "display_data"
    }
   ],
   "source": [
    "plt.figure(figsize=(8,4))\n",
    "sns.barplot(x=month_n_amt['month'],y=month_n_amt['Net Amount'],data=month_n_amt)\n",
    "plt.show()"
   ]
  },
  {
   "cell_type": "code",
   "execution_count": 147,
   "id": "a5f524e2",
   "metadata": {},
   "outputs": [],
   "source": [
    "month_t=df.groupby(['month','Charge Description'])['Net Amount'].sum().reset_index()"
   ]
  },
  {
   "cell_type": "code",
   "execution_count": 148,
   "id": "3b709d9c",
   "metadata": {},
   "outputs": [
    {
     "data": {
      "text/html": [
       "<div>\n",
       "<style scoped>\n",
       "    .dataframe tbody tr th:only-of-type {\n",
       "        vertical-align: middle;\n",
       "    }\n",
       "\n",
       "    .dataframe tbody tr th {\n",
       "        vertical-align: top;\n",
       "    }\n",
       "\n",
       "    .dataframe thead th {\n",
       "        text-align: right;\n",
       "    }\n",
       "</style>\n",
       "<table border=\"1\" class=\"dataframe\">\n",
       "  <thead>\n",
       "    <tr style=\"text-align: right;\">\n",
       "      <th></th>\n",
       "      <th>month</th>\n",
       "      <th>Charge Description</th>\n",
       "      <th>Net Amount</th>\n",
       "    </tr>\n",
       "  </thead>\n",
       "  <tbody>\n",
       "    <tr>\n",
       "      <th>0</th>\n",
       "      <td>6</td>\n",
       "      <td>Not Previously Billed Delivery Area Surcharge</td>\n",
       "      <td>1.75</td>\n",
       "    </tr>\n",
       "    <tr>\n",
       "      <th>1</th>\n",
       "      <td>6</td>\n",
       "      <td>Not Previously Billed Fuel Surcharge</td>\n",
       "      <td>1.00</td>\n",
       "    </tr>\n",
       "    <tr>\n",
       "      <th>2</th>\n",
       "      <td>6</td>\n",
       "      <td>Not Previously Billed Ground Residential</td>\n",
       "      <td>11.20</td>\n",
       "    </tr>\n",
       "    <tr>\n",
       "      <th>3</th>\n",
       "      <td>6</td>\n",
       "      <td>Not Previously Billed Residential Surcharge</td>\n",
       "      <td>3.60</td>\n",
       "    </tr>\n",
       "    <tr>\n",
       "      <th>4</th>\n",
       "      <td>7</td>\n",
       "      <td>2nd Day Air Commercial</td>\n",
       "      <td>1571.71</td>\n",
       "    </tr>\n",
       "    <tr>\n",
       "      <th>...</th>\n",
       "      <td>...</td>\n",
       "      <td>...</td>\n",
       "      <td>...</td>\n",
       "    </tr>\n",
       "    <tr>\n",
       "      <th>109</th>\n",
       "      <td>8</td>\n",
       "      <td>Shipping Charge Correction Large Package Surch...</td>\n",
       "      <td>704.00</td>\n",
       "    </tr>\n",
       "    <tr>\n",
       "      <th>110</th>\n",
       "      <td>8</td>\n",
       "      <td>Shipping Charge Correction Large Package Surch...</td>\n",
       "      <td>1800.00</td>\n",
       "    </tr>\n",
       "    <tr>\n",
       "      <th>111</th>\n",
       "      <td>8</td>\n",
       "      <td>Shipping Charge Correction Next Day Air</td>\n",
       "      <td>28.40</td>\n",
       "    </tr>\n",
       "    <tr>\n",
       "      <th>112</th>\n",
       "      <td>8</td>\n",
       "      <td>Shipping Charge Correction Next Day Air Saver</td>\n",
       "      <td>26.44</td>\n",
       "    </tr>\n",
       "    <tr>\n",
       "      <th>113</th>\n",
       "      <td>8</td>\n",
       "      <td>Shipping Charge Correction Over Maximum Size</td>\n",
       "      <td>1300.00</td>\n",
       "    </tr>\n",
       "  </tbody>\n",
       "</table>\n",
       "<p>114 rows × 3 columns</p>\n",
       "</div>"
      ],
      "text/plain": [
       "     month                                 Charge Description  Net Amount\n",
       "0        6      Not Previously Billed Delivery Area Surcharge        1.75\n",
       "1        6               Not Previously Billed Fuel Surcharge        1.00\n",
       "2        6           Not Previously Billed Ground Residential       11.20\n",
       "3        6        Not Previously Billed Residential Surcharge        3.60\n",
       "4        7                             2nd Day Air Commercial     1571.71\n",
       "..     ...                                                ...         ...\n",
       "109      8  Shipping Charge Correction Large Package Surch...      704.00\n",
       "110      8  Shipping Charge Correction Large Package Surch...     1800.00\n",
       "111      8            Shipping Charge Correction Next Day Air       28.40\n",
       "112      8      Shipping Charge Correction Next Day Air Saver       26.44\n",
       "113      8       Shipping Charge Correction Over Maximum Size     1300.00\n",
       "\n",
       "[114 rows x 3 columns]"
      ]
     },
     "execution_count": 148,
     "metadata": {},
     "output_type": "execute_result"
    }
   ],
   "source": [
    "month_t"
   ]
  },
  {
   "cell_type": "code",
   "execution_count": 149,
   "id": "4b8f319e",
   "metadata": {},
   "outputs": [
    {
     "data": {
      "text/html": [
       "<div>\n",
       "<style scoped>\n",
       "    .dataframe tbody tr th:only-of-type {\n",
       "        vertical-align: middle;\n",
       "    }\n",
       "\n",
       "    .dataframe tbody tr th {\n",
       "        vertical-align: top;\n",
       "    }\n",
       "\n",
       "    .dataframe thead th {\n",
       "        text-align: right;\n",
       "    }\n",
       "</style>\n",
       "<table border=\"1\" class=\"dataframe\">\n",
       "  <thead>\n",
       "    <tr style=\"text-align: right;\">\n",
       "      <th></th>\n",
       "      <th>month</th>\n",
       "      <th>Charge Description</th>\n",
       "      <th>Net Amount</th>\n",
       "    </tr>\n",
       "  </thead>\n",
       "  <tbody>\n",
       "    <tr>\n",
       "      <th>18</th>\n",
       "      <td>7</td>\n",
       "      <td>Fuel Surcharge</td>\n",
       "      <td>9341.93</td>\n",
       "    </tr>\n",
       "    <tr>\n",
       "      <th>82</th>\n",
       "      <td>8</td>\n",
       "      <td>Fuel Surcharge</td>\n",
       "      <td>2473.47</td>\n",
       "    </tr>\n",
       "  </tbody>\n",
       "</table>\n",
       "</div>"
      ],
      "text/plain": [
       "    month Charge Description  Net Amount\n",
       "18      7     Fuel Surcharge     9341.93\n",
       "82      8     Fuel Surcharge     2473.47"
      ]
     },
     "execution_count": 149,
     "metadata": {},
     "output_type": "execute_result"
    }
   ],
   "source": [
    "month_t[month_t['Charge Description']=='Fuel Surcharge']"
   ]
  },
  {
   "cell_type": "code",
   "execution_count": 150,
   "id": "2ac31cae",
   "metadata": {},
   "outputs": [
    {
     "data": {
      "text/html": [
       "<div>\n",
       "<style scoped>\n",
       "    .dataframe tbody tr th:only-of-type {\n",
       "        vertical-align: middle;\n",
       "    }\n",
       "\n",
       "    .dataframe tbody tr th {\n",
       "        vertical-align: top;\n",
       "    }\n",
       "\n",
       "    .dataframe thead th {\n",
       "        text-align: right;\n",
       "    }\n",
       "</style>\n",
       "<table border=\"1\" class=\"dataframe\">\n",
       "  <thead>\n",
       "    <tr style=\"text-align: right;\">\n",
       "      <th></th>\n",
       "      <th>month</th>\n",
       "      <th>Charge Description</th>\n",
       "      <th>Net Amount</th>\n",
       "    </tr>\n",
       "  </thead>\n",
       "  <tbody>\n",
       "    <tr>\n",
       "      <th>36</th>\n",
       "      <td>7</td>\n",
       "      <td>Ground Residential</td>\n",
       "      <td>69985.40</td>\n",
       "    </tr>\n",
       "    <tr>\n",
       "      <th>85</th>\n",
       "      <td>8</td>\n",
       "      <td>Ground Residential</td>\n",
       "      <td>17335.13</td>\n",
       "    </tr>\n",
       "  </tbody>\n",
       "</table>\n",
       "</div>"
      ],
      "text/plain": [
       "    month  Charge Description  Net Amount\n",
       "36      7  Ground Residential    69985.40\n",
       "85      8  Ground Residential    17335.13"
      ]
     },
     "execution_count": 150,
     "metadata": {},
     "output_type": "execute_result"
    }
   ],
   "source": [
    "month_t[month_t['Charge Description']=='Ground Residential']"
   ]
  },
  {
   "cell_type": "markdown",
   "id": "ca622113",
   "metadata": {},
   "source": [
    "#### Avg Amount per Month"
   ]
  },
  {
   "cell_type": "code",
   "execution_count": 151,
   "id": "50e9fb55",
   "metadata": {},
   "outputs": [],
   "source": [
    "month_t_avg=df.groupby(['month','Charge Description'])['Net Amount'].mean().reset_index()"
   ]
  },
  {
   "cell_type": "code",
   "execution_count": 152,
   "id": "ea493719",
   "metadata": {},
   "outputs": [
    {
     "data": {
      "text/html": [
       "<div>\n",
       "<style scoped>\n",
       "    .dataframe tbody tr th:only-of-type {\n",
       "        vertical-align: middle;\n",
       "    }\n",
       "\n",
       "    .dataframe tbody tr th {\n",
       "        vertical-align: top;\n",
       "    }\n",
       "\n",
       "    .dataframe thead th {\n",
       "        text-align: right;\n",
       "    }\n",
       "</style>\n",
       "<table border=\"1\" class=\"dataframe\">\n",
       "  <thead>\n",
       "    <tr style=\"text-align: right;\">\n",
       "      <th></th>\n",
       "      <th>month</th>\n",
       "      <th>Charge Description</th>\n",
       "      <th>Net Amount</th>\n",
       "    </tr>\n",
       "  </thead>\n",
       "  <tbody>\n",
       "    <tr>\n",
       "      <th>18</th>\n",
       "      <td>7</td>\n",
       "      <td>Fuel Surcharge</td>\n",
       "      <td>0.495935</td>\n",
       "    </tr>\n",
       "    <tr>\n",
       "      <th>82</th>\n",
       "      <td>8</td>\n",
       "      <td>Fuel Surcharge</td>\n",
       "      <td>0.480192</td>\n",
       "    </tr>\n",
       "  </tbody>\n",
       "</table>\n",
       "</div>"
      ],
      "text/plain": [
       "    month Charge Description  Net Amount\n",
       "18      7     Fuel Surcharge    0.495935\n",
       "82      8     Fuel Surcharge    0.480192"
      ]
     },
     "execution_count": 152,
     "metadata": {},
     "output_type": "execute_result"
    }
   ],
   "source": [
    "month_t_avg[month_t_avg['Charge Description']=='Fuel Surcharge']"
   ]
  },
  {
   "cell_type": "code",
   "execution_count": 153,
   "id": "e638707c",
   "metadata": {},
   "outputs": [
    {
     "data": {
      "text/html": [
       "<div>\n",
       "<style scoped>\n",
       "    .dataframe tbody tr th:only-of-type {\n",
       "        vertical-align: middle;\n",
       "    }\n",
       "\n",
       "    .dataframe tbody tr th {\n",
       "        vertical-align: top;\n",
       "    }\n",
       "\n",
       "    .dataframe thead th {\n",
       "        text-align: right;\n",
       "    }\n",
       "</style>\n",
       "<table border=\"1\" class=\"dataframe\">\n",
       "  <thead>\n",
       "    <tr style=\"text-align: right;\">\n",
       "      <th></th>\n",
       "      <th>month</th>\n",
       "      <th>Charge Description</th>\n",
       "      <th>Net Amount</th>\n",
       "    </tr>\n",
       "  </thead>\n",
       "  <tbody>\n",
       "    <tr>\n",
       "      <th>36</th>\n",
       "      <td>7</td>\n",
       "      <td>Ground Residential</td>\n",
       "      <td>4.370264</td>\n",
       "    </tr>\n",
       "    <tr>\n",
       "      <th>85</th>\n",
       "      <td>8</td>\n",
       "      <td>Ground Residential</td>\n",
       "      <td>4.012762</td>\n",
       "    </tr>\n",
       "  </tbody>\n",
       "</table>\n",
       "</div>"
      ],
      "text/plain": [
       "    month  Charge Description  Net Amount\n",
       "36      7  Ground Residential    4.370264\n",
       "85      8  Ground Residential    4.012762"
      ]
     },
     "execution_count": 153,
     "metadata": {},
     "output_type": "execute_result"
    }
   ],
   "source": [
    "month_t_avg[month_t_avg['Charge Description']=='Ground Residential']"
   ]
  }
 ],
 "metadata": {
  "kernelspec": {
   "display_name": "Python 3",
   "language": "python",
   "name": "python3"
  },
  "language_info": {
   "codemirror_mode": {
    "name": "ipython",
    "version": 3
   },
   "file_extension": ".py",
   "mimetype": "text/x-python",
   "name": "python",
   "nbconvert_exporter": "python",
   "pygments_lexer": "ipython3",
   "version": "3.8.8"
  }
 },
 "nbformat": 4,
 "nbformat_minor": 5
}
