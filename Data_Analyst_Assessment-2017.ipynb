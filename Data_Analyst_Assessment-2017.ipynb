{
 "cells": [
  {
   "cell_type": "markdown",
   "id": "78fff1f9",
   "metadata": {},
   "source": [
    "# Assesment Question2"
   ]
  },
  {
   "cell_type": "markdown",
   "id": "63d7c64b",
   "metadata": {},
   "source": [
    "### Reading Q2 2017 Data"
   ]
  },
  {
   "cell_type": "code",
   "execution_count": 1,
   "id": "9ff2844d",
   "metadata": {},
   "outputs": [],
   "source": [
    "import pandas as pd\n",
    "import numpy as np\n",
    "import matplotlib.pyplot as plt\n",
    "import seaborn as sns"
   ]
  },
  {
   "cell_type": "code",
   "execution_count": 23,
   "id": "f1e522de",
   "metadata": {},
   "outputs": [
    {
     "data": {
      "text/html": [
       "<div>\n",
       "<style scoped>\n",
       "    .dataframe tbody tr th:only-of-type {\n",
       "        vertical-align: middle;\n",
       "    }\n",
       "\n",
       "    .dataframe tbody tr th {\n",
       "        vertical-align: top;\n",
       "    }\n",
       "\n",
       "    .dataframe thead th {\n",
       "        text-align: right;\n",
       "    }\n",
       "</style>\n",
       "<table border=\"1\" class=\"dataframe\">\n",
       "  <thead>\n",
       "    <tr style=\"text-align: right;\">\n",
       "      <th></th>\n",
       "      <th>Invoice Date</th>\n",
       "      <th>Transaction Date</th>\n",
       "      <th>Package Quantity</th>\n",
       "      <th>Oversize Quantity</th>\n",
       "      <th>Tracking Number</th>\n",
       "      <th>Entered Weight</th>\n",
       "      <th>Billed Weight</th>\n",
       "      <th>Package Dimensions</th>\n",
       "      <th>Zone</th>\n",
       "      <th>Charge Description</th>\n",
       "      <th>...</th>\n",
       "      <th>Unnamed: 23</th>\n",
       "      <th>Unnamed: 24</th>\n",
       "      <th>Unnamed: 25</th>\n",
       "      <th>Unnamed: 26</th>\n",
       "      <th>Unnamed: 27</th>\n",
       "      <th>Unnamed: 28</th>\n",
       "      <th>Unnamed: 29</th>\n",
       "      <th>Unnamed: 30</th>\n",
       "      <th>Unnamed: 31</th>\n",
       "      <th>Unnamed: 32</th>\n",
       "    </tr>\n",
       "  </thead>\n",
       "  <tbody>\n",
       "    <tr>\n",
       "      <th>0</th>\n",
       "      <td>2017-08-05</td>\n",
       "      <td>2017-08-03</td>\n",
       "      <td>1</td>\n",
       "      <td>0</td>\n",
       "      <td>1Z6VY3400377024016</td>\n",
       "      <td>16.0</td>\n",
       "      <td>16</td>\n",
       "      <td>NaN</td>\n",
       "      <td>2.0</td>\n",
       "      <td>Ground Commercial Collect</td>\n",
       "      <td>...</td>\n",
       "      <td>NaN</td>\n",
       "      <td>NaN</td>\n",
       "      <td>NaN</td>\n",
       "      <td>NaN</td>\n",
       "      <td>NaN</td>\n",
       "      <td>NaN</td>\n",
       "      <td>NaN</td>\n",
       "      <td>NaN</td>\n",
       "      <td>NaN</td>\n",
       "      <td>NaN</td>\n",
       "    </tr>\n",
       "    <tr>\n",
       "      <th>1</th>\n",
       "      <td>2017-08-05</td>\n",
       "      <td>2017-08-03</td>\n",
       "      <td>0</td>\n",
       "      <td>0</td>\n",
       "      <td>1Z6VY3400377024016</td>\n",
       "      <td>0.0</td>\n",
       "      <td>0</td>\n",
       "      <td>NaN</td>\n",
       "      <td>2.0</td>\n",
       "      <td>Fuel Surcharge</td>\n",
       "      <td>...</td>\n",
       "      <td>NaN</td>\n",
       "      <td>NaN</td>\n",
       "      <td>NaN</td>\n",
       "      <td>NaN</td>\n",
       "      <td>NaN</td>\n",
       "      <td>NaN</td>\n",
       "      <td>NaN</td>\n",
       "      <td>NaN</td>\n",
       "      <td>NaN</td>\n",
       "      <td>NaN</td>\n",
       "    </tr>\n",
       "    <tr>\n",
       "      <th>2</th>\n",
       "      <td>2017-08-05</td>\n",
       "      <td>2017-08-03</td>\n",
       "      <td>1</td>\n",
       "      <td>0</td>\n",
       "      <td>1Z6VY3400377025195</td>\n",
       "      <td>38.4</td>\n",
       "      <td>39</td>\n",
       "      <td>NaN</td>\n",
       "      <td>2.0</td>\n",
       "      <td>Ground Commercial Collect</td>\n",
       "      <td>...</td>\n",
       "      <td>NaN</td>\n",
       "      <td>NaN</td>\n",
       "      <td>NaN</td>\n",
       "      <td>NaN</td>\n",
       "      <td>NaN</td>\n",
       "      <td>NaN</td>\n",
       "      <td>NaN</td>\n",
       "      <td>NaN</td>\n",
       "      <td>NaN</td>\n",
       "      <td>NaN</td>\n",
       "    </tr>\n",
       "    <tr>\n",
       "      <th>3</th>\n",
       "      <td>2017-08-05</td>\n",
       "      <td>2017-08-03</td>\n",
       "      <td>0</td>\n",
       "      <td>0</td>\n",
       "      <td>1Z6VY3400377025195</td>\n",
       "      <td>0.0</td>\n",
       "      <td>0</td>\n",
       "      <td>NaN</td>\n",
       "      <td>2.0</td>\n",
       "      <td>Fuel Surcharge</td>\n",
       "      <td>...</td>\n",
       "      <td>NaN</td>\n",
       "      <td>NaN</td>\n",
       "      <td>NaN</td>\n",
       "      <td>NaN</td>\n",
       "      <td>NaN</td>\n",
       "      <td>NaN</td>\n",
       "      <td>NaN</td>\n",
       "      <td>NaN</td>\n",
       "      <td>NaN</td>\n",
       "      <td>NaN</td>\n",
       "    </tr>\n",
       "    <tr>\n",
       "      <th>4</th>\n",
       "      <td>2017-08-05</td>\n",
       "      <td>2017-08-03</td>\n",
       "      <td>1</td>\n",
       "      <td>0</td>\n",
       "      <td>1Z6VY3400377025239</td>\n",
       "      <td>19.2</td>\n",
       "      <td>20</td>\n",
       "      <td>NaN</td>\n",
       "      <td>2.0</td>\n",
       "      <td>Ground Commercial Collect</td>\n",
       "      <td>...</td>\n",
       "      <td>NaN</td>\n",
       "      <td>NaN</td>\n",
       "      <td>NaN</td>\n",
       "      <td>NaN</td>\n",
       "      <td>NaN</td>\n",
       "      <td>NaN</td>\n",
       "      <td>NaN</td>\n",
       "      <td>NaN</td>\n",
       "      <td>NaN</td>\n",
       "      <td>NaN</td>\n",
       "    </tr>\n",
       "  </tbody>\n",
       "</table>\n",
       "<p>5 rows × 33 columns</p>\n",
       "</div>"
      ],
      "text/plain": [
       "  Invoice Date Transaction Date  Package Quantity  Oversize Quantity  \\\n",
       "0   2017-08-05       2017-08-03                 1                  0   \n",
       "1   2017-08-05       2017-08-03                 0                  0   \n",
       "2   2017-08-05       2017-08-03                 1                  0   \n",
       "3   2017-08-05       2017-08-03                 0                  0   \n",
       "4   2017-08-05       2017-08-03                 1                  0   \n",
       "\n",
       "      Tracking Number  Entered Weight  Billed Weight Package Dimensions  Zone  \\\n",
       "0  1Z6VY3400377024016            16.0             16                NaN   2.0   \n",
       "1  1Z6VY3400377024016             0.0              0                NaN   2.0   \n",
       "2  1Z6VY3400377025195            38.4             39                NaN   2.0   \n",
       "3  1Z6VY3400377025195             0.0              0                NaN   2.0   \n",
       "4  1Z6VY3400377025239            19.2             20                NaN   2.0   \n",
       "\n",
       "          Charge Description  ...  Unnamed: 23 Unnamed: 24  Unnamed: 25  \\\n",
       "0  Ground Commercial Collect  ...          NaN         NaN          NaN   \n",
       "1             Fuel Surcharge  ...          NaN         NaN          NaN   \n",
       "2  Ground Commercial Collect  ...          NaN         NaN          NaN   \n",
       "3             Fuel Surcharge  ...          NaN         NaN          NaN   \n",
       "4  Ground Commercial Collect  ...          NaN         NaN          NaN   \n",
       "\n",
       "  Unnamed: 26  Unnamed: 27  Unnamed: 28  Unnamed: 29  Unnamed: 30  \\\n",
       "0         NaN          NaN          NaN          NaN          NaN   \n",
       "1         NaN          NaN          NaN          NaN          NaN   \n",
       "2         NaN          NaN          NaN          NaN          NaN   \n",
       "3         NaN          NaN          NaN          NaN          NaN   \n",
       "4         NaN          NaN          NaN          NaN          NaN   \n",
       "\n",
       "   Unnamed: 31  Unnamed: 32  \n",
       "0          NaN          NaN  \n",
       "1          NaN          NaN  \n",
       "2          NaN          NaN  \n",
       "3          NaN          NaN  \n",
       "4          NaN          NaN  \n",
       "\n",
       "[5 rows x 33 columns]"
      ]
     },
     "execution_count": 23,
     "metadata": {},
     "output_type": "execute_result"
    }
   ],
   "source": [
    "df=pd.read_excel('Q2_2017.xlsx')\n",
    "df.head()"
   ]
  },
  {
   "cell_type": "markdown",
   "id": "905b3090",
   "metadata": {},
   "source": [
    "### Understanding Data"
   ]
  },
  {
   "cell_type": "code",
   "execution_count": 24,
   "id": "3639d516",
   "metadata": {},
   "outputs": [
    {
     "data": {
      "text/plain": [
       "(50561, 33)"
      ]
     },
     "execution_count": 24,
     "metadata": {},
     "output_type": "execute_result"
    }
   ],
   "source": [
    "df.shape"
   ]
  },
  {
   "cell_type": "code",
   "execution_count": 25,
   "id": "6385e520",
   "metadata": {},
   "outputs": [
    {
     "data": {
      "text/plain": [
       "Index(['Invoice Date', 'Transaction Date', 'Package Quantity',\n",
       "       'Oversize Quantity', 'Tracking Number', 'Entered Weight',\n",
       "       'Billed Weight', 'Package Dimensions', 'Zone', 'Charge Description',\n",
       "       'Net Amount', 'Sender Postal', 'Receiver Postal', 'Detail Keyed Dim',\n",
       "       'diff', 'Unnamed: 15', 'Unnamed: 16', 'Unnamed: 17', 'Unnamed: 18',\n",
       "       'Unnamed: 19', 'Unnamed: 20', 'Unnamed: 21', 'Unnamed: 22',\n",
       "       'Unnamed: 23', 'Unnamed: 24', 'Unnamed: 25', 'Unnamed: 26',\n",
       "       'Unnamed: 27', 'Unnamed: 28', 'Unnamed: 29', 'Unnamed: 30',\n",
       "       'Unnamed: 31', 'Unnamed: 32'],\n",
       "      dtype='object')"
      ]
     },
     "execution_count": 25,
     "metadata": {},
     "output_type": "execute_result"
    }
   ],
   "source": [
    "df.columns"
   ]
  },
  {
   "cell_type": "code",
   "execution_count": 238,
   "id": "4a132a43",
   "metadata": {},
   "outputs": [
    {
     "name": "stdout",
     "output_type": "stream",
     "text": [
      "<class 'pandas.core.frame.DataFrame'>\n",
      "Int64Index: 50558 entries, 0 to 50557\n",
      "Data columns (total 17 columns):\n",
      " #   Column              Non-Null Count  Dtype         \n",
      "---  ------              --------------  -----         \n",
      " 0   Invoice Date        50558 non-null  datetime64[ns]\n",
      " 1   Transaction Date    50558 non-null  datetime64[ns]\n",
      " 2   Package Quantity    50558 non-null  int64         \n",
      " 3   Oversize Quantity   50558 non-null  int64         \n",
      " 4   Tracking Number     50558 non-null  object        \n",
      " 5   Entered Weight      50558 non-null  float64       \n",
      " 6   Billed Weight       50558 non-null  int64         \n",
      " 7   Zone                50558 non-null  float64       \n",
      " 8   Charge Description  50558 non-null  object        \n",
      " 9   Net Amount          50558 non-null  float64       \n",
      " 10  Sender Postal       44819 non-null  object        \n",
      " 11  Receiver Postal     50558 non-null  object        \n",
      " 12  diff                50558 non-null  float64       \n",
      " 13  new                 50558 non-null  object        \n",
      " 14  Distance            50558 non-null  object        \n",
      " 15  year                50558 non-null  int64         \n",
      " 16  month               50558 non-null  int64         \n",
      "dtypes: datetime64[ns](2), float64(4), int64(5), object(6)\n",
      "memory usage: 9.0+ MB\n"
     ]
    }
   ],
   "source": [
    "df.info()"
   ]
  },
  {
   "cell_type": "markdown",
   "id": "b542b1d6",
   "metadata": {},
   "source": [
    "### Cleaning Data"
   ]
  },
  {
   "cell_type": "markdown",
   "id": "609b6794",
   "metadata": {},
   "source": [
    "#### Identifying Missing/Null Values"
   ]
  },
  {
   "cell_type": "code",
   "execution_count": 27,
   "id": "a873b806",
   "metadata": {},
   "outputs": [
    {
     "data": {
      "text/plain": [
       "Invoice Date              0\n",
       "Transaction Date          0\n",
       "Package Quantity          0\n",
       "Oversize Quantity         0\n",
       "Tracking Number           3\n",
       "Entered Weight            0\n",
       "Billed Weight             0\n",
       "Package Dimensions    49307\n",
       "Zone                      3\n",
       "Charge Description        1\n",
       "Net Amount                0\n",
       "Sender Postal          5742\n",
       "Receiver Postal           3\n",
       "Detail Keyed Dim      45668\n",
       "diff                      0\n",
       "Unnamed: 15           50561\n",
       "Unnamed: 16           50561\n",
       "Unnamed: 17           50561\n",
       "Unnamed: 18           50561\n",
       "Unnamed: 19           50561\n",
       "Unnamed: 20           50494\n",
       "Unnamed: 21           50494\n",
       "Unnamed: 22           50561\n",
       "Unnamed: 23           50561\n",
       "Unnamed: 24           50561\n",
       "Unnamed: 25           50561\n",
       "Unnamed: 26           50561\n",
       "Unnamed: 27           50561\n",
       "Unnamed: 28           50561\n",
       "Unnamed: 29           50561\n",
       "Unnamed: 30           50561\n",
       "Unnamed: 31           50561\n",
       "Unnamed: 32           50561\n",
       "dtype: int64"
      ]
     },
     "execution_count": 27,
     "metadata": {},
     "output_type": "execute_result"
    }
   ],
   "source": [
    "df.isnull().sum()"
   ]
  },
  {
   "cell_type": "code",
   "execution_count": 29,
   "id": "355bbed0",
   "metadata": {},
   "outputs": [],
   "source": [
    "df=df.iloc[:,:15]\n"
   ]
  },
  {
   "cell_type": "code",
   "execution_count": 30,
   "id": "d87de3d7",
   "metadata": {},
   "outputs": [
    {
     "data": {
      "text/plain": [
       "(50561, 15)"
      ]
     },
     "execution_count": 30,
     "metadata": {},
     "output_type": "execute_result"
    }
   ],
   "source": [
    "df.shape"
   ]
  },
  {
   "cell_type": "code",
   "execution_count": 32,
   "id": "ab669e70",
   "metadata": {},
   "outputs": [
    {
     "data": {
      "text/plain": [
       "Invoice Date           0.000000\n",
       "Transaction Date       0.000000\n",
       "Package Quantity       0.000000\n",
       "Oversize Quantity      0.000000\n",
       "Tracking Number        0.005933\n",
       "Entered Weight         0.000000\n",
       "Billed Weight          0.000000\n",
       "Package Dimensions    97.519828\n",
       "Zone                   0.005933\n",
       "Charge Description     0.001978\n",
       "Net Amount             0.000000\n",
       "Sender Postal         11.356579\n",
       "Receiver Postal        0.005933\n",
       "Detail Keyed Dim      90.322581\n",
       "diff                   0.000000\n",
       "dtype: float64"
      ]
     },
     "execution_count": 32,
     "metadata": {},
     "output_type": "execute_result"
    }
   ],
   "source": [
    "df.isnull().sum()/df.shape[0]*100  ##percent of missing values"
   ]
  },
  {
   "cell_type": "markdown",
   "id": "9d0acb90",
   "metadata": {},
   "source": [
    "Since the variables/columns 'Package Dimensions' and 'Detail Keyed Dim' have more than 90 percent missing values,the presence of these columns wouldn't produce fair insights. Hence, they are dropped/not considered for this analysis"
   ]
  },
  {
   "cell_type": "code",
   "execution_count": 36,
   "id": "b9975b9b",
   "metadata": {
    "collapsed": true
   },
   "outputs": [
    {
     "ename": "KeyError",
     "evalue": "\"['Package Dimensions' 'Detail Keyed Dim'] not found in axis\"",
     "output_type": "error",
     "traceback": [
      "\u001b[0;31m---------------------------------------------------------------------------\u001b[0m",
      "\u001b[0;31mKeyError\u001b[0m                                  Traceback (most recent call last)",
      "\u001b[0;32m<ipython-input-36-2c2e62b5d2a7>\u001b[0m in \u001b[0;36m<module>\u001b[0;34m\u001b[0m\n\u001b[0;32m----> 1\u001b[0;31m \u001b[0mdf\u001b[0m\u001b[0;34m=\u001b[0m\u001b[0mdf\u001b[0m\u001b[0;34m.\u001b[0m\u001b[0mdrop\u001b[0m\u001b[0;34m(\u001b[0m\u001b[0mcolumns\u001b[0m\u001b[0;34m=\u001b[0m\u001b[0;34m[\u001b[0m\u001b[0;34m'Package Dimensions'\u001b[0m\u001b[0;34m,\u001b[0m\u001b[0;34m'Detail Keyed Dim'\u001b[0m\u001b[0;34m]\u001b[0m\u001b[0;34m)\u001b[0m\u001b[0;34m\u001b[0m\u001b[0;34m\u001b[0m\u001b[0m\n\u001b[0m\u001b[1;32m      2\u001b[0m \u001b[0mdf\u001b[0m\u001b[0;34m\u001b[0m\u001b[0;34m\u001b[0m\u001b[0m\n",
      "\u001b[0;32m~/opt/anaconda3/lib/python3.8/site-packages/pandas/core/frame.py\u001b[0m in \u001b[0;36mdrop\u001b[0;34m(self, labels, axis, index, columns, level, inplace, errors)\u001b[0m\n\u001b[1;32m   4306\u001b[0m                 \u001b[0mweight\u001b[0m  \u001b[0;36m1.0\u001b[0m     \u001b[0;36m0.8\u001b[0m\u001b[0;34m\u001b[0m\u001b[0;34m\u001b[0m\u001b[0m\n\u001b[1;32m   4307\u001b[0m         \"\"\"\n\u001b[0;32m-> 4308\u001b[0;31m         return super().drop(\n\u001b[0m\u001b[1;32m   4309\u001b[0m             \u001b[0mlabels\u001b[0m\u001b[0;34m=\u001b[0m\u001b[0mlabels\u001b[0m\u001b[0;34m,\u001b[0m\u001b[0;34m\u001b[0m\u001b[0;34m\u001b[0m\u001b[0m\n\u001b[1;32m   4310\u001b[0m             \u001b[0maxis\u001b[0m\u001b[0;34m=\u001b[0m\u001b[0maxis\u001b[0m\u001b[0;34m,\u001b[0m\u001b[0;34m\u001b[0m\u001b[0;34m\u001b[0m\u001b[0m\n",
      "\u001b[0;32m~/opt/anaconda3/lib/python3.8/site-packages/pandas/core/generic.py\u001b[0m in \u001b[0;36mdrop\u001b[0;34m(self, labels, axis, index, columns, level, inplace, errors)\u001b[0m\n\u001b[1;32m   4151\u001b[0m         \u001b[0;32mfor\u001b[0m \u001b[0maxis\u001b[0m\u001b[0;34m,\u001b[0m \u001b[0mlabels\u001b[0m \u001b[0;32min\u001b[0m \u001b[0maxes\u001b[0m\u001b[0;34m.\u001b[0m\u001b[0mitems\u001b[0m\u001b[0;34m(\u001b[0m\u001b[0;34m)\u001b[0m\u001b[0;34m:\u001b[0m\u001b[0;34m\u001b[0m\u001b[0;34m\u001b[0m\u001b[0m\n\u001b[1;32m   4152\u001b[0m             \u001b[0;32mif\u001b[0m \u001b[0mlabels\u001b[0m \u001b[0;32mis\u001b[0m \u001b[0;32mnot\u001b[0m \u001b[0;32mNone\u001b[0m\u001b[0;34m:\u001b[0m\u001b[0;34m\u001b[0m\u001b[0;34m\u001b[0m\u001b[0m\n\u001b[0;32m-> 4153\u001b[0;31m                 \u001b[0mobj\u001b[0m \u001b[0;34m=\u001b[0m \u001b[0mobj\u001b[0m\u001b[0;34m.\u001b[0m\u001b[0m_drop_axis\u001b[0m\u001b[0;34m(\u001b[0m\u001b[0mlabels\u001b[0m\u001b[0;34m,\u001b[0m \u001b[0maxis\u001b[0m\u001b[0;34m,\u001b[0m \u001b[0mlevel\u001b[0m\u001b[0;34m=\u001b[0m\u001b[0mlevel\u001b[0m\u001b[0;34m,\u001b[0m \u001b[0merrors\u001b[0m\u001b[0;34m=\u001b[0m\u001b[0merrors\u001b[0m\u001b[0;34m)\u001b[0m\u001b[0;34m\u001b[0m\u001b[0;34m\u001b[0m\u001b[0m\n\u001b[0m\u001b[1;32m   4154\u001b[0m \u001b[0;34m\u001b[0m\u001b[0m\n\u001b[1;32m   4155\u001b[0m         \u001b[0;32mif\u001b[0m \u001b[0minplace\u001b[0m\u001b[0;34m:\u001b[0m\u001b[0;34m\u001b[0m\u001b[0;34m\u001b[0m\u001b[0m\n",
      "\u001b[0;32m~/opt/anaconda3/lib/python3.8/site-packages/pandas/core/generic.py\u001b[0m in \u001b[0;36m_drop_axis\u001b[0;34m(self, labels, axis, level, errors)\u001b[0m\n\u001b[1;32m   4186\u001b[0m                 \u001b[0mnew_axis\u001b[0m \u001b[0;34m=\u001b[0m \u001b[0maxis\u001b[0m\u001b[0;34m.\u001b[0m\u001b[0mdrop\u001b[0m\u001b[0;34m(\u001b[0m\u001b[0mlabels\u001b[0m\u001b[0;34m,\u001b[0m \u001b[0mlevel\u001b[0m\u001b[0;34m=\u001b[0m\u001b[0mlevel\u001b[0m\u001b[0;34m,\u001b[0m \u001b[0merrors\u001b[0m\u001b[0;34m=\u001b[0m\u001b[0merrors\u001b[0m\u001b[0;34m)\u001b[0m\u001b[0;34m\u001b[0m\u001b[0;34m\u001b[0m\u001b[0m\n\u001b[1;32m   4187\u001b[0m             \u001b[0;32melse\u001b[0m\u001b[0;34m:\u001b[0m\u001b[0;34m\u001b[0m\u001b[0;34m\u001b[0m\u001b[0m\n\u001b[0;32m-> 4188\u001b[0;31m                 \u001b[0mnew_axis\u001b[0m \u001b[0;34m=\u001b[0m \u001b[0maxis\u001b[0m\u001b[0;34m.\u001b[0m\u001b[0mdrop\u001b[0m\u001b[0;34m(\u001b[0m\u001b[0mlabels\u001b[0m\u001b[0;34m,\u001b[0m \u001b[0merrors\u001b[0m\u001b[0;34m=\u001b[0m\u001b[0merrors\u001b[0m\u001b[0;34m)\u001b[0m\u001b[0;34m\u001b[0m\u001b[0;34m\u001b[0m\u001b[0m\n\u001b[0m\u001b[1;32m   4189\u001b[0m             \u001b[0mresult\u001b[0m \u001b[0;34m=\u001b[0m \u001b[0mself\u001b[0m\u001b[0;34m.\u001b[0m\u001b[0mreindex\u001b[0m\u001b[0;34m(\u001b[0m\u001b[0;34m**\u001b[0m\u001b[0;34m{\u001b[0m\u001b[0maxis_name\u001b[0m\u001b[0;34m:\u001b[0m \u001b[0mnew_axis\u001b[0m\u001b[0;34m}\u001b[0m\u001b[0;34m)\u001b[0m\u001b[0;34m\u001b[0m\u001b[0;34m\u001b[0m\u001b[0m\n\u001b[1;32m   4190\u001b[0m \u001b[0;34m\u001b[0m\u001b[0m\n",
      "\u001b[0;32m~/opt/anaconda3/lib/python3.8/site-packages/pandas/core/indexes/base.py\u001b[0m in \u001b[0;36mdrop\u001b[0;34m(self, labels, errors)\u001b[0m\n\u001b[1;32m   5589\u001b[0m         \u001b[0;32mif\u001b[0m \u001b[0mmask\u001b[0m\u001b[0;34m.\u001b[0m\u001b[0many\u001b[0m\u001b[0;34m(\u001b[0m\u001b[0;34m)\u001b[0m\u001b[0;34m:\u001b[0m\u001b[0;34m\u001b[0m\u001b[0;34m\u001b[0m\u001b[0m\n\u001b[1;32m   5590\u001b[0m             \u001b[0;32mif\u001b[0m \u001b[0merrors\u001b[0m \u001b[0;34m!=\u001b[0m \u001b[0;34m\"ignore\"\u001b[0m\u001b[0;34m:\u001b[0m\u001b[0;34m\u001b[0m\u001b[0;34m\u001b[0m\u001b[0m\n\u001b[0;32m-> 5591\u001b[0;31m                 \u001b[0;32mraise\u001b[0m \u001b[0mKeyError\u001b[0m\u001b[0;34m(\u001b[0m\u001b[0;34mf\"{labels[mask]} not found in axis\"\u001b[0m\u001b[0;34m)\u001b[0m\u001b[0;34m\u001b[0m\u001b[0;34m\u001b[0m\u001b[0m\n\u001b[0m\u001b[1;32m   5592\u001b[0m             \u001b[0mindexer\u001b[0m \u001b[0;34m=\u001b[0m \u001b[0mindexer\u001b[0m\u001b[0;34m[\u001b[0m\u001b[0;34m~\u001b[0m\u001b[0mmask\u001b[0m\u001b[0;34m]\u001b[0m\u001b[0;34m\u001b[0m\u001b[0;34m\u001b[0m\u001b[0m\n\u001b[1;32m   5593\u001b[0m         \u001b[0;32mreturn\u001b[0m \u001b[0mself\u001b[0m\u001b[0;34m.\u001b[0m\u001b[0mdelete\u001b[0m\u001b[0;34m(\u001b[0m\u001b[0mindexer\u001b[0m\u001b[0;34m)\u001b[0m\u001b[0;34m\u001b[0m\u001b[0;34m\u001b[0m\u001b[0m\n",
      "\u001b[0;31mKeyError\u001b[0m: \"['Package Dimensions' 'Detail Keyed Dim'] not found in axis\""
     ]
    }
   ],
   "source": [
    "df=df.drop(columns=['Package Dimensions','Detail Keyed Dim'])\n"
   ]
  },
  {
   "cell_type": "code",
   "execution_count": 37,
   "id": "934923d4",
   "metadata": {},
   "outputs": [
    {
     "data": {
      "text/html": [
       "<div>\n",
       "<style scoped>\n",
       "    .dataframe tbody tr th:only-of-type {\n",
       "        vertical-align: middle;\n",
       "    }\n",
       "\n",
       "    .dataframe tbody tr th {\n",
       "        vertical-align: top;\n",
       "    }\n",
       "\n",
       "    .dataframe thead th {\n",
       "        text-align: right;\n",
       "    }\n",
       "</style>\n",
       "<table border=\"1\" class=\"dataframe\">\n",
       "  <thead>\n",
       "    <tr style=\"text-align: right;\">\n",
       "      <th></th>\n",
       "      <th>Invoice Date</th>\n",
       "      <th>Transaction Date</th>\n",
       "      <th>Package Quantity</th>\n",
       "      <th>Oversize Quantity</th>\n",
       "      <th>Tracking Number</th>\n",
       "      <th>Entered Weight</th>\n",
       "      <th>Billed Weight</th>\n",
       "      <th>Zone</th>\n",
       "      <th>Charge Description</th>\n",
       "      <th>Net Amount</th>\n",
       "      <th>Sender Postal</th>\n",
       "      <th>Receiver Postal</th>\n",
       "      <th>diff</th>\n",
       "    </tr>\n",
       "  </thead>\n",
       "  <tbody>\n",
       "    <tr>\n",
       "      <th>0</th>\n",
       "      <td>2017-08-05</td>\n",
       "      <td>2017-08-03</td>\n",
       "      <td>1</td>\n",
       "      <td>0</td>\n",
       "      <td>1Z6VY3400377024016</td>\n",
       "      <td>16.0</td>\n",
       "      <td>16</td>\n",
       "      <td>2.0</td>\n",
       "      <td>Ground Commercial Collect</td>\n",
       "      <td>5.66</td>\n",
       "      <td>08691 2342</td>\n",
       "      <td>8512.0</td>\n",
       "      <td>0.0</td>\n",
       "    </tr>\n",
       "    <tr>\n",
       "      <th>1</th>\n",
       "      <td>2017-08-05</td>\n",
       "      <td>2017-08-03</td>\n",
       "      <td>0</td>\n",
       "      <td>0</td>\n",
       "      <td>1Z6VY3400377024016</td>\n",
       "      <td>0.0</td>\n",
       "      <td>0</td>\n",
       "      <td>2.0</td>\n",
       "      <td>Fuel Surcharge</td>\n",
       "      <td>0.27</td>\n",
       "      <td>08691 2342</td>\n",
       "      <td>8512.0</td>\n",
       "      <td>0.0</td>\n",
       "    </tr>\n",
       "    <tr>\n",
       "      <th>2</th>\n",
       "      <td>2017-08-05</td>\n",
       "      <td>2017-08-03</td>\n",
       "      <td>1</td>\n",
       "      <td>0</td>\n",
       "      <td>1Z6VY3400377025195</td>\n",
       "      <td>38.4</td>\n",
       "      <td>39</td>\n",
       "      <td>2.0</td>\n",
       "      <td>Ground Commercial Collect</td>\n",
       "      <td>6.42</td>\n",
       "      <td>08691 2342</td>\n",
       "      <td>8512.0</td>\n",
       "      <td>0.6</td>\n",
       "    </tr>\n",
       "    <tr>\n",
       "      <th>3</th>\n",
       "      <td>2017-08-05</td>\n",
       "      <td>2017-08-03</td>\n",
       "      <td>0</td>\n",
       "      <td>0</td>\n",
       "      <td>1Z6VY3400377025195</td>\n",
       "      <td>0.0</td>\n",
       "      <td>0</td>\n",
       "      <td>2.0</td>\n",
       "      <td>Fuel Surcharge</td>\n",
       "      <td>0.30</td>\n",
       "      <td>08691 2342</td>\n",
       "      <td>8512.0</td>\n",
       "      <td>0.0</td>\n",
       "    </tr>\n",
       "    <tr>\n",
       "      <th>4</th>\n",
       "      <td>2017-08-05</td>\n",
       "      <td>2017-08-03</td>\n",
       "      <td>1</td>\n",
       "      <td>0</td>\n",
       "      <td>1Z6VY3400377025239</td>\n",
       "      <td>19.2</td>\n",
       "      <td>20</td>\n",
       "      <td>2.0</td>\n",
       "      <td>Ground Commercial Collect</td>\n",
       "      <td>5.66</td>\n",
       "      <td>08691 2342</td>\n",
       "      <td>8512.0</td>\n",
       "      <td>0.8</td>\n",
       "    </tr>\n",
       "    <tr>\n",
       "      <th>...</th>\n",
       "      <td>...</td>\n",
       "      <td>...</td>\n",
       "      <td>...</td>\n",
       "      <td>...</td>\n",
       "      <td>...</td>\n",
       "      <td>...</td>\n",
       "      <td>...</td>\n",
       "      <td>...</td>\n",
       "      <td>...</td>\n",
       "      <td>...</td>\n",
       "      <td>...</td>\n",
       "      <td>...</td>\n",
       "      <td>...</td>\n",
       "    </tr>\n",
       "    <tr>\n",
       "      <th>50556</th>\n",
       "      <td>2017-08-05</td>\n",
       "      <td>2017-08-03</td>\n",
       "      <td>0</td>\n",
       "      <td>0</td>\n",
       "      <td>1ZY8X7331599137786</td>\n",
       "      <td>0.0</td>\n",
       "      <td>0</td>\n",
       "      <td>104.0</td>\n",
       "      <td>Fuel Surcharge</td>\n",
       "      <td>4.37</td>\n",
       "      <td>43207</td>\n",
       "      <td>29910.0</td>\n",
       "      <td>0.0</td>\n",
       "    </tr>\n",
       "    <tr>\n",
       "      <th>50557</th>\n",
       "      <td>2017-08-05</td>\n",
       "      <td>2017-08-03</td>\n",
       "      <td>1</td>\n",
       "      <td>0</td>\n",
       "      <td>1ZY8X7331599137786</td>\n",
       "      <td>0.0</td>\n",
       "      <td>0</td>\n",
       "      <td>104.0</td>\n",
       "      <td>Next Day Air Early Residential</td>\n",
       "      <td>0.00</td>\n",
       "      <td>43207</td>\n",
       "      <td>29910.0</td>\n",
       "      <td>0.0</td>\n",
       "    </tr>\n",
       "    <tr>\n",
       "      <th>50558</th>\n",
       "      <td>2017-08-05</td>\n",
       "      <td>2017-08-05</td>\n",
       "      <td>0</td>\n",
       "      <td>0</td>\n",
       "      <td>NaN</td>\n",
       "      <td>0.0</td>\n",
       "      <td>0</td>\n",
       "      <td>NaN</td>\n",
       "      <td>Service Charge</td>\n",
       "      <td>12.90</td>\n",
       "      <td>NaN</td>\n",
       "      <td>NaN</td>\n",
       "      <td>0.0</td>\n",
       "    </tr>\n",
       "    <tr>\n",
       "      <th>50559</th>\n",
       "      <td>2017-08-05</td>\n",
       "      <td>2017-08-05</td>\n",
       "      <td>0</td>\n",
       "      <td>0</td>\n",
       "      <td>NaN</td>\n",
       "      <td>0.0</td>\n",
       "      <td>0</td>\n",
       "      <td>NaN</td>\n",
       "      <td>NaN</td>\n",
       "      <td>0.00</td>\n",
       "      <td>NaN</td>\n",
       "      <td>NaN</td>\n",
       "      <td>0.0</td>\n",
       "    </tr>\n",
       "    <tr>\n",
       "      <th>50560</th>\n",
       "      <td>2017-08-05</td>\n",
       "      <td>2017-08-05</td>\n",
       "      <td>0</td>\n",
       "      <td>0</td>\n",
       "      <td>NaN</td>\n",
       "      <td>0.0</td>\n",
       "      <td>0</td>\n",
       "      <td>NaN</td>\n",
       "      <td>Service Charge</td>\n",
       "      <td>12.90</td>\n",
       "      <td>NaN</td>\n",
       "      <td>NaN</td>\n",
       "      <td>0.0</td>\n",
       "    </tr>\n",
       "  </tbody>\n",
       "</table>\n",
       "<p>50561 rows × 13 columns</p>\n",
       "</div>"
      ],
      "text/plain": [
       "      Invoice Date Transaction Date  Package Quantity  Oversize Quantity  \\\n",
       "0       2017-08-05       2017-08-03                 1                  0   \n",
       "1       2017-08-05       2017-08-03                 0                  0   \n",
       "2       2017-08-05       2017-08-03                 1                  0   \n",
       "3       2017-08-05       2017-08-03                 0                  0   \n",
       "4       2017-08-05       2017-08-03                 1                  0   \n",
       "...            ...              ...               ...                ...   \n",
       "50556   2017-08-05       2017-08-03                 0                  0   \n",
       "50557   2017-08-05       2017-08-03                 1                  0   \n",
       "50558   2017-08-05       2017-08-05                 0                  0   \n",
       "50559   2017-08-05       2017-08-05                 0                  0   \n",
       "50560   2017-08-05       2017-08-05                 0                  0   \n",
       "\n",
       "          Tracking Number  Entered Weight  Billed Weight   Zone  \\\n",
       "0      1Z6VY3400377024016            16.0             16    2.0   \n",
       "1      1Z6VY3400377024016             0.0              0    2.0   \n",
       "2      1Z6VY3400377025195            38.4             39    2.0   \n",
       "3      1Z6VY3400377025195             0.0              0    2.0   \n",
       "4      1Z6VY3400377025239            19.2             20    2.0   \n",
       "...                   ...             ...            ...    ...   \n",
       "50556  1ZY8X7331599137786             0.0              0  104.0   \n",
       "50557  1ZY8X7331599137786             0.0              0  104.0   \n",
       "50558                 NaN             0.0              0    NaN   \n",
       "50559                 NaN             0.0              0    NaN   \n",
       "50560                 NaN             0.0              0    NaN   \n",
       "\n",
       "                   Charge Description  Net Amount Sender Postal  \\\n",
       "0           Ground Commercial Collect        5.66    08691 2342   \n",
       "1                      Fuel Surcharge        0.27    08691 2342   \n",
       "2           Ground Commercial Collect        6.42    08691 2342   \n",
       "3                      Fuel Surcharge        0.30    08691 2342   \n",
       "4           Ground Commercial Collect        5.66    08691 2342   \n",
       "...                               ...         ...           ...   \n",
       "50556                  Fuel Surcharge        4.37         43207   \n",
       "50557  Next Day Air Early Residential        0.00         43207   \n",
       "50558                  Service Charge       12.90           NaN   \n",
       "50559                             NaN        0.00           NaN   \n",
       "50560                  Service Charge       12.90           NaN   \n",
       "\n",
       "       Receiver Postal  diff  \n",
       "0               8512.0   0.0  \n",
       "1               8512.0   0.0  \n",
       "2               8512.0   0.6  \n",
       "3               8512.0   0.0  \n",
       "4               8512.0   0.8  \n",
       "...                ...   ...  \n",
       "50556          29910.0   0.0  \n",
       "50557          29910.0   0.0  \n",
       "50558              NaN   0.0  \n",
       "50559              NaN   0.0  \n",
       "50560              NaN   0.0  \n",
       "\n",
       "[50561 rows x 13 columns]"
      ]
     },
     "execution_count": 37,
     "metadata": {},
     "output_type": "execute_result"
    }
   ],
   "source": [
    "df"
   ]
  },
  {
   "cell_type": "code",
   "execution_count": 38,
   "id": "bd878e50",
   "metadata": {},
   "outputs": [
    {
     "data": {
      "text/plain": [
       "Invoice Date             0\n",
       "Transaction Date         0\n",
       "Package Quantity         0\n",
       "Oversize Quantity        0\n",
       "Tracking Number          3\n",
       "Entered Weight           0\n",
       "Billed Weight            0\n",
       "Zone                     3\n",
       "Charge Description       1\n",
       "Net Amount               0\n",
       "Sender Postal         5742\n",
       "Receiver Postal          3\n",
       "diff                     0\n",
       "dtype: int64"
      ]
     },
     "execution_count": 38,
     "metadata": {},
     "output_type": "execute_result"
    }
   ],
   "source": [
    "df.isnull().sum()"
   ]
  },
  {
   "cell_type": "code",
   "execution_count": 47,
   "id": "cb158587",
   "metadata": {},
   "outputs": [
    {
     "data": {
      "text/plain": [
       "array(['08691 2342', 8512, nan, 10950, 80435, 11801, 22306, 97660, 22111,\n",
       "       85123259, 2601, 76441, 5047, 94133, 13052, 98446, 21211, 55416,\n",
       "       87830, 19121, 76016, 10460, 21204, 85040, 92029, 34685, 13045,\n",
       "       2482, 1845, 33160, 11768, 8820, 33604, 11102, 43207, 86322, 89135,\n",
       "       75081, 80005, 90064, 89060, 99336, 66061, 80651, 33062, 98328,\n",
       "       432075100, 48146, 84302, 55904, 61354, 95340, 44028, 63026, 20659,\n",
       "       24224, 2119, 58203, 76115, 84082, 6811, 37214, 59716, 30025, 39563,\n",
       "       19148, 78613], dtype=object)"
      ]
     },
     "execution_count": 47,
     "metadata": {},
     "output_type": "execute_result"
    }
   ],
   "source": [
    "df['Sender Postal'].unique()"
   ]
  },
  {
   "cell_type": "code",
   "execution_count": 48,
   "id": "bcc041ba",
   "metadata": {},
   "outputs": [],
   "source": [
    "df['Sender Postal'].fillna(0,inplace=True)"
   ]
  },
  {
   "cell_type": "code",
   "execution_count": 49,
   "id": "6033a837",
   "metadata": {},
   "outputs": [
    {
     "data": {
      "text/plain": [
       "Invoice Date          0\n",
       "Transaction Date      0\n",
       "Package Quantity      0\n",
       "Oversize Quantity     0\n",
       "Tracking Number       3\n",
       "Entered Weight        0\n",
       "Billed Weight         0\n",
       "Zone                  3\n",
       "Charge Description    1\n",
       "Net Amount            0\n",
       "Sender Postal         0\n",
       "Receiver Postal       3\n",
       "diff                  0\n",
       "dtype: int64"
      ]
     },
     "execution_count": 49,
     "metadata": {},
     "output_type": "execute_result"
    }
   ],
   "source": [
    "df.isnull().sum()"
   ]
  },
  {
   "cell_type": "code",
   "execution_count": 50,
   "id": "b375cf02",
   "metadata": {},
   "outputs": [],
   "source": [
    "df.dropna(inplace=True)"
   ]
  },
  {
   "cell_type": "code",
   "execution_count": 51,
   "id": "fdb4172b",
   "metadata": {},
   "outputs": [
    {
     "data": {
      "text/plain": [
       "Invoice Date          0\n",
       "Transaction Date      0\n",
       "Package Quantity      0\n",
       "Oversize Quantity     0\n",
       "Tracking Number       0\n",
       "Entered Weight        0\n",
       "Billed Weight         0\n",
       "Zone                  0\n",
       "Charge Description    0\n",
       "Net Amount            0\n",
       "Sender Postal         0\n",
       "Receiver Postal       0\n",
       "diff                  0\n",
       "dtype: int64"
      ]
     },
     "execution_count": 51,
     "metadata": {},
     "output_type": "execute_result"
    }
   ],
   "source": [
    "df.isnull().sum()"
   ]
  },
  {
   "cell_type": "markdown",
   "id": "bb16c04c",
   "metadata": {},
   "source": [
    "#### Cleaning Postal Columns"
   ]
  },
  {
   "cell_type": "code",
   "execution_count": 181,
   "id": "f9d59790",
   "metadata": {},
   "outputs": [],
   "source": [
    "df['Receiver Postal']=df['Receiver Postal'].astype('str')"
   ]
  },
  {
   "cell_type": "code",
   "execution_count": 154,
   "id": "c5af34fc",
   "metadata": {},
   "outputs": [],
   "source": [
    "df['Sender Postal']=df['Sender Postal'].astype('str')"
   ]
  },
  {
   "cell_type": "code",
   "execution_count": 148,
   "id": "50460fa0",
   "metadata": {},
   "outputs": [],
   "source": [
    "long_zip=df['Sender Postal'].str.len()>5"
   ]
  },
  {
   "cell_type": "code",
   "execution_count": 149,
   "id": "5c83761b",
   "metadata": {},
   "outputs": [
    {
     "data": {
      "text/plain": [
       "array(['08691 2342'], dtype=object)"
      ]
     },
     "execution_count": 149,
     "metadata": {},
     "output_type": "execute_result"
    }
   ],
   "source": [
    "df['Sender Postal'][long_zip].unique()"
   ]
  },
  {
   "cell_type": "code",
   "execution_count": 172,
   "id": "91c9d09c",
   "metadata": {},
   "outputs": [],
   "source": [
    "df['Sender Postal']=df['Sender Postal'].str.slice(0,5)"
   ]
  },
  {
   "cell_type": "code",
   "execution_count": 173,
   "id": "b41b1923",
   "metadata": {},
   "outputs": [
    {
     "data": {
      "text/plain": [
       "array(['08691', '8512', '0', '10950', '80435', '11801', '22306', '97660',\n",
       "       '22111', '85123', '2601', '76441', '5047', '94133', '13052',\n",
       "       '98446', '21211', '55416', '87830', '19121', '76016', '10460',\n",
       "       '21204', '85040', '92029', '34685', '13045', '2482', '1845',\n",
       "       '33160', '11768', '8820', '33604', '11102', '43207', '86322',\n",
       "       '89135', '75081', '80005', '90064', '89060', '99336', '66061',\n",
       "       '80651', '33062', '98328', '48146', '84302', '55904', '61354',\n",
       "       '95340', '44028', '63026', '20659', '24224', '2119', '58203',\n",
       "       '76115', '84082', '6811', '37214', '59716', '30025', '39563',\n",
       "       '19148', '78613'], dtype=object)"
      ]
     },
     "execution_count": 173,
     "metadata": {},
     "output_type": "execute_result"
    }
   ],
   "source": [
    "df['Sender Postal'].unique()"
   ]
  },
  {
   "cell_type": "code",
   "execution_count": 174,
   "id": "2a084d44",
   "metadata": {},
   "outputs": [],
   "source": [
    "small=df['Sender Postal'].str.len()<5"
   ]
  },
  {
   "cell_type": "code",
   "execution_count": 175,
   "id": "019ecdce",
   "metadata": {
    "collapsed": true
   },
   "outputs": [
    {
     "name": "stderr",
     "output_type": "stream",
     "text": [
      "<ipython-input-175-fca943846ee3>:1: SettingWithCopyWarning: \n",
      "A value is trying to be set on a copy of a slice from a DataFrame\n",
      "\n",
      "See the caveats in the documentation: https://pandas.pydata.org/pandas-docs/stable/user_guide/indexing.html#returning-a-view-versus-a-copy\n",
      "  df['Sender Postal'][small]='0'+ df['Sender Postal'][small]\n"
     ]
    }
   ],
   "source": [
    "df['Sender Postal'][small]='0'+ df['Sender Postal'][small]"
   ]
  },
  {
   "cell_type": "code",
   "execution_count": 176,
   "id": "7cc109e3",
   "metadata": {},
   "outputs": [
    {
     "data": {
      "text/plain": [
       "array(['08691', '08512', '00', '10950', '80435', '11801', '22306',\n",
       "       '97660', '22111', '85123', '02601', '76441', '05047', '94133',\n",
       "       '13052', '98446', '21211', '55416', '87830', '19121', '76016',\n",
       "       '10460', '21204', '85040', '92029', '34685', '13045', '02482',\n",
       "       '01845', '33160', '11768', '08820', '33604', '11102', '43207',\n",
       "       '86322', '89135', '75081', '80005', '90064', '89060', '99336',\n",
       "       '66061', '80651', '33062', '98328', '48146', '84302', '55904',\n",
       "       '61354', '95340', '44028', '63026', '20659', '24224', '02119',\n",
       "       '58203', '76115', '84082', '06811', '37214', '59716', '30025',\n",
       "       '39563', '19148', '78613'], dtype=object)"
      ]
     },
     "execution_count": 176,
     "metadata": {},
     "output_type": "execute_result"
    }
   ],
   "source": [
    "df['Sender Postal'].unique()"
   ]
  },
  {
   "cell_type": "code",
   "execution_count": 177,
   "id": "c575cd99",
   "metadata": {},
   "outputs": [],
   "source": [
    "rows_w_zero=df['Sender Postal'].str.len()<3"
   ]
  },
  {
   "cell_type": "code",
   "execution_count": 178,
   "id": "cf02e3c1",
   "metadata": {
    "collapsed": true
   },
   "outputs": [
    {
     "name": "stderr",
     "output_type": "stream",
     "text": [
      "<ipython-input-178-75ce438c42c9>:1: SettingWithCopyWarning: \n",
      "A value is trying to be set on a copy of a slice from a DataFrame\n",
      "\n",
      "See the caveats in the documentation: https://pandas.pydata.org/pandas-docs/stable/user_guide/indexing.html#returning-a-view-versus-a-copy\n",
      "  df['Sender Postal'][rows_w_zero]=np.nan\n"
     ]
    }
   ],
   "source": [
    "df['Sender Postal'][rows_w_zero]=np.nan"
   ]
  },
  {
   "cell_type": "code",
   "execution_count": 179,
   "id": "981d17a9",
   "metadata": {},
   "outputs": [
    {
     "data": {
      "text/plain": [
       "array(['08691', '08512', nan, '10950', '80435', '11801', '22306', '97660',\n",
       "       '22111', '85123', '02601', '76441', '05047', '94133', '13052',\n",
       "       '98446', '21211', '55416', '87830', '19121', '76016', '10460',\n",
       "       '21204', '85040', '92029', '34685', '13045', '02482', '01845',\n",
       "       '33160', '11768', '08820', '33604', '11102', '43207', '86322',\n",
       "       '89135', '75081', '80005', '90064', '89060', '99336', '66061',\n",
       "       '80651', '33062', '98328', '48146', '84302', '55904', '61354',\n",
       "       '95340', '44028', '63026', '20659', '24224', '02119', '58203',\n",
       "       '76115', '84082', '06811', '37214', '59716', '30025', '39563',\n",
       "       '19148', '78613'], dtype=object)"
      ]
     },
     "execution_count": 179,
     "metadata": {},
     "output_type": "execute_result"
    }
   ],
   "source": [
    "df['Sender Postal'].unique()"
   ]
  },
  {
   "cell_type": "code",
   "execution_count": 182,
   "id": "15c5e042",
   "metadata": {},
   "outputs": [
    {
     "data": {
      "text/plain": [
       "array(['8512', '2882', '6810', ..., '68516', '78212', '87031'],\n",
       "      dtype=object)"
      ]
     },
     "execution_count": 182,
     "metadata": {},
     "output_type": "execute_result"
    }
   ],
   "source": [
    "df['Receiver Postal'].unique()"
   ]
  },
  {
   "cell_type": "code",
   "execution_count": 183,
   "id": "3ea90010",
   "metadata": {},
   "outputs": [],
   "source": [
    "rows_small=df['Receiver Postal'].str.len()<5"
   ]
  },
  {
   "cell_type": "code",
   "execution_count": 184,
   "id": "d551a89f",
   "metadata": {
    "collapsed": true
   },
   "outputs": [
    {
     "data": {
      "text/plain": [
       "array(['8512', '2882', '6810', '7456', '8857', '3303', '1960', '8734',\n",
       "       '7062', '7849', '3301', '2301', '7852', '7092', '2760', '1089',\n",
       "       '1801', '3046', '2093', '4005', '8067', '7751', '7078', '8515',\n",
       "       '1741', '7080', '2554', '7928', '7006', '3051', '4348', '8533',\n",
       "       '3104', '5261', '8070', '1810', '7012', '7840', '3884', '2186',\n",
       "       '2122', '2717', '4756', '2493', '6475', '7036', '7723', '7054',\n",
       "       '2421', '4105', '7059', '6811', '6457', '2132', '2053', '7060',\n",
       "       '6415', '6073', '6360', '7094', '4086', '6365', '7644', '3570',\n",
       "       '7825', '7601', '2828', '5855', '5874', '8088', '8260', '1756',\n",
       "       '2657', '5301', '2638', '4444', '1040', '4240', '7920', '2852',\n",
       "       '8816', '7046', '2139', '2121', '4345', '2649', '1545', '7666',\n",
       "       '1581', '2601', '2724', '2767', '4481', '4605', '8050', '2886',\n",
       "       '4901', '2842', '2779', '6611', '8831', '3809', '2818', '4459',\n",
       "       '1921', '2660', '1612', '2563', '4650', '2919', '3801', '2911',\n",
       "       '5201', '1776', '8540', '2347', '2816', '6074', '1827', '1983',\n",
       "       '8204', '1068', '7974', '4945', '3222', '8048', '8520', '7421',\n",
       "       '4652', '5681', '1821', '7450', '2780', '8812', '8062', '6085',\n",
       "       '2664', '2910', '8543', '7034', '2762', '7465', '6784', '7722',\n",
       "       '2832', '2184', '6424', '7753', '6906', '6804', '8302', '6053',\n",
       "       '3038', '4760', '8205', '6405', '8108', '3079', '8833', '2360',\n",
       "       '7940', '7410', '4863', '6801', '8234', '2061', '7002', '8835',\n",
       "       '7095', '2835', '7114', '3254', '1107', '6488', '2125', '2631',\n",
       "       '7945', '5468', '7746', '2790', '8701', '7470', '1852', '3584',\n",
       "       '8019', '7826', '2127', '4463', '7005', '4074', '5448', '1950',\n",
       "       '2892', '5641', '7821', '6249', '1906', '6410', '6480', '5352',\n",
       "       '7432', '6032', '7605', '2646', '8846', '2176', '4976', '6830',\n",
       "       '1730', '7304', '2917', '4617', '8873', '3229', '3842', '6019',\n",
       "       '6460', '2021', '7032', '8824', '8080', '1843', '3062', '7901',\n",
       "       '6023', '8332', '7712', '5032', '7731', '1604', '1054', '1915',\n",
       "       '6419', '6331', '7747', '1085', '5860', '8087', '5149', '2904',\n",
       "       '3862', '3608', '8865', '8042', '3574', '5047', '5091', '1879',\n",
       "       '6762', '6416', '7463', '8759', '8752', '2777', '1340', '7866',\n",
       "       '6492', '2038', '5257', '6786', '7424', '7843', '3053', '6484',\n",
       "       '1564', '7621', '2532', '6254', '6905', '2081', '6604', '1030',\n",
       "       '5673', '3838', '7645', '1453', '7013', '7001', '8054', '1970',\n",
       "       '1106', '6795', '7675', '3087', '7726', '6489', '6710', '3856',\n",
       "       '7033', '6840', '8886', '2148', '7024', '8830', '3470', '1760',\n",
       "       '5764', '7068', '8037', '1752', '1028', '6878', '5446', '4730',\n",
       "       '3256', '8731', '1824', '2332', '4611', '6483', '8751', '6076',\n",
       "       '1436', '1845', '7740', '6606', '7481', '1945', '2129', '2170',\n",
       "       '2906', '7461', '2141', '7030', '7853', '7070', '1803', '6029',\n",
       "       '2090', '4055', '3257', '1075', '7652', '8340', '5826', '5478',\n",
       "       '6070', '1778', '3045', '2476', '4022', '2026', '3244', '4088',\n",
       "       '3431', '8501', '6477', '6057', '8850', '4736', '3766', '6443',\n",
       "       '3598', '4072', '1529', '4967', '3835', '1095', '2180', '2478',\n",
       "       '6850', '5156', '1757', '6614', '7860', '5443', '2169', '8078',\n",
       "       '4401', '2718', '2878', '3055', '1860', '8060', '3223', '2453',\n",
       "       '3234', '8096', '1851', '1057', '3235', '4841', '2062', '3449',\n",
       "       '1056', '4854', '8093', '2110', '1605', '1905', '1201', '7748',\n",
       "       '7738', '6010', '6260', '2116', '8069', '8021', '6034', '2632',\n",
       "       '2743', '6426', '4743', '6877', '8077', '1007', '6790', '8084',\n",
       "       '1562', '6033', '2921', '3602', '1864', '2650', '8733', '6084',\n",
       "       '1835', '2155', '6704', '1702', '3064', '4681', '8007', '8012',\n",
       "       '7305', '7504', '3278', '1721', '6037', '4928', '5151', '1550',\n",
       "       '1606', '1301', '1452', '4101', '4553', '4930', '7930', '6385',\n",
       "       '3225', '3836', '7874', '1701', '1013', '8853', '1929', '6238',\n",
       "       '8641', '1222', '6854', '8360', '1880', '6706', '3820', '8844',\n",
       "       '8034', '3874', '1440', '7026', '3455', '6051', '2343', '1105',\n",
       "       '8094', '8872', '6062', '7020', '7306', '6103', '8035', '2138',\n",
       "       '7446', '2019', '8840', '8848', '2035', '2645', '7407', '2030',\n",
       "       '7950', '6110', '5155', '5465', '6281', '4862', '4330', '6095',\n",
       "       '1720', '6461', '3290', '4455', '1035', '3832', '3458', '6716',\n",
       "       '1507', '7082', '5463', '3031', '1060', '7043', '4427', '8009',\n",
       "       '7762', '3076', '7960', '6498', '2703', '7052', '8753', '7727',\n",
       "       '7922', '2451', '2210', '3281', '7093', '3109', '7506', '2769',\n",
       "       '7869', '2879', '8210', '4009', '7458', '7507', '2458', '8837',\n",
       "       '7460', '6002', '6831', '7863', '6026', '8016', '2889', '7701',\n",
       "       '8879', '8724', '6880', '7438', '1462', '6042', '8226', '2171',\n",
       "       '2492', '5494', '6001', '6066', '7670', '4038', '8057', '2907',\n",
       "       '3253', '5346', '7834', '2748', '7848', '2726', '7730', '1570',\n",
       "       '8551', '2770', '6374', '1001', '7208', '2909', '4008', '1747',\n",
       "       '1907', '6902', '8869', '6437', '8215', '6441', '2151', '2668',\n",
       "       '1569', '2888', '5143', '1746', '3833', '8510', '6111', '8730',\n",
       "       '1930', '7452', '5602', '2124', '3102', '1431', '7039', '7105',\n",
       "       '2865', '2149', '2874', '1026', '8043', '6401', '2895', '2048',\n",
       "       '7083', '1505', '1034', '3255', '8852', '6105', '2642', '8015',\n",
       "       '6812', '7847', '8223', '8535', '6903', '6063', '7102', '6470',\n",
       "       '1540', '3266', '7607', '6231', '8203', '7044', '1748', '1749',\n",
       "       '8405', '8817', '6098', '6413', '1566', '4015', '2920', '4068',\n",
       "       '6605', '4216', '2740', '7405', '5851', '7720', '7882', '6109',\n",
       "       '8059', '6472', '5777', '1524', '7090', '1886', '2072', '7936',\n",
       "       '6118', '2324', '4032', '1890', '5060', '8827', '8876', '8618',\n",
       "       '7933', '6776', '7029', '7064', '4265', '8527', '6778', '2420',\n",
       "       '8343', '7430', '5491', '2190', '7011', '6897', '3060', '6513',\n",
       "       '7934', '2817', '2812', '5039', '7732', '5660', '2136', '1844',\n",
       "       '6770', '7932', '2379', '8036', '4971', '2571', '6234', '2356',\n",
       "       '2113', '6119', '7004', '7643', '2864', '5654', '6510', '4106',\n",
       "       '1199', '8003', '1098', '3579', '8053', '5481', '2368', '4666',\n",
       "       '2465', '4210', '5857', '3851', '3071', '1775', '7650', '8083',\n",
       "       '3444', '1088', '5462', '5760', '7628', '2375', '8550', '4092',\n",
       "       '7677', '2766', '1543', '4950', '2771', '7205', '1223', '6451',\n",
       "       '3103', '1826', '7076', '6279', '1830', '5843', '2568', '5486',\n",
       "       '7646', '6340', '8534', '7017', '4938', '7660', '2822', '4021',\n",
       "       '7050', '3220', '6035', '2067', '3886', '1923', '1460', '1740',\n",
       "       '8691', '6114', '1863', '6412', '6754', '7031', '3304', '3260',\n",
       "       '3110', '3864', '7417', '7876', '3878', '6777', '6082', '6351',\n",
       "       '1527', '4606', '7764', '1506', '8628', '1038', '3869', '8109',\n",
       "       '6417', '2534', '8884', '8502', '6383', '7657', '6615', '3077',\n",
       "       '1535', '7462', '5672', '4236', '2482', '7009', '6403', '7728',\n",
       "       '8031', '7631', '1603', '6518', '8014', '5661', '8723', '7072',\n",
       "       '8805', '8055', '1610', '8244', '4847', '6705', '4456', '1247',\n",
       "       '7865', '2467', '8820', '2111', '5824', '2539', '2723', '7724',\n",
       "       '5753', '8822', '6354', '4090', '4769', '6013', '7016', '1516',\n",
       "       '3894', '8902', '8809', '7630', '1420', '6825', '8081', '6259',\n",
       "       '8829', '6040', '3848', '5455', '6712', '2635', '6525', '6511',\n",
       "       '7419', '2351', '7202', '6514', '2896', '2739', '5250', '3872',\n",
       "       '8553', '6791', '5846', '4443', '7071', '3063', '8736', '3906',\n",
       "       '1027', '7021', '4064', '4578', '2459', '3054', '7871', '2472',\n",
       "       '8889', '4768', '6248', '6339', '7739', '7110', '1020', '8722',\n",
       "       '2346', '2119', '2908', '2537', '1230', '2719', '5038', '2825',\n",
       "       '5495', '6473', '6027', '1949', '2891', '1523', '7081', '1588',\n",
       "       '1128', '8648'], dtype=object)"
      ]
     },
     "execution_count": 184,
     "metadata": {},
     "output_type": "execute_result"
    }
   ],
   "source": [
    "df['Receiver Postal'][rows_small].unique()"
   ]
  },
  {
   "cell_type": "code",
   "execution_count": 185,
   "id": "fb6eec0e",
   "metadata": {
    "collapsed": true
   },
   "outputs": [
    {
     "name": "stderr",
     "output_type": "stream",
     "text": [
      "<ipython-input-185-523a38283990>:1: SettingWithCopyWarning: \n",
      "A value is trying to be set on a copy of a slice from a DataFrame\n",
      "\n",
      "See the caveats in the documentation: https://pandas.pydata.org/pandas-docs/stable/user_guide/indexing.html#returning-a-view-versus-a-copy\n",
      "  df['Receiver Postal'][rows_small]='0'+ df['Receiver Postal'][rows_small]\n"
     ]
    }
   ],
   "source": [
    "df['Receiver Postal'][rows_small]='0'+ df['Receiver Postal'][rows_small]"
   ]
  },
  {
   "cell_type": "code",
   "execution_count": 186,
   "id": "9d2d1cf5",
   "metadata": {},
   "outputs": [
    {
     "data": {
      "text/plain": [
       "array(['08512', '02882', '06810', ..., '68516', '78212', '87031'],\n",
       "      dtype=object)"
      ]
     },
     "execution_count": 186,
     "metadata": {},
     "output_type": "execute_result"
    }
   ],
   "source": [
    "df['Receiver Postal'].unique()"
   ]
  },
  {
   "cell_type": "markdown",
   "id": "14db526b",
   "metadata": {},
   "source": [
    "### Analysing Data"
   ]
  },
  {
   "cell_type": "code",
   "execution_count": 287,
   "id": "109a1b4a",
   "metadata": {},
   "outputs": [
    {
     "data": {
      "text/html": [
       "<div>\n",
       "<style scoped>\n",
       "    .dataframe tbody tr th:only-of-type {\n",
       "        vertical-align: middle;\n",
       "    }\n",
       "\n",
       "    .dataframe tbody tr th {\n",
       "        vertical-align: top;\n",
       "    }\n",
       "\n",
       "    .dataframe thead th {\n",
       "        text-align: right;\n",
       "    }\n",
       "</style>\n",
       "<table border=\"1\" class=\"dataframe\">\n",
       "  <thead>\n",
       "    <tr style=\"text-align: right;\">\n",
       "      <th></th>\n",
       "      <th>Package Quantity</th>\n",
       "      <th>Oversize Quantity</th>\n",
       "      <th>Entered Weight</th>\n",
       "      <th>Billed Weight</th>\n",
       "      <th>Zone</th>\n",
       "      <th>Net Amount</th>\n",
       "      <th>diff</th>\n",
       "      <th>year</th>\n",
       "      <th>month</th>\n",
       "    </tr>\n",
       "  </thead>\n",
       "  <tbody>\n",
       "    <tr>\n",
       "      <th>count</th>\n",
       "      <td>50558.000000</td>\n",
       "      <td>50558.0</td>\n",
       "      <td>50558.000000</td>\n",
       "      <td>50558.000000</td>\n",
       "      <td>50558.000000</td>\n",
       "      <td>50558.000000</td>\n",
       "      <td>50558.000000</td>\n",
       "      <td>50558.0</td>\n",
       "      <td>50558.000000</td>\n",
       "    </tr>\n",
       "    <tr>\n",
       "      <th>mean</th>\n",
       "      <td>0.413921</td>\n",
       "      <td>0.0</td>\n",
       "      <td>3.252087</td>\n",
       "      <td>4.248487</td>\n",
       "      <td>9.403082</td>\n",
       "      <td>2.890144</td>\n",
       "      <td>0.996400</td>\n",
       "      <td>2017.0</td>\n",
       "      <td>7.373373</td>\n",
       "    </tr>\n",
       "    <tr>\n",
       "      <th>std</th>\n",
       "      <td>0.492740</td>\n",
       "      <td>0.0</td>\n",
       "      <td>8.355519</td>\n",
       "      <td>10.180587</td>\n",
       "      <td>29.856699</td>\n",
       "      <td>4.951366</td>\n",
       "      <td>4.794032</td>\n",
       "      <td>0.0</td>\n",
       "      <td>0.484073</td>\n",
       "    </tr>\n",
       "    <tr>\n",
       "      <th>min</th>\n",
       "      <td>-1.000000</td>\n",
       "      <td>0.0</td>\n",
       "      <td>0.000000</td>\n",
       "      <td>0.000000</td>\n",
       "      <td>0.000000</td>\n",
       "      <td>-56.000000</td>\n",
       "      <td>-16.000000</td>\n",
       "      <td>2017.0</td>\n",
       "      <td>6.000000</td>\n",
       "    </tr>\n",
       "    <tr>\n",
       "      <th>25%</th>\n",
       "      <td>0.000000</td>\n",
       "      <td>0.0</td>\n",
       "      <td>0.000000</td>\n",
       "      <td>0.000000</td>\n",
       "      <td>2.000000</td>\n",
       "      <td>0.350000</td>\n",
       "      <td>0.000000</td>\n",
       "      <td>2017.0</td>\n",
       "      <td>7.000000</td>\n",
       "    </tr>\n",
       "    <tr>\n",
       "      <th>50%</th>\n",
       "      <td>0.000000</td>\n",
       "      <td>0.0</td>\n",
       "      <td>0.000000</td>\n",
       "      <td>0.000000</td>\n",
       "      <td>4.000000</td>\n",
       "      <td>1.870000</td>\n",
       "      <td>0.000000</td>\n",
       "      <td>2017.0</td>\n",
       "      <td>7.000000</td>\n",
       "    </tr>\n",
       "    <tr>\n",
       "      <th>75%</th>\n",
       "      <td>1.000000</td>\n",
       "      <td>0.0</td>\n",
       "      <td>1.700000</td>\n",
       "      <td>3.000000</td>\n",
       "      <td>5.000000</td>\n",
       "      <td>5.660000</td>\n",
       "      <td>0.300000</td>\n",
       "      <td>2017.0</td>\n",
       "      <td>8.000000</td>\n",
       "    </tr>\n",
       "    <tr>\n",
       "      <th>max</th>\n",
       "      <td>1.000000</td>\n",
       "      <td>0.0</td>\n",
       "      <td>147.800000</td>\n",
       "      <td>157.000000</td>\n",
       "      <td>308.000000</td>\n",
       "      <td>150.000000</td>\n",
       "      <td>147.000000</td>\n",
       "      <td>2017.0</td>\n",
       "      <td>8.000000</td>\n",
       "    </tr>\n",
       "  </tbody>\n",
       "</table>\n",
       "</div>"
      ],
      "text/plain": [
       "       Package Quantity  Oversize Quantity  Entered Weight  Billed Weight  \\\n",
       "count      50558.000000            50558.0    50558.000000   50558.000000   \n",
       "mean           0.413921                0.0        3.252087       4.248487   \n",
       "std            0.492740                0.0        8.355519      10.180587   \n",
       "min           -1.000000                0.0        0.000000       0.000000   \n",
       "25%            0.000000                0.0        0.000000       0.000000   \n",
       "50%            0.000000                0.0        0.000000       0.000000   \n",
       "75%            1.000000                0.0        1.700000       3.000000   \n",
       "max            1.000000                0.0      147.800000     157.000000   \n",
       "\n",
       "               Zone    Net Amount          diff     year         month  \n",
       "count  50558.000000  50558.000000  50558.000000  50558.0  50558.000000  \n",
       "mean       9.403082      2.890144      0.996400   2017.0      7.373373  \n",
       "std       29.856699      4.951366      4.794032      0.0      0.484073  \n",
       "min        0.000000    -56.000000    -16.000000   2017.0      6.000000  \n",
       "25%        2.000000      0.350000      0.000000   2017.0      7.000000  \n",
       "50%        4.000000      1.870000      0.000000   2017.0      7.000000  \n",
       "75%        5.000000      5.660000      0.300000   2017.0      8.000000  \n",
       "max      308.000000    150.000000    147.000000   2017.0      8.000000  "
      ]
     },
     "execution_count": 287,
     "metadata": {},
     "output_type": "execute_result"
    }
   ],
   "source": [
    "df.describe()"
   ]
  },
  {
   "cell_type": "markdown",
   "id": "be5d83f4",
   "metadata": {},
   "source": [
    "#### Number of Transactions per Zone"
   ]
  },
  {
   "cell_type": "code",
   "execution_count": 109,
   "id": "7a726f47",
   "metadata": {},
   "outputs": [
    {
     "data": {
      "text/plain": [
       "2.0      12669\n",
       "4.0       9822\n",
       "3.0       8838\n",
       "5.0       6918\n",
       "8.0       5112\n",
       "6.0       3286\n",
       "7.0       2070\n",
       "102.0      235\n",
       "206.0      194\n",
       "208.0      183\n",
       "134.0      154\n",
       "104.0      145\n",
       "205.0      127\n",
       "103.0      119\n",
       "105.0       69\n",
       "207.0       56\n",
       "108.0       55\n",
       "308.0       54\n",
       "106.0       53\n",
       "0.0         50\n",
       "44.0        46\n",
       "138.0       38\n",
       "226.0       36\n",
       "135.0       35\n",
       "136.0       28\n",
       "133.0       26\n",
       "107.0       20\n",
       "46.0        19\n",
       "126.0       17\n",
       "307.0       16\n",
       "204.0       16\n",
       "224.0       14\n",
       "132.0       10\n",
       "306.0        8\n",
       "137.0        8\n",
       "305.0        4\n",
       "203.0        3\n",
       "124.0        3\n",
       "304.0        2\n",
       "Name: Zone, dtype: int64"
      ]
     },
     "execution_count": 109,
     "metadata": {},
     "output_type": "execute_result"
    }
   ],
   "source": [
    "df['Zone'].value_counts()"
   ]
  },
  {
   "cell_type": "markdown",
   "id": "682d2c90",
   "metadata": {},
   "source": [
    "#### Net Amount for Zone (Top 10)"
   ]
  },
  {
   "cell_type": "code",
   "execution_count": 188,
   "id": "4a1d1fb3",
   "metadata": {},
   "outputs": [],
   "source": [
    "zone_amount=df.groupby('Zone')['Net Amount'].sum().sort_values(ascending=False).reset_index()"
   ]
  },
  {
   "cell_type": "code",
   "execution_count": 189,
   "id": "b6661a31",
   "metadata": {},
   "outputs": [
    {
     "data": {
      "text/html": [
       "<div>\n",
       "<style scoped>\n",
       "    .dataframe tbody tr th:only-of-type {\n",
       "        vertical-align: middle;\n",
       "    }\n",
       "\n",
       "    .dataframe tbody tr th {\n",
       "        vertical-align: top;\n",
       "    }\n",
       "\n",
       "    .dataframe thead th {\n",
       "        text-align: right;\n",
       "    }\n",
       "</style>\n",
       "<table border=\"1\" class=\"dataframe\">\n",
       "  <thead>\n",
       "    <tr style=\"text-align: right;\">\n",
       "      <th></th>\n",
       "      <th>Zone</th>\n",
       "      <th>Net Amount</th>\n",
       "    </tr>\n",
       "  </thead>\n",
       "  <tbody>\n",
       "    <tr>\n",
       "      <th>0</th>\n",
       "      <td>2.0</td>\n",
       "      <td>33969.38</td>\n",
       "    </tr>\n",
       "    <tr>\n",
       "      <th>1</th>\n",
       "      <td>4.0</td>\n",
       "      <td>24708.76</td>\n",
       "    </tr>\n",
       "    <tr>\n",
       "      <th>2</th>\n",
       "      <td>3.0</td>\n",
       "      <td>23470.28</td>\n",
       "    </tr>\n",
       "    <tr>\n",
       "      <th>3</th>\n",
       "      <td>5.0</td>\n",
       "      <td>17779.72</td>\n",
       "    </tr>\n",
       "    <tr>\n",
       "      <th>4</th>\n",
       "      <td>8.0</td>\n",
       "      <td>17058.12</td>\n",
       "    </tr>\n",
       "    <tr>\n",
       "      <th>5</th>\n",
       "      <td>6.0</td>\n",
       "      <td>8823.91</td>\n",
       "    </tr>\n",
       "    <tr>\n",
       "      <th>6</th>\n",
       "      <td>7.0</td>\n",
       "      <td>6081.60</td>\n",
       "    </tr>\n",
       "    <tr>\n",
       "      <th>7</th>\n",
       "      <td>206.0</td>\n",
       "      <td>1877.69</td>\n",
       "    </tr>\n",
       "    <tr>\n",
       "      <th>8</th>\n",
       "      <td>104.0</td>\n",
       "      <td>1258.57</td>\n",
       "    </tr>\n",
       "    <tr>\n",
       "      <th>9</th>\n",
       "      <td>208.0</td>\n",
       "      <td>1159.93</td>\n",
       "    </tr>\n",
       "  </tbody>\n",
       "</table>\n",
       "</div>"
      ],
      "text/plain": [
       "    Zone  Net Amount\n",
       "0    2.0    33969.38\n",
       "1    4.0    24708.76\n",
       "2    3.0    23470.28\n",
       "3    5.0    17779.72\n",
       "4    8.0    17058.12\n",
       "5    6.0     8823.91\n",
       "6    7.0     6081.60\n",
       "7  206.0     1877.69\n",
       "8  104.0     1258.57\n",
       "9  208.0     1159.93"
      ]
     },
     "execution_count": 189,
     "metadata": {},
     "output_type": "execute_result"
    }
   ],
   "source": [
    "zone_amount.head(10)"
   ]
  },
  {
   "cell_type": "markdown",
   "id": "d879a7d9",
   "metadata": {},
   "source": [
    "#### Number of transactions per Charge"
   ]
  },
  {
   "cell_type": "code",
   "execution_count": 54,
   "id": "8b9957f1",
   "metadata": {},
   "outputs": [
    {
     "data": {
      "text/plain": [
       "Fuel Surcharge                                   14866\n",
       "Ground Residential                               10005\n",
       "Residential Surcharge                             8253\n",
       "Ground Commercial                                 7136\n",
       "Delivery Area Surcharge - Extended                2558\n",
       "                                                 ...  \n",
       "Address Correction 2nd Day Air                       1\n",
       "3 Day Select Undeliverable Return                    1\n",
       "Next Day Air Early Commercial                        1\n",
       "GSR Next Day Air Residential                         1\n",
       "Not Previously Billed Delivery Area Surcharge        1\n",
       "Name: Charge Description, Length: 63, dtype: int64"
      ]
     },
     "execution_count": 54,
     "metadata": {},
     "output_type": "execute_result"
    }
   ],
   "source": [
    "df['Charge Description'].value_counts()"
   ]
  },
  {
   "cell_type": "code",
   "execution_count": 297,
   "id": "054d7efe",
   "metadata": {},
   "outputs": [
    {
     "data": {
      "text/plain": [
       "Fuel Surcharge                               14866\n",
       "Ground Residential                           10005\n",
       "Residential Surcharge                         8253\n",
       "Ground Commercial                             7136\n",
       "Delivery Area Surcharge - Extended            2558\n",
       "Delivery Area Surcharge                       1901\n",
       "Residential Adjustment                        1680\n",
       "Shipping Charge Correction Fuel Surcharge     1271\n",
       "Shipping Charge Correction Ground             1132\n",
       "Additional Handling                            423\n",
       "Name: Charge Description, dtype: int64"
      ]
     },
     "execution_count": 297,
     "metadata": {},
     "output_type": "execute_result"
    }
   ],
   "source": [
    "df['Charge Description'].value_counts()[:10]"
   ]
  },
  {
   "cell_type": "code",
   "execution_count": 296,
   "id": "233a1662",
   "metadata": {},
   "outputs": [
    {
     "data": {
      "image/png": "[encoded data removed]",
      "text/plain": [
       "<Figure size 1224x720 with 1 Axes>"
      ]
     },
     "metadata": {
      "needs_background": "light"
     },
     "output_type": "display_data"
    }
   ],
   "source": [
    "plt.figure(figsize=(17,10))\n",
    "sns.barplot(x=df['Charge Description'].value_counts().index[0:5],y=df['Charge Description'].value_counts()[0:5],data=df)\n",
    "plt.title(\"Top 5 frequently occuring Charges\", fontsize=20)\n",
    "plt.xlabel(\"Charge\", fontsize=16)\n",
    "plt.ylabel(\"Num of Transactions\", fontsize=16)\n",
    "plt.show()"
   ]
  },
  {
   "cell_type": "markdown",
   "id": "8a282b92",
   "metadata": {},
   "source": [
    "#### Net amount for Charge Description(top 10)"
   ]
  },
  {
   "cell_type": "code",
   "execution_count": 268,
   "id": "eb5e1cde",
   "metadata": {},
   "outputs": [],
   "source": [
    "net_amt_charge=df.groupby('Charge Description')['Net Amount'].sum().sort_values(ascending=False).reset_index()"
   ]
  },
  {
   "cell_type": "code",
   "execution_count": 269,
   "id": "2e52a885",
   "metadata": {},
   "outputs": [
    {
     "data": {
      "text/html": [
       "<div>\n",
       "<style scoped>\n",
       "    .dataframe tbody tr th:only-of-type {\n",
       "        vertical-align: middle;\n",
       "    }\n",
       "\n",
       "    .dataframe tbody tr th {\n",
       "        vertical-align: top;\n",
       "    }\n",
       "\n",
       "    .dataframe thead th {\n",
       "        text-align: right;\n",
       "    }\n",
       "</style>\n",
       "<table border=\"1\" class=\"dataframe\">\n",
       "  <thead>\n",
       "    <tr style=\"text-align: right;\">\n",
       "      <th></th>\n",
       "      <th>Charge Description</th>\n",
       "      <th>Net Amount</th>\n",
       "    </tr>\n",
       "  </thead>\n",
       "  <tbody>\n",
       "    <tr>\n",
       "      <th>0</th>\n",
       "      <td>Ground Residential</td>\n",
       "      <td>50975.77</td>\n",
       "    </tr>\n",
       "    <tr>\n",
       "      <th>1</th>\n",
       "      <td>Ground Commercial</td>\n",
       "      <td>40336.99</td>\n",
       "    </tr>\n",
       "    <tr>\n",
       "      <th>2</th>\n",
       "      <td>Residential Surcharge</td>\n",
       "      <td>15497.73</td>\n",
       "    </tr>\n",
       "    <tr>\n",
       "      <th>3</th>\n",
       "      <td>Fuel Surcharge</td>\n",
       "      <td>5924.75</td>\n",
       "    </tr>\n",
       "    <tr>\n",
       "      <th>4</th>\n",
       "      <td>Delivery Area Surcharge - Extended</td>\n",
       "      <td>5250.69</td>\n",
       "    </tr>\n",
       "    <tr>\n",
       "      <th>5</th>\n",
       "      <td>Shipping Charge Correction Large Package Surch...</td>\n",
       "      <td>4424.00</td>\n",
       "    </tr>\n",
       "    <tr>\n",
       "      <th>6</th>\n",
       "      <td>Residential Adjustment</td>\n",
       "      <td>3826.60</td>\n",
       "    </tr>\n",
       "    <tr>\n",
       "      <th>7</th>\n",
       "      <td>Delivery Area Surcharge</td>\n",
       "      <td>3204.31</td>\n",
       "    </tr>\n",
       "    <tr>\n",
       "      <th>8</th>\n",
       "      <td>Next Day Air Commercial</td>\n",
       "      <td>2805.03</td>\n",
       "    </tr>\n",
       "    <tr>\n",
       "      <th>9</th>\n",
       "      <td>Shipping Charge Correction Ground</td>\n",
       "      <td>2525.83</td>\n",
       "    </tr>\n",
       "  </tbody>\n",
       "</table>\n",
       "</div>"
      ],
      "text/plain": [
       "                                  Charge Description  Net Amount\n",
       "0                                 Ground Residential    50975.77\n",
       "1                                  Ground Commercial    40336.99\n",
       "2                              Residential Surcharge    15497.73\n",
       "3                                     Fuel Surcharge     5924.75\n",
       "4                 Delivery Area Surcharge - Extended     5250.69\n",
       "5  Shipping Charge Correction Large Package Surch...     4424.00\n",
       "6                             Residential Adjustment     3826.60\n",
       "7                            Delivery Area Surcharge     3204.31\n",
       "8                            Next Day Air Commercial     2805.03\n",
       "9                  Shipping Charge Correction Ground     2525.83"
      ]
     },
     "execution_count": 269,
     "metadata": {},
     "output_type": "execute_result"
    }
   ],
   "source": [
    "net_amt_charge.head(10)\n"
   ]
  },
  {
   "cell_type": "code",
   "execution_count": 274,
   "id": "b91550e9",
   "metadata": {},
   "outputs": [
    {
     "data": {
      "image/png": "[encoded data removed]",
      "text/plain": [
       "<Figure size 1440x720 with 1 Axes>"
      ]
     },
     "metadata": {
      "needs_background": "light"
     },
     "output_type": "display_data"
    }
   ],
   "source": [
    "plt.figure(figsize=(20,10))\n",
    "sns.barplot(x=net_amt_charge['Charge Description'][0:5],y=net_amt_charge['Net Amount'][0:5],data=net_amt_charge)\n",
    "plt.title(\"Top 5 Highest Amount Charges\", fontsize=20)\n",
    "plt.xlabel(\"Charge\", fontsize=16)\n",
    "plt.ylabel(\"Net Amount\", fontsize=16)\n",
    "plt.show()"
   ]
  },
  {
   "cell_type": "markdown",
   "id": "97f3d075",
   "metadata": {},
   "source": [
    "#### Average Net Amount for Charges"
   ]
  },
  {
   "cell_type": "code",
   "execution_count": 275,
   "id": "cea9b7ae",
   "metadata": {},
   "outputs": [],
   "source": [
    "avg_amt_charge=df.groupby('Charge Description')['Net Amount'].mean().sort_values(ascending=False).reset_index()"
   ]
  },
  {
   "cell_type": "code",
   "execution_count": 298,
   "id": "3a0dbdff",
   "metadata": {},
   "outputs": [],
   "source": [
    "avg_amt_charge.columns=['Charge Description','Avg Net Amount']"
   ]
  },
  {
   "cell_type": "code",
   "execution_count": 300,
   "id": "dbe2f1e8",
   "metadata": {},
   "outputs": [
    {
     "data": {
      "text/html": [
       "<div>\n",
       "<style scoped>\n",
       "    .dataframe tbody tr th:only-of-type {\n",
       "        vertical-align: middle;\n",
       "    }\n",
       "\n",
       "    .dataframe tbody tr th {\n",
       "        vertical-align: top;\n",
       "    }\n",
       "\n",
       "    .dataframe thead th {\n",
       "        text-align: right;\n",
       "    }\n",
       "</style>\n",
       "<table border=\"1\" class=\"dataframe\">\n",
       "  <thead>\n",
       "    <tr style=\"text-align: right;\">\n",
       "      <th></th>\n",
       "      <th>Charge Description</th>\n",
       "      <th>Avg Net Amount</th>\n",
       "    </tr>\n",
       "  </thead>\n",
       "  <tbody>\n",
       "    <tr>\n",
       "      <th>0</th>\n",
       "      <td>Shipping Charge Correction Over Maximum Size</td>\n",
       "      <td>150.000000</td>\n",
       "    </tr>\n",
       "    <tr>\n",
       "      <th>1</th>\n",
       "      <td>Shipping Charge Correction Over Maximum Length</td>\n",
       "      <td>150.000000</td>\n",
       "    </tr>\n",
       "    <tr>\n",
       "      <th>2</th>\n",
       "      <td>Next Day Air Early Commercial</td>\n",
       "      <td>80.280000</td>\n",
       "    </tr>\n",
       "    <tr>\n",
       "      <th>3</th>\n",
       "      <td>Shipping Charge Correction Large Package Surch...</td>\n",
       "      <td>44.686869</td>\n",
       "    </tr>\n",
       "    <tr>\n",
       "      <th>4</th>\n",
       "      <td>Early Surcharge</td>\n",
       "      <td>30.000000</td>\n",
       "    </tr>\n",
       "    <tr>\n",
       "      <th>5</th>\n",
       "      <td>Large Package Surcharge</td>\n",
       "      <td>28.000000</td>\n",
       "    </tr>\n",
       "    <tr>\n",
       "      <th>6</th>\n",
       "      <td>Next Day Air Early Residential</td>\n",
       "      <td>27.130000</td>\n",
       "    </tr>\n",
       "    <tr>\n",
       "      <th>7</th>\n",
       "      <td>Return To Sender - Phone Request</td>\n",
       "      <td>19.400000</td>\n",
       "    </tr>\n",
       "    <tr>\n",
       "      <th>8</th>\n",
       "      <td>Reroute - Phone Request</td>\n",
       "      <td>19.400000</td>\n",
       "    </tr>\n",
       "    <tr>\n",
       "      <th>9</th>\n",
       "      <td>Next Day Air Commercial</td>\n",
       "      <td>19.345034</td>\n",
       "    </tr>\n",
       "  </tbody>\n",
       "</table>\n",
       "</div>"
      ],
      "text/plain": [
       "                                  Charge Description  Avg Net Amount\n",
       "0       Shipping Charge Correction Over Maximum Size      150.000000\n",
       "1     Shipping Charge Correction Over Maximum Length      150.000000\n",
       "2                      Next Day Air Early Commercial       80.280000\n",
       "3  Shipping Charge Correction Large Package Surch...       44.686869\n",
       "4                                    Early Surcharge       30.000000\n",
       "5                            Large Package Surcharge       28.000000\n",
       "6                     Next Day Air Early Residential       27.130000\n",
       "7                   Return To Sender - Phone Request       19.400000\n",
       "8                            Reroute - Phone Request       19.400000\n",
       "9                            Next Day Air Commercial       19.345034"
      ]
     },
     "execution_count": 300,
     "metadata": {},
     "output_type": "execute_result"
    }
   ],
   "source": [
    "avg_amt_charge.head(10)"
   ]
  },
  {
   "cell_type": "code",
   "execution_count": 299,
   "id": "c9d8f242",
   "metadata": {},
   "outputs": [
    {
     "data": {
      "image/png": "[encoded data removed]",
      "text/plain": [
       "<Figure size 1800x720 with 1 Axes>"
      ]
     },
     "metadata": {
      "needs_background": "light"
     },
     "output_type": "display_data"
    }
   ],
   "source": [
    "plt.figure(figsize=(25,10))\n",
    "sns.barplot(x=avg_amt_charge['Charge Description'][0:5],y=avg_amt_charge['Avg Net Amount'][0:5],data=avg_amt_charge)\n",
    "plt.title(\"Top 5 Avg Amount per Charge\", fontsize=20)\n",
    "plt.xlabel(\"Charge\", fontsize=16)\n",
    "plt.ylabel(\"Avg Net Amount\", fontsize=16)\n",
    "plt.show()"
   ]
  },
  {
   "cell_type": "markdown",
   "id": "1e867075",
   "metadata": {},
   "source": [
    "#### Analysis of 'diff'\n",
    "##### diff- Column that contains the difference between the 'Entered Weight' and 'Billed Weight'"
   ]
  },
  {
   "cell_type": "code",
   "execution_count": 219,
   "id": "61f32bd7",
   "metadata": {},
   "outputs": [
    {
     "data": {
      "text/plain": [
       "50376.0"
      ]
     },
     "execution_count": 219,
     "metadata": {},
     "output_type": "execute_result"
    }
   ],
   "source": [
    "df['diff'].sum()"
   ]
  },
  {
   "cell_type": "code",
   "execution_count": 220,
   "id": "8c0aecc0",
   "metadata": {},
   "outputs": [
    {
     "data": {
      "text/plain": [
       "0.9964001740574844"
      ]
     },
     "execution_count": 220,
     "metadata": {},
     "output_type": "execute_result"
    }
   ],
   "source": [
    "df['diff'].mean()"
   ]
  },
  {
   "cell_type": "code",
   "execution_count": 221,
   "id": "365e6ce1",
   "metadata": {},
   "outputs": [
    {
     "data": {
      "text/plain": [
       "<AxesSubplot:>"
      ]
     },
     "execution_count": 221,
     "metadata": {},
     "output_type": "execute_result"
    },
    {
     "data": {
      "image/png": "[encoded data removed]",
      "text/plain": [
       "<Figure size 432x288 with 1 Axes>"
      ]
     },
     "metadata": {
      "needs_background": "light"
     },
     "output_type": "display_data"
    }
   ],
   "source": [
    "df.boxplot('diff')"
   ]
  },
  {
   "cell_type": "markdown",
   "id": "f03754ef",
   "metadata": {},
   "source": [
    "#### Relationship between Billed Weight and Entered Weight"
   ]
  },
  {
   "cell_type": "code",
   "execution_count": 222,
   "id": "6456486b",
   "metadata": {},
   "outputs": [
    {
     "data": {
      "image/png": "[encoded data removed]",
      "text/plain": [
       "<Figure size 432x288 with 1 Axes>"
      ]
     },
     "metadata": {
      "needs_background": "light"
     },
     "output_type": "display_data"
    }
   ],
   "source": [
    "weight=df.plot.scatter(x='Billed Weight',y='Entered Weight')"
   ]
  },
  {
   "cell_type": "markdown",
   "id": "39d029f8",
   "metadata": {},
   "source": [
    "#### Relationship between Billed Weight and Net Amount"
   ]
  },
  {
   "cell_type": "code",
   "execution_count": 223,
   "id": "22821106",
   "metadata": {},
   "outputs": [
    {
     "data": {
      "image/png": "[encoded data removed]",
      "text/plain": [
       "<Figure size 432x288 with 1 Axes>"
      ]
     },
     "metadata": {
      "needs_background": "light"
     },
     "output_type": "display_data"
    }
   ],
   "source": [
    "bweight_amount=df.plot.scatter(x='Billed Weight',y='Net Amount')"
   ]
  },
  {
   "cell_type": "markdown",
   "id": "17fee68e",
   "metadata": {},
   "source": [
    "#### Relationship between Entered Weight and Net Amount"
   ]
  },
  {
   "cell_type": "code",
   "execution_count": 224,
   "id": "f9abd01c",
   "metadata": {},
   "outputs": [
    {
     "data": {
      "image/png": "[encoded data removed]",
      "text/plain": [
       "<Figure size 432x288 with 1 Axes>"
      ]
     },
     "metadata": {
      "needs_background": "light"
     },
     "output_type": "display_data"
    }
   ],
   "source": [
    "bweight_amount=df.plot.scatter(x='Entered Weight',y='Net Amount')"
   ]
  },
  {
   "cell_type": "markdown",
   "id": "36adeade",
   "metadata": {},
   "source": [
    "#### Takeaways\n",
    "There is a strong corelation between billed weight and entered weight. Both of them have some correlation on the net amount."
   ]
  },
  {
   "cell_type": "markdown",
   "id": "5435b2e8",
   "metadata": {},
   "source": [
    "#### Correlation Analysis"
   ]
  },
  {
   "cell_type": "code",
   "execution_count": 290,
   "id": "518ee632",
   "metadata": {},
   "outputs": [
    {
     "data": {
      "image/png": "[encoded data removed]",
      "text/plain": [
       "<Figure size 576x432 with 2 Axes>"
      ]
     },
     "metadata": {
      "needs_background": "light"
     },
     "output_type": "display_data"
    }
   ],
   "source": [
    "plt.figure(figsize=[8,6])\n",
    "sns.heatmap(df.corr(), annot=True, cmap='Blues')\n",
    "plt.show()"
   ]
  },
  {
   "cell_type": "markdown",
   "id": "c1014364",
   "metadata": {},
   "source": [
    "#### Analysis of 'Transaction Date'"
   ]
  },
  {
   "cell_type": "code",
   "execution_count": 225,
   "id": "f1b5dd6c",
   "metadata": {},
   "outputs": [],
   "source": [
    "import datetime"
   ]
  },
  {
   "cell_type": "code",
   "execution_count": 228,
   "id": "217c5829",
   "metadata": {},
   "outputs": [
    {
     "data": {
      "text/html": [
       "<div>\n",
       "<style scoped>\n",
       "    .dataframe tbody tr th:only-of-type {\n",
       "        vertical-align: middle;\n",
       "    }\n",
       "\n",
       "    .dataframe tbody tr th {\n",
       "        vertical-align: top;\n",
       "    }\n",
       "\n",
       "    .dataframe thead th {\n",
       "        text-align: right;\n",
       "    }\n",
       "</style>\n",
       "<table border=\"1\" class=\"dataframe\">\n",
       "  <thead>\n",
       "    <tr style=\"text-align: right;\">\n",
       "      <th></th>\n",
       "      <th>Invoice Date</th>\n",
       "      <th>Transaction Date</th>\n",
       "      <th>Package Quantity</th>\n",
       "      <th>Oversize Quantity</th>\n",
       "      <th>Tracking Number</th>\n",
       "      <th>Entered Weight</th>\n",
       "      <th>Billed Weight</th>\n",
       "      <th>Zone</th>\n",
       "      <th>Charge Description</th>\n",
       "      <th>Net Amount</th>\n",
       "      <th>Sender Postal</th>\n",
       "      <th>Receiver Postal</th>\n",
       "      <th>diff</th>\n",
       "      <th>new</th>\n",
       "      <th>Distance</th>\n",
       "      <th>year</th>\n",
       "      <th>month</th>\n",
       "    </tr>\n",
       "  </thead>\n",
       "  <tbody>\n",
       "    <tr>\n",
       "      <th>0</th>\n",
       "      <td>2017-08-05</td>\n",
       "      <td>2017-08-03</td>\n",
       "      <td>1</td>\n",
       "      <td>0</td>\n",
       "      <td>1Z6VY3400377024016</td>\n",
       "      <td>16.0</td>\n",
       "      <td>16</td>\n",
       "      <td>2.0</td>\n",
       "      <td>Ground Commercial Collect</td>\n",
       "      <td>5.66</td>\n",
       "      <td>08691</td>\n",
       "      <td>08512</td>\n",
       "      <td>0.0</td>\n",
       "      <td>08691</td>\n",
       "      <td>[]</td>\n",
       "      <td>2017</td>\n",
       "      <td>8</td>\n",
       "    </tr>\n",
       "    <tr>\n",
       "      <th>1</th>\n",
       "      <td>2017-08-05</td>\n",
       "      <td>2017-08-03</td>\n",
       "      <td>0</td>\n",
       "      <td>0</td>\n",
       "      <td>1Z6VY3400377024016</td>\n",
       "      <td>0.0</td>\n",
       "      <td>0</td>\n",
       "      <td>2.0</td>\n",
       "      <td>Fuel Surcharge</td>\n",
       "      <td>0.27</td>\n",
       "      <td>08691</td>\n",
       "      <td>08512</td>\n",
       "      <td>0.0</td>\n",
       "      <td>08691</td>\n",
       "      <td>[]</td>\n",
       "      <td>2017</td>\n",
       "      <td>8</td>\n",
       "    </tr>\n",
       "    <tr>\n",
       "      <th>2</th>\n",
       "      <td>2017-08-05</td>\n",
       "      <td>2017-08-03</td>\n",
       "      <td>1</td>\n",
       "      <td>0</td>\n",
       "      <td>1Z6VY3400377025195</td>\n",
       "      <td>38.4</td>\n",
       "      <td>39</td>\n",
       "      <td>2.0</td>\n",
       "      <td>Ground Commercial Collect</td>\n",
       "      <td>6.42</td>\n",
       "      <td>08691</td>\n",
       "      <td>08512</td>\n",
       "      <td>0.6</td>\n",
       "      <td>08691</td>\n",
       "      <td>[]</td>\n",
       "      <td>2017</td>\n",
       "      <td>8</td>\n",
       "    </tr>\n",
       "    <tr>\n",
       "      <th>3</th>\n",
       "      <td>2017-08-05</td>\n",
       "      <td>2017-08-03</td>\n",
       "      <td>0</td>\n",
       "      <td>0</td>\n",
       "      <td>1Z6VY3400377025195</td>\n",
       "      <td>0.0</td>\n",
       "      <td>0</td>\n",
       "      <td>2.0</td>\n",
       "      <td>Fuel Surcharge</td>\n",
       "      <td>0.30</td>\n",
       "      <td>08691</td>\n",
       "      <td>08512</td>\n",
       "      <td>0.0</td>\n",
       "      <td>08691</td>\n",
       "      <td>[]</td>\n",
       "      <td>2017</td>\n",
       "      <td>8</td>\n",
       "    </tr>\n",
       "    <tr>\n",
       "      <th>4</th>\n",
       "      <td>2017-08-05</td>\n",
       "      <td>2017-08-03</td>\n",
       "      <td>1</td>\n",
       "      <td>0</td>\n",
       "      <td>1Z6VY3400377025239</td>\n",
       "      <td>19.2</td>\n",
       "      <td>20</td>\n",
       "      <td>2.0</td>\n",
       "      <td>Ground Commercial Collect</td>\n",
       "      <td>5.66</td>\n",
       "      <td>08691</td>\n",
       "      <td>08512</td>\n",
       "      <td>0.8</td>\n",
       "      <td>08691</td>\n",
       "      <td>[]</td>\n",
       "      <td>2017</td>\n",
       "      <td>8</td>\n",
       "    </tr>\n",
       "  </tbody>\n",
       "</table>\n",
       "</div>"
      ],
      "text/plain": [
       "  Invoice Date Transaction Date  Package Quantity  Oversize Quantity  \\\n",
       "0   2017-08-05       2017-08-03                 1                  0   \n",
       "1   2017-08-05       2017-08-03                 0                  0   \n",
       "2   2017-08-05       2017-08-03                 1                  0   \n",
       "3   2017-08-05       2017-08-03                 0                  0   \n",
       "4   2017-08-05       2017-08-03                 1                  0   \n",
       "\n",
       "      Tracking Number  Entered Weight  Billed Weight  Zone  \\\n",
       "0  1Z6VY3400377024016            16.0             16   2.0   \n",
       "1  1Z6VY3400377024016             0.0              0   2.0   \n",
       "2  1Z6VY3400377025195            38.4             39   2.0   \n",
       "3  1Z6VY3400377025195             0.0              0   2.0   \n",
       "4  1Z6VY3400377025239            19.2             20   2.0   \n",
       "\n",
       "          Charge Description  Net Amount Sender Postal Receiver Postal  diff  \\\n",
       "0  Ground Commercial Collect        5.66         08691           08512   0.0   \n",
       "1             Fuel Surcharge        0.27         08691           08512   0.0   \n",
       "2  Ground Commercial Collect        6.42         08691           08512   0.6   \n",
       "3             Fuel Surcharge        0.30         08691           08512   0.0   \n",
       "4  Ground Commercial Collect        5.66         08691           08512   0.8   \n",
       "\n",
       "     new Distance  year  month  \n",
       "0  08691       []  2017      8  \n",
       "1  08691       []  2017      8  \n",
       "2  08691       []  2017      8  \n",
       "3  08691       []  2017      8  \n",
       "4  08691       []  2017      8  "
      ]
     },
     "execution_count": 228,
     "metadata": {},
     "output_type": "execute_result"
    }
   ],
   "source": [
    "df['month'] = pd.DatetimeIndex(df['Transaction Date']).month\n",
    "df.head()"
   ]
  },
  {
   "cell_type": "code",
   "execution_count": 229,
   "id": "afcc5a10",
   "metadata": {},
   "outputs": [
    {
     "data": {
      "text/plain": [
       "Timestamp('2017-08-05 00:00:00')"
      ]
     },
     "execution_count": 229,
     "metadata": {},
     "output_type": "execute_result"
    }
   ],
   "source": [
    "df['Transaction Date'].max()"
   ]
  },
  {
   "cell_type": "code",
   "execution_count": 230,
   "id": "82ab020d",
   "metadata": {},
   "outputs": [
    {
     "data": {
      "text/plain": [
       "Timestamp('2017-06-19 00:00:00')"
      ]
     },
     "execution_count": 230,
     "metadata": {},
     "output_type": "execute_result"
    }
   ],
   "source": [
    "df['Transaction Date'].min()"
   ]
  },
  {
   "cell_type": "markdown",
   "id": "54ac9561",
   "metadata": {},
   "source": [
    "#### Number of monthly transactions"
   ]
  },
  {
   "cell_type": "code",
   "execution_count": 253,
   "id": "84684031",
   "metadata": {},
   "outputs": [],
   "source": [
    "month_n=df.groupby(['month'])['Transaction Date'].count().reset_index()"
   ]
  },
  {
   "cell_type": "code",
   "execution_count": 279,
   "id": "fa2c9aac",
   "metadata": {},
   "outputs": [],
   "source": [
    "month_n.columns=['month','Number of Transactions']"
   ]
  },
  {
   "cell_type": "code",
   "execution_count": 283,
   "id": "d4cf41c1",
   "metadata": {},
   "outputs": [
    {
     "data": {
      "text/html": [
       "<div>\n",
       "<style scoped>\n",
       "    .dataframe tbody tr th:only-of-type {\n",
       "        vertical-align: middle;\n",
       "    }\n",
       "\n",
       "    .dataframe tbody tr th {\n",
       "        vertical-align: top;\n",
       "    }\n",
       "\n",
       "    .dataframe thead th {\n",
       "        text-align: right;\n",
       "    }\n",
       "</style>\n",
       "<table border=\"1\" class=\"dataframe\">\n",
       "  <thead>\n",
       "    <tr style=\"text-align: right;\">\n",
       "      <th></th>\n",
       "      <th>month</th>\n",
       "      <th>Number of Transactions</th>\n",
       "    </tr>\n",
       "  </thead>\n",
       "  <tbody>\n",
       "    <tr>\n",
       "      <th>0</th>\n",
       "      <td>6</td>\n",
       "      <td>20.08</td>\n",
       "    </tr>\n",
       "    <tr>\n",
       "      <th>1</th>\n",
       "      <td>7</td>\n",
       "      <td>91413.63</td>\n",
       "    </tr>\n",
       "    <tr>\n",
       "      <th>2</th>\n",
       "      <td>8</td>\n",
       "      <td>54686.18</td>\n",
       "    </tr>\n",
       "  </tbody>\n",
       "</table>\n",
       "</div>"
      ],
      "text/plain": [
       "   month  Number of Transactions\n",
       "0      6                   20.08\n",
       "1      7                91413.63\n",
       "2      8                54686.18"
      ]
     },
     "execution_count": 283,
     "metadata": {},
     "output_type": "execute_result"
    }
   ],
   "source": [
    "month_n.head()"
   ]
  },
  {
   "cell_type": "code",
   "execution_count": 282,
   "id": "30c986da",
   "metadata": {},
   "outputs": [
    {
     "data": {
      "image/png": "[encoded data removed]",
      "text/plain": [
       "<Figure size 576x288 with 1 Axes>"
      ]
     },
     "metadata": {
      "needs_background": "light"
     },
     "output_type": "display_data"
    }
   ],
   "source": [
    "plt.figure(figsize=(8,4))\n",
    "sns.barplot(x=month_n['month'],y=month_n['Number of Transactions'],data=month_n)\n",
    "plt.show()"
   ]
  },
  {
   "cell_type": "markdown",
   "id": "f75021f0",
   "metadata": {},
   "source": [
    "#### Net Amount per Month"
   ]
  },
  {
   "cell_type": "code",
   "execution_count": 284,
   "id": "e908d101",
   "metadata": {},
   "outputs": [],
   "source": [
    "month_n_amt=df.groupby(['month'])['Net Amount'].sum().reset_index()"
   ]
  },
  {
   "cell_type": "code",
   "execution_count": 285,
   "id": "a591b139",
   "metadata": {},
   "outputs": [
    {
     "data": {
      "text/html": [
       "<div>\n",
       "<style scoped>\n",
       "    .dataframe tbody tr th:only-of-type {\n",
       "        vertical-align: middle;\n",
       "    }\n",
       "\n",
       "    .dataframe tbody tr th {\n",
       "        vertical-align: top;\n",
       "    }\n",
       "\n",
       "    .dataframe thead th {\n",
       "        text-align: right;\n",
       "    }\n",
       "</style>\n",
       "<table border=\"1\" class=\"dataframe\">\n",
       "  <thead>\n",
       "    <tr style=\"text-align: right;\">\n",
       "      <th></th>\n",
       "      <th>month</th>\n",
       "      <th>Net Amount</th>\n",
       "    </tr>\n",
       "  </thead>\n",
       "  <tbody>\n",
       "    <tr>\n",
       "      <th>0</th>\n",
       "      <td>6</td>\n",
       "      <td>20.08</td>\n",
       "    </tr>\n",
       "    <tr>\n",
       "      <th>1</th>\n",
       "      <td>7</td>\n",
       "      <td>91413.63</td>\n",
       "    </tr>\n",
       "    <tr>\n",
       "      <th>2</th>\n",
       "      <td>8</td>\n",
       "      <td>54686.18</td>\n",
       "    </tr>\n",
       "  </tbody>\n",
       "</table>\n",
       "</div>"
      ],
      "text/plain": [
       "   month  Net Amount\n",
       "0      6       20.08\n",
       "1      7    91413.63\n",
       "2      8    54686.18"
      ]
     },
     "execution_count": 285,
     "metadata": {},
     "output_type": "execute_result"
    }
   ],
   "source": [
    "month_n_amt.head()"
   ]
  },
  {
   "cell_type": "code",
   "execution_count": 286,
   "id": "68a1daed",
   "metadata": {},
   "outputs": [
    {
     "data": {
      "image/png": "[encoded data removed]",
      "text/plain": [
       "<Figure size 576x288 with 1 Axes>"
      ]
     },
     "metadata": {
      "needs_background": "light"
     },
     "output_type": "display_data"
    }
   ],
   "source": [
    "plt.figure(figsize=(8,4))\n",
    "sns.barplot(x=month_n_amt['month'],y=month_n_amt['Net Amount'],data=month_n_amt)\n",
    "plt.show()"
   ]
  },
  {
   "cell_type": "code",
   "execution_count": 244,
   "id": "b362d19b",
   "metadata": {},
   "outputs": [],
   "source": [
    "month_t=df.groupby(['month','Charge Description'])['Net Amount'].sum().reset_index()"
   ]
  },
  {
   "cell_type": "code",
   "execution_count": 278,
   "id": "785a281c",
   "metadata": {},
   "outputs": [
    {
     "data": {
      "text/html": [
       "<div>\n",
       "<style scoped>\n",
       "    .dataframe tbody tr th:only-of-type {\n",
       "        vertical-align: middle;\n",
       "    }\n",
       "\n",
       "    .dataframe tbody tr th {\n",
       "        vertical-align: top;\n",
       "    }\n",
       "\n",
       "    .dataframe thead th {\n",
       "        text-align: right;\n",
       "    }\n",
       "</style>\n",
       "<table border=\"1\" class=\"dataframe\">\n",
       "  <thead>\n",
       "    <tr style=\"text-align: right;\">\n",
       "      <th></th>\n",
       "      <th>month</th>\n",
       "      <th>Charge Description</th>\n",
       "      <th>Net Amount</th>\n",
       "    </tr>\n",
       "  </thead>\n",
       "  <tbody>\n",
       "    <tr>\n",
       "      <th>0</th>\n",
       "      <td>6</td>\n",
       "      <td>Not Previously Billed Delivery Area Surcharge</td>\n",
       "      <td>1.95</td>\n",
       "    </tr>\n",
       "    <tr>\n",
       "      <th>1</th>\n",
       "      <td>6</td>\n",
       "      <td>Not Previously Billed Fuel Surcharge</td>\n",
       "      <td>0.81</td>\n",
       "    </tr>\n",
       "    <tr>\n",
       "      <th>2</th>\n",
       "      <td>6</td>\n",
       "      <td>Not Previously Billed Ground Residential</td>\n",
       "      <td>11.32</td>\n",
       "    </tr>\n",
       "    <tr>\n",
       "      <th>3</th>\n",
       "      <td>6</td>\n",
       "      <td>Not Previously Billed Residential Surcharge</td>\n",
       "      <td>3.74</td>\n",
       "    </tr>\n",
       "    <tr>\n",
       "      <th>4</th>\n",
       "      <td>6</td>\n",
       "      <td>Shipping Charge Correction Fuel Surcharge</td>\n",
       "      <td>0.11</td>\n",
       "    </tr>\n",
       "    <tr>\n",
       "      <th>...</th>\n",
       "      <td>...</td>\n",
       "      <td>...</td>\n",
       "      <td>...</td>\n",
       "    </tr>\n",
       "    <tr>\n",
       "      <th>91</th>\n",
       "      <td>8</td>\n",
       "      <td>Shipping Charge Correction Ground Undeliverabl...</td>\n",
       "      <td>1.30</td>\n",
       "    </tr>\n",
       "    <tr>\n",
       "      <th>92</th>\n",
       "      <td>8</td>\n",
       "      <td>Shipping Charge Correction Large Package Surch...</td>\n",
       "      <td>1288.00</td>\n",
       "    </tr>\n",
       "    <tr>\n",
       "      <th>93</th>\n",
       "      <td>8</td>\n",
       "      <td>Shipping Charge Correction Next Day Air</td>\n",
       "      <td>172.77</td>\n",
       "    </tr>\n",
       "    <tr>\n",
       "      <th>94</th>\n",
       "      <td>8</td>\n",
       "      <td>Shipping Charge Correction Next Day Air Saver</td>\n",
       "      <td>89.07</td>\n",
       "    </tr>\n",
       "    <tr>\n",
       "      <th>95</th>\n",
       "      <td>8</td>\n",
       "      <td>Shipping Charge Correction Over Maximum Size</td>\n",
       "      <td>150.00</td>\n",
       "    </tr>\n",
       "  </tbody>\n",
       "</table>\n",
       "<p>96 rows × 3 columns</p>\n",
       "</div>"
      ],
      "text/plain": [
       "    month                                 Charge Description  Net Amount\n",
       "0       6      Not Previously Billed Delivery Area Surcharge        1.95\n",
       "1       6               Not Previously Billed Fuel Surcharge        0.81\n",
       "2       6           Not Previously Billed Ground Residential       11.32\n",
       "3       6        Not Previously Billed Residential Surcharge        3.74\n",
       "4       6          Shipping Charge Correction Fuel Surcharge        0.11\n",
       "..    ...                                                ...         ...\n",
       "91      8  Shipping Charge Correction Ground Undeliverabl...        1.30\n",
       "92      8  Shipping Charge Correction Large Package Surch...     1288.00\n",
       "93      8            Shipping Charge Correction Next Day Air      172.77\n",
       "94      8      Shipping Charge Correction Next Day Air Saver       89.07\n",
       "95      8       Shipping Charge Correction Over Maximum Size      150.00\n",
       "\n",
       "[96 rows x 3 columns]"
      ]
     },
     "execution_count": 278,
     "metadata": {},
     "output_type": "execute_result"
    }
   ],
   "source": [
    "month_t"
   ]
  },
  {
   "cell_type": "code",
   "execution_count": 251,
   "id": "94bc2695",
   "metadata": {},
   "outputs": [
    {
     "data": {
      "text/html": [
       "<div>\n",
       "<style scoped>\n",
       "    .dataframe tbody tr th:only-of-type {\n",
       "        vertical-align: middle;\n",
       "    }\n",
       "\n",
       "    .dataframe tbody tr th {\n",
       "        vertical-align: top;\n",
       "    }\n",
       "\n",
       "    .dataframe thead th {\n",
       "        text-align: right;\n",
       "    }\n",
       "</style>\n",
       "<table border=\"1\" class=\"dataframe\">\n",
       "  <thead>\n",
       "    <tr style=\"text-align: right;\">\n",
       "      <th></th>\n",
       "      <th>month</th>\n",
       "      <th>Charge Description</th>\n",
       "      <th>Net Amount</th>\n",
       "    </tr>\n",
       "  </thead>\n",
       "  <tbody>\n",
       "    <tr>\n",
       "      <th>16</th>\n",
       "      <td>7</td>\n",
       "      <td>Fuel Surcharge</td>\n",
       "      <td>3685.49</td>\n",
       "    </tr>\n",
       "    <tr>\n",
       "      <th>69</th>\n",
       "      <td>8</td>\n",
       "      <td>Fuel Surcharge</td>\n",
       "      <td>2239.26</td>\n",
       "    </tr>\n",
       "  </tbody>\n",
       "</table>\n",
       "</div>"
      ],
      "text/plain": [
       "    month Charge Description  Net Amount\n",
       "16      7     Fuel Surcharge     3685.49\n",
       "69      8     Fuel Surcharge     2239.26"
      ]
     },
     "execution_count": 251,
     "metadata": {},
     "output_type": "execute_result"
    }
   ],
   "source": [
    "month_t[month_t['Charge Description']=='Fuel Surcharge']"
   ]
  },
  {
   "cell_type": "code",
   "execution_count": 252,
   "id": "f72ba547",
   "metadata": {},
   "outputs": [
    {
     "data": {
      "text/html": [
       "<div>\n",
       "<style scoped>\n",
       "    .dataframe tbody tr th:only-of-type {\n",
       "        vertical-align: middle;\n",
       "    }\n",
       "\n",
       "    .dataframe tbody tr th {\n",
       "        vertical-align: top;\n",
       "    }\n",
       "\n",
       "    .dataframe thead th {\n",
       "        text-align: right;\n",
       "    }\n",
       "</style>\n",
       "<table border=\"1\" class=\"dataframe\">\n",
       "  <thead>\n",
       "    <tr style=\"text-align: right;\">\n",
       "      <th></th>\n",
       "      <th>month</th>\n",
       "      <th>Charge Description</th>\n",
       "      <th>Net Amount</th>\n",
       "    </tr>\n",
       "  </thead>\n",
       "  <tbody>\n",
       "    <tr>\n",
       "      <th>26</th>\n",
       "      <td>7</td>\n",
       "      <td>Ground Residential</td>\n",
       "      <td>35034.34</td>\n",
       "    </tr>\n",
       "    <tr>\n",
       "      <th>72</th>\n",
       "      <td>8</td>\n",
       "      <td>Ground Residential</td>\n",
       "      <td>15941.43</td>\n",
       "    </tr>\n",
       "  </tbody>\n",
       "</table>\n",
       "</div>"
      ],
      "text/plain": [
       "    month  Charge Description  Net Amount\n",
       "26      7  Ground Residential    35034.34\n",
       "72      8  Ground Residential    15941.43"
      ]
     },
     "execution_count": 252,
     "metadata": {},
     "output_type": "execute_result"
    }
   ],
   "source": [
    "month_t[month_t['Charge Description']=='Ground Residential']"
   ]
  },
  {
   "cell_type": "markdown",
   "id": "03eb509a",
   "metadata": {},
   "source": [
    "#### Avg Net Amount per Month"
   ]
  },
  {
   "cell_type": "code",
   "execution_count": 291,
   "id": "84b59a43",
   "metadata": {},
   "outputs": [],
   "source": [
    "month_t_avg=df.groupby(['month','Charge Description'])['Net Amount'].mean().reset_index()"
   ]
  },
  {
   "cell_type": "code",
   "execution_count": 292,
   "id": "d1546607",
   "metadata": {},
   "outputs": [
    {
     "data": {
      "text/html": [
       "<div>\n",
       "<style scoped>\n",
       "    .dataframe tbody tr th:only-of-type {\n",
       "        vertical-align: middle;\n",
       "    }\n",
       "\n",
       "    .dataframe tbody tr th {\n",
       "        vertical-align: top;\n",
       "    }\n",
       "\n",
       "    .dataframe thead th {\n",
       "        text-align: right;\n",
       "    }\n",
       "</style>\n",
       "<table border=\"1\" class=\"dataframe\">\n",
       "  <thead>\n",
       "    <tr style=\"text-align: right;\">\n",
       "      <th></th>\n",
       "      <th>month</th>\n",
       "      <th>Charge Description</th>\n",
       "      <th>Net Amount</th>\n",
       "    </tr>\n",
       "  </thead>\n",
       "  <tbody>\n",
       "    <tr>\n",
       "      <th>16</th>\n",
       "      <td>7</td>\n",
       "      <td>Fuel Surcharge</td>\n",
       "      <td>0.412616</td>\n",
       "    </tr>\n",
       "    <tr>\n",
       "      <th>69</th>\n",
       "      <td>8</td>\n",
       "      <td>Fuel Surcharge</td>\n",
       "      <td>0.377361</td>\n",
       "    </tr>\n",
       "  </tbody>\n",
       "</table>\n",
       "</div>"
      ],
      "text/plain": [
       "    month Charge Description  Net Amount\n",
       "16      7     Fuel Surcharge    0.412616\n",
       "69      8     Fuel Surcharge    0.377361"
      ]
     },
     "execution_count": 292,
     "metadata": {},
     "output_type": "execute_result"
    }
   ],
   "source": [
    "month_t_avg[month_t_avg['Charge Description']=='Fuel Surcharge']"
   ]
  },
  {
   "cell_type": "code",
   "execution_count": 293,
   "id": "cf0b632a",
   "metadata": {},
   "outputs": [
    {
     "data": {
      "text/html": [
       "<div>\n",
       "<style scoped>\n",
       "    .dataframe tbody tr th:only-of-type {\n",
       "        vertical-align: middle;\n",
       "    }\n",
       "\n",
       "    .dataframe tbody tr th {\n",
       "        vertical-align: top;\n",
       "    }\n",
       "\n",
       "    .dataframe thead th {\n",
       "        text-align: right;\n",
       "    }\n",
       "</style>\n",
       "<table border=\"1\" class=\"dataframe\">\n",
       "  <thead>\n",
       "    <tr style=\"text-align: right;\">\n",
       "      <th></th>\n",
       "      <th>month</th>\n",
       "      <th>Charge Description</th>\n",
       "      <th>Net Amount</th>\n",
       "    </tr>\n",
       "  </thead>\n",
       "  <tbody>\n",
       "    <tr>\n",
       "      <th>26</th>\n",
       "      <td>7</td>\n",
       "      <td>Ground Residential</td>\n",
       "      <td>5.226666</td>\n",
       "    </tr>\n",
       "    <tr>\n",
       "      <th>72</th>\n",
       "      <td>8</td>\n",
       "      <td>Ground Residential</td>\n",
       "      <td>4.827810</td>\n",
       "    </tr>\n",
       "  </tbody>\n",
       "</table>\n",
       "</div>"
      ],
      "text/plain": [
       "    month  Charge Description  Net Amount\n",
       "26      7  Ground Residential    5.226666\n",
       "72      8  Ground Residential    4.827810"
      ]
     },
     "execution_count": 293,
     "metadata": {},
     "output_type": "execute_result"
    }
   ],
   "source": [
    "month_t_avg[month_t_avg['Charge Description']=='Ground Residential']"
   ]
  }
 ],
 "metadata": {
  "kernelspec": {
   "display_name": "Python 3",
   "language": "python",
   "name": "python3"
  },
  "language_info": {
   "codemirror_mode": {
    "name": "ipython",
    "version": 3
   },
   "file_extension": ".py",
   "mimetype": "text/x-python",
   "name": "python",
   "nbconvert_exporter": "python",
   "pygments_lexer": "ipython3",
   "version": "3.8.8"
  }
 },
 "nbformat": 4,
 "nbformat_minor": 5
}
